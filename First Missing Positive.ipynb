{
 "cells": [
  {
   "cell_type": "code",
   "execution_count": 6,
   "metadata": {},
   "outputs": [],
   "source": [
    "# Given an unsorted integer array, find the smallest missing positive integer.\n",
    "\n",
    "# Example 1:\n",
    "\n",
    "# Input: [1,2,0]\n",
    "# Output: 3\n",
    "# Example 2:\n",
    "\n",
    "# Input: [3,4,-1,1]\n",
    "# Output: 2\n",
    "# Example 3:\n",
    "\n",
    "# Input: [7,8,9,11,12]\n",
    "# Output: 1"
   ]
  },
  {
   "cell_type": "code",
   "execution_count": null,
   "metadata": {},
   "outputs": [],
   "source": [
    "# Algorithm\n",
    "\n",
    "# Now everything is ready to write down the algorithm.\n",
    "\n",
    "# Check if 1 is present in the array. If not, you're done and 1 is the answer.\n",
    "# If nums = [1], the answer is 2.\n",
    "# Replace negative numbers, zeros, and numbers larger than n by 1s.\n",
    "# Walk along the array. Change the sign of a-th element if you meet number a. Be careful with duplicates : do sign change only once. Use index 0 to save an information about presence of number n since index n is not available.\n",
    "# Walk again along the array. Return the index of the first positive element.\n",
    "# If nums[0] > 0 return n.\n",
    "# If on the previous step you didn't find the positive element in nums, that means that the answer is n + 1.\n",
    "# Implementation"
   ]
  },
  {
   "cell_type": "code",
   "execution_count": 4,
   "metadata": {},
   "outputs": [],
   "source": [
    "def firstpositve(nums):\n",
    "    \n",
    "   \n",
    "    #len of input array\n",
    "    n=len(nums)\n",
    "      #maximum positive number that can exist is n+1\n",
    "    #if 1 is not present in list then it will be 1\n",
    "    \n",
    "    if 1 not in nums:\n",
    "        return 1\n",
    "    \n",
    "    #we don't need numbers lesser than or equal to 0 or number greater than n so we will set their value to 1\n",
    "    for i in range(n):\n",
    "        if nums[i]<=0 or nums[i]>n:\n",
    "            nums[i]=1\n",
    "            \n",
    "    #we are doing this next trick for doing in constant space complexity \n",
    "    \n",
    "    for i in range(0,n):\n",
    "        \n",
    "        index=abs(nums[i])\n",
    "        \n",
    "        if index==n:\n",
    "            nums[0]=-abs(nums[0])\n",
    "        else:\n",
    "            nums[index]=-abs(nums[index])\n",
    "            \n",
    "    #first positve number is our first missing number\n",
    "    for i in range(1,n):\n",
    "        if nums[i]>0:\n",
    "            return i\n",
    "        \n",
    "    #if all numbers are negative in previous loop then we check nth index\n",
    "    \n",
    "    if nums[0]>0:\n",
    "        return n\n",
    "    \n",
    "    return n+1"
   ]
  },
  {
   "cell_type": "code",
   "execution_count": 5,
   "metadata": {},
   "outputs": [
    {
     "data": {
      "text/plain": [
       "3"
      ]
     },
     "execution_count": 5,
     "metadata": {},
     "output_type": "execute_result"
    }
   ],
   "source": [
    "nums=[1,2,0]\n",
    "firstpositve(nums)\n"
   ]
  },
  {
   "cell_type": "code",
   "execution_count": null,
   "metadata": {},
   "outputs": [],
   "source": []
  }
 ],
 "metadata": {
  "kernelspec": {
   "display_name": "Python 3",
   "language": "python",
   "name": "python3"
  },
  "language_info": {
   "codemirror_mode": {
    "name": "ipython",
    "version": 3
   },
   "file_extension": ".py",
   "mimetype": "text/x-python",
   "name": "python",
   "nbconvert_exporter": "python",
   "pygments_lexer": "ipython3",
   "version": "3.6.8"
  }
 },
 "nbformat": 4,
 "nbformat_minor": 2
}
