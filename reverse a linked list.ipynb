{
 "cells": [
  {
   "cell_type": "code",
   "execution_count": null,
   "metadata": {},
   "outputs": [],
   "source": [
    "# Reverse a singly linked list.\n",
    "\n",
    "# Example:\n",
    "\n",
    "# Input: 1->2->3->4->5->NULL\n",
    "# Output: 5->4->3->2->1->NULL\n",
    "# Follow up:\n",
    "\n",
    "# A linked list can be reversed either iteratively or recursively. Could you implement both?"
   ]
  },
  {
   "cell_type": "code",
   "execution_count": 1,
   "metadata": {},
   "outputs": [],
   "source": [
    "def reverselinkedlist(self,head):\n",
    "    prev=None\n",
    "    curr=head\n",
    "    next=None\n",
    "    while head is not None:\n",
    "        next=curr.next\n",
    "        curr.next=prev\n",
    "        prev=curr\n",
    "        curr=next\n",
    "        \n",
    "    return prev\n",
    "        "
   ]
  },
  {
   "cell_type": "code",
   "execution_count": null,
   "metadata": {},
   "outputs": [],
   "source": []
  }
 ],
 "metadata": {
  "kernelspec": {
   "display_name": "Python 3",
   "language": "python",
   "name": "python3"
  },
  "language_info": {
   "codemirror_mode": {
    "name": "ipython",
    "version": 3
   },
   "file_extension": ".py",
   "mimetype": "text/x-python",
   "name": "python",
   "nbconvert_exporter": "python",
   "pygments_lexer": "ipython3",
   "version": "3.6.8"
  }
 },
 "nbformat": 4,
 "nbformat_minor": 2
}
