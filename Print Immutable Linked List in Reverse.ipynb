{
 "cells": [
  {
   "cell_type": "code",
   "execution_count": null,
   "metadata": {},
   "outputs": [],
   "source": [
    "# You are given an immutable linked list, print out all values of each node in reverse with the help of the following interface:\n",
    "\n",
    "# ImmutableListNode: An interface of immutable linked list, you are given the head of the list.\n",
    "# You need to use the following functions to access the linked list (you can't access the ImmutableListNode directly):\n",
    "\n",
    "# ImmutableListNode.printValue(): Print value of the current node.\n",
    "# ImmutableListNode.getNext(): Return the next node.\n",
    "# The input is only given to initialize the linked list internally. You must solve this problem without modifying the linked list. In other words, you must operate the linked list using only the mentioned APIs.\n",
    "\n",
    " \n",
    "\n",
    "# Follow up:\n",
    "\n",
    "# Could you solve this problem in:\n",
    "\n",
    "# Constant space complexity?\n",
    "# Linear time complexity and less than linear space complexity?\n",
    " \n",
    "\n",
    "# Example 1:\n",
    "\n",
    "# Input: head = [1,2,3,4]\n",
    "# Output: [4,3,2,1]"
   ]
  },
  {
   "cell_type": "code",
   "execution_count": null,
   "metadata": {},
   "outputs": [],
   "source": [
    "def printLinkedListInReverse(self, head: 'ImmutableListNode') -> None:\n",
    "        emptylist=[]\n",
    "        while head is not None:\n",
    "            emptylist.append(head)\n",
    "            head = head.getNext()\n",
    "            \n",
    "        [k.printValue() for k in reversed(emptylist)]\n"
   ]
  },
  {
   "cell_type": "code",
   "execution_count": null,
   "metadata": {},
   "outputs": [],
   "source": []
  }
 ],
 "metadata": {
  "kernelspec": {
   "display_name": "Python 3",
   "language": "python",
   "name": "python3"
  },
  "language_info": {
   "codemirror_mode": {
    "name": "ipython",
    "version": 3
   },
   "file_extension": ".py",
   "mimetype": "text/x-python",
   "name": "python",
   "nbconvert_exporter": "python",
   "pygments_lexer": "ipython3",
   "version": "3.6.8"
  }
 },
 "nbformat": 4,
 "nbformat_minor": 2
}
