{
 "cells": [
  {
   "cell_type": "code",
   "execution_count": 1,
   "metadata": {},
   "outputs": [],
   "source": [
    "# 88. Merge Sorted Array\n",
    "# Easy\n",
    "\n",
    "# 2393\n",
    "\n",
    "# 4283\n",
    "\n",
    "# Add to List\n",
    "\n",
    "# Share\n",
    "# Given two sorted integer arrays nums1 and nums2, merge nums2 into nums1 as one sorted array.\n",
    "\n",
    "# Note:\n",
    "\n",
    "# The number of elements initialized in nums1 and nums2 are m and n respectively.\n",
    "# You may assume that nums1 has enough space (size that is equal to m + n) to hold additional elements from nums2.\n",
    "# Example:\n",
    "\n",
    "# Input:\n",
    "# nums1 = [1,2,3,0,0,0], m = 3\n",
    "# nums2 = [2,5,6],       n = 3\n",
    "\n",
    "# Output: [1,2,2,3,5,6]\n",
    " \n",
    "\n",
    "# Constraints:\n",
    "\n",
    "# -10^9 <= nums1[i], nums2[i] <= 10^9\n",
    "# nums1.length == m + n\n",
    "# nums2.length == n"
   ]
  },
  {
   "cell_type": "code",
   "execution_count": 7,
   "metadata": {},
   "outputs": [],
   "source": [
    "# #Approach 1:\n",
    "\n",
    "# Approach 1 : Merge and sort\n",
    "# Intuition\n",
    "\n",
    "# The naive approach would be to merge both lists into one and then to sort. \n",
    "# It's a one line solution (2 lines in Java) with a pretty bad time complexity \n",
    "# \\mathcal{O}((n + m)\\log(n + m))O((n+m)log(n+m)) \n",
    "# because here one doesn't profit from the fact that both arrays are already sorted.\n",
    "\n",
    "# Complexity:-O((n+m)log(n+m)) "
   ]
  },
  {
   "cell_type": "code",
   "execution_count": 41,
   "metadata": {},
   "outputs": [],
   "source": [
    "def merge(nums1, m, nums2, n):\n",
    "    nums1=nums1[:m]+nums2\n",
    "    return nums1"
   ]
  },
  {
   "cell_type": "code",
   "execution_count": 42,
   "metadata": {},
   "outputs": [],
   "source": [
    "nums1 = [1,2,3,0,0,0]\n",
    "nums2 = [2,5,6]\n",
    "n = 3\n",
    "m = 3"
   ]
  },
  {
   "cell_type": "code",
   "execution_count": 43,
   "metadata": {},
   "outputs": [
    {
     "data": {
      "text/plain": [
       "[1, 2, 3, 2, 5, 6]"
      ]
     },
     "execution_count": 43,
     "metadata": {},
     "output_type": "execute_result"
    }
   ],
   "source": [
    "merge(nums1, m, nums2, n)"
   ]
  },
  {
   "cell_type": "code",
   "execution_count": 51,
   "metadata": {},
   "outputs": [],
   "source": [
    "#Approach 2\n",
    "# The straightforward implementation would be to set get pointer p1 in the beginning of nums1, p2 in \n",
    "# the beginning of nums2, and push the smallest value in the output array at each step.\n",
    "\n",
    "# Since nums1 is an array used for output, one has to keep first m elements of nums1 \n",
    "# somewhere aside, that means \\mathcal{O}(m)O(m) space complexity for this approach.\n",
    "\n",
    "# Complexity Analysis\n",
    "\n",
    "# Time complexity : \\mathcal{O}(n + m)O(n+m).\n",
    "# Space complexity : \\mathcal{O}(m)O(m).\n",
    "\n",
    "def merge(nums1, m, nums2, n):\n",
    "    \n",
    "    #make a copy of nums1 uptill element m i.e m denotes the number of empty space in a given array\n",
    "    nums1_copy=nums1[:m]\n",
    "    \n",
    "    #since we are not suppose to return anything we overwrite nums1\n",
    "    nums1[:]=[]\n",
    "    #two pointers for nums1 and nums2\n",
    "    p1=0   \n",
    "    p2=0\n",
    "    \n",
    "    #somewhat like merge sort\n",
    "    while p1<m and p2<n:\n",
    "        if nums1_copy[p1]<nums2[p2]:\n",
    "            nums1.append(nums1_copy[p1])\n",
    "            p1+=1\n",
    "            \n",
    "        else:\n",
    "            nums1.append(nums2[p2])\n",
    "            p2+=1\n",
    "            \n",
    "    #for elements left in two arrays\n",
    "    if p1<m:\n",
    "        nums1[p1+p2:]=nums1[p1:]\n",
    "        \n",
    "    if p2<n:\n",
    "        nums1[p1+p2:]=nums2[p2:]\n",
    "        \n",
    "        \n",
    "    return nums1\n",
    "        "
   ]
  },
  {
   "cell_type": "code",
   "execution_count": 56,
   "metadata": {},
   "outputs": [],
   "source": [
    "nums1 = [1,2,3,0,0,0]\n",
    "nums2 = [2,5,6]\n",
    "n = 3\n",
    "m = 3"
   ]
  },
  {
   "cell_type": "code",
   "execution_count": 57,
   "metadata": {},
   "outputs": [
    {
     "data": {
      "text/plain": [
       "[1, 2, 2, 3, 5, 6]"
      ]
     },
     "execution_count": 57,
     "metadata": {},
     "output_type": "execute_result"
    }
   ],
   "source": [
    "merge(nums1, m, nums2, n)"
   ]
  },
  {
   "cell_type": "code",
   "execution_count": 55,
   "metadata": {},
   "outputs": [],
   "source": [
    "# #approch 3\n",
    "# Approach 3 : Two pointers / Start from the end\n",
    "# Intuition\n",
    "\n",
    "# Approach 2 already demonstrates the best possible time complexity \\mathcal{O}(n + m)O(n+m) but still uses an additional space. This is because one has to keep somewhere the elements of array nums1 while overwriting it starting from the beginning.\n",
    "\n",
    "# What if we start to overwrite nums1 from the end, where there is no information yet? Then no additional space is needed.\n",
    "\n",
    "# The set pointer p here is used to track the position of an added element.\n",
    "\n",
    "# Complexity Analysis\n",
    "\n",
    "# Time complexity : \\mathcal{O}(n + m)O(n+m).\n",
    "# Space complexity : \\mathcal{O}(1)O(1).\n",
    "\n",
    "def merge(nums1, m, nums2, n):\n",
    "    \n",
    "    p1=m-1 #last index of nums1\n",
    "    p2=n-1 #last index of nums2\n",
    "    \n",
    "    p=m+n-1  #last index of nums1 , since we will be making changes in nums1 bcuz we are not suppose to return anything\n",
    "    \n",
    "    while p1>=0 and p2>=0:\n",
    "        \n",
    "        if nums1[p1]<nums2[p2]:\n",
    "            nums1[p]=nums2[p2]\n",
    "            p2-=1\n",
    "        else:\n",
    "            nums1[p]=nums1[p1]\n",
    "            p1-=1\n",
    "\n",
    "        p-=1\n",
    "        \n",
    "    nums1[:p2 + 1] = nums2[:p2 + 1]\n",
    "    \n",
    "    return nums1"
   ]
  },
  {
   "cell_type": "code",
   "execution_count": null,
   "metadata": {},
   "outputs": [],
   "source": []
  }
 ],
 "metadata": {
  "kernelspec": {
   "display_name": "Python 3",
   "language": "python",
   "name": "python3"
  },
  "language_info": {
   "codemirror_mode": {
    "name": "ipython",
    "version": 3
   },
   "file_extension": ".py",
   "mimetype": "text/x-python",
   "name": "python",
   "nbconvert_exporter": "python",
   "pygments_lexer": "ipython3",
   "version": "3.6.8"
  }
 },
 "nbformat": 4,
 "nbformat_minor": 2
}
