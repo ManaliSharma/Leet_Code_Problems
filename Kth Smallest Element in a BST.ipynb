{
 "cells": [
  {
   "cell_type": "code",
   "execution_count": null,
   "metadata": {},
   "outputs": [],
   "source": [
    "# Given a binary search tree, write a function kthSmallest to find the kth smallest element in it.\n",
    "\n",
    " \n",
    "\n",
    "# Example 1:\n",
    "\n",
    "# Input: root = [3,1,4,null,2], k = 1\n",
    "#    3\n",
    "#   / \\\n",
    "#  1   4\n",
    "#   \\\n",
    "#    2\n",
    "# Output: 1\n",
    "# Example 2:\n",
    "\n",
    "# Input: root = [5,3,6,2,4,null,null,1], k = 3\n",
    "#        5\n",
    "#       / \\\n",
    "#      3   6\n",
    "#     / \\\n",
    "#    2   4\n",
    "#   /\n",
    "#  1\n",
    "# Output: 3\n",
    "# Follow up:\n",
    "# What if the BST is modified (insert/delete operations) often and you need to find the kth smallest frequently? How would you optimize the kthSmallest routine?\n",
    "\n",
    " \n",
    "\n",
    "# Constraints:\n",
    "\n",
    "# The number of elements of the BST is between 1 to 10^4.\n",
    "# You may assume k is always valid, 1 ≤ k ≤ BST's total elements."
   ]
  }
 ],
 "metadata": {
  "kernelspec": {
   "display_name": "Python 3",
   "language": "python",
   "name": "python3"
  },
  "language_info": {
   "codemirror_mode": {
    "name": "ipython",
    "version": 3
   },
   "file_extension": ".py",
   "mimetype": "text/x-python",
   "name": "python",
   "nbconvert_exporter": "python",
   "pygments_lexer": "ipython3",
   "version": "3.6.8"
  }
 },
 "nbformat": 4,
 "nbformat_minor": 2
}
