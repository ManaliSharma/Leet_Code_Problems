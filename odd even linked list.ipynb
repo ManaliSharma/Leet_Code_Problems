{
 "cells": [
  {
   "cell_type": "code",
   "execution_count": null,
   "metadata": {},
   "outputs": [],
   "source": [
    "# Given a singly linked list, group all odd nodes together followed by the even nodes. Please note here we are talking about the node number and not the value in the nodes.\n",
    "\n",
    "# You should try to do it in place. The program should run in O(1) space complexity and O(nodes) time complexity.\n",
    "\n",
    "# Example 1:\n",
    "\n",
    "# Input: 1->2->3->4->5->NULL\n",
    "# Output: 1->3->5->2->4->NULL\n",
    "# Example 2:\n",
    "\n",
    "# Input: 2->1->3->5->6->4->7->NULL\n",
    "# Output: 2->3->6->7->1->5->4->NULL\n",
    " \n",
    "\n",
    "# Constraints:\n",
    "\n",
    "# The relative order inside both the even and odd groups should remain as it was in the input.\n",
    "# The first node is considered odd, the second node even and so on ...\n",
    "# The length of the linked list is between [0, 10^4]."
   ]
  },
  {
   "cell_type": "code",
   "execution_count": 6,
   "metadata": {},
   "outputs": [],
   "source": [
    "def oddevenlinkedlist(head): #:ListNode):\n",
    "    #we make two linked list one for storing odd node value and another for storing even node values\n",
    "    odds=ListNode(0)   #[0] linked list \n",
    "    evens=ListNode(0)  #[0] linked list \n",
    "    #heads of both even and odd linked list\n",
    "    oddhead=odds\n",
    "    evenhead=evens\n",
    "    #a pointer for checking whether node is even or odd, initially be true because we start from 1st node in linked list\n",
    "    isOdd=True\n",
    "    \n",
    "    while head is not None:\n",
    "        if isOdd:\n",
    "            odds.next=head    #[0->1, since]\n",
    "            odds=odds.next    #[curr ptr in odd linked list is odds.next i.e 1 initially]\n",
    "            \n",
    "        else:\n",
    "            evens.next=head   #[0->2, since]\n",
    "            evens=evens.next  #[curr ptr in even linked list is evens.next i.e 2 initially]\n",
    "            \n",
    "        isOdd=not isOdd    #for switching between odd and even nodes\n",
    "        head=head.next    # in given linked list iterate to next element after adding either odd or even node in respective lists\n",
    "        \n",
    "    evens.next=None       #since we add even linked list to odd linked list the last element of even ll should point to none like 1->3->5->2->4 ->None\n",
    "    odds.next=evenhead.next # evenhead wil give [1,3,5,0,2,4] bt we want [1,3,5,2,4] so evenhead=0+even linked list\n",
    "    \n",
    "    return oddhead.next    #we want [1,3,5,2,4] anf not [0,1,3,5,2,4] and oddhead is 0 + odd linked list"
   ]
  },
  {
   "cell_type": "code",
   "execution_count": null,
   "metadata": {},
   "outputs": [],
   "source": [
    "()"
   ]
  }
 ],
 "metadata": {
  "kernelspec": {
   "display_name": "Python 3",
   "language": "python",
   "name": "python3"
  },
  "language_info": {
   "codemirror_mode": {
    "name": "ipython",
    "version": 3
   },
   "file_extension": ".py",
   "mimetype": "text/x-python",
   "name": "python",
   "nbconvert_exporter": "python",
   "pygments_lexer": "ipython3",
   "version": "3.6.8"
  }
 },
 "nbformat": 4,
 "nbformat_minor": 2
}
