{
 "cells": [
  {
   "cell_type": "code",
   "execution_count": null,
   "metadata": {},
   "outputs": [],
   "source": [
    "# Given a string, find the first non-repeating character in it and return its index. If it doesn't exist, return -1.\n",
    "\n",
    "# Examples:\n",
    "\n",
    "# s = \"leetcode\"\n",
    "# return 0.\n",
    "\n",
    "# s = \"loveleetcode\"\n",
    "# return 2.\n",
    " \n",
    "\n",
    "# Note: You may assume the string contains only lowercase English letters.\n",
    "#First Unique Character in a String\n",
    "\n",
    "\n",
    "def firstUniqChar(s: str) -> int:\n",
    "    #     dict={}\n",
    "    for i in range(len(s)):\n",
    "        x=s.count(s[i])\n",
    "        if x <= 1:\n",
    "            \n",
    "            return (i)\n",
    "            break\n",
    " \n",
    "    return -1"
   ]
  },
  {
   "cell_type": "code",
   "execution_count": 26,
   "metadata": {},
   "outputs": [],
   "source": [
    "def first_uniq(s):\n",
    "    x=len(s)\n",
    "    \n",
    "    z=[]\n",
    "    \n",
    "    for i in set(s):\n",
    "        y=s.count(i)\n",
    "        if y==1:\n",
    "            z.append(s.index(i))\n",
    "    \n",
    "    if len(z)==0:\n",
    "        return -1\n",
    "    else:\n",
    "        z.sort(reverse=False)\n",
    "        return z[0]"
   ]
  },
  {
   "cell_type": "code",
   "execution_count": 27,
   "metadata": {},
   "outputs": [
    {
     "data": {
      "text/plain": [
       "0"
      ]
     },
     "execution_count": 27,
     "metadata": {},
     "output_type": "execute_result"
    }
   ],
   "source": [
    "first_uniq('leetcode')"
   ]
  },
  {
   "cell_type": "code",
   "execution_count": null,
   "metadata": {},
   "outputs": [],
   "source": []
  }
 ],
 "metadata": {
  "kernelspec": {
   "display_name": "Python 3",
   "language": "python",
   "name": "python3"
  },
  "language_info": {
   "codemirror_mode": {
    "name": "ipython",
    "version": 3
   },
   "file_extension": ".py",
   "mimetype": "text/x-python",
   "name": "python",
   "nbconvert_exporter": "python",
   "pygments_lexer": "ipython3",
   "version": "3.6.8"
  }
 },
 "nbformat": 4,
 "nbformat_minor": 2
}
