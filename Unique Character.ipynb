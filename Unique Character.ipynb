{
 "cells": [
  {
   "cell_type": "code",
   "execution_count": null,
   "metadata": {},
   "outputs": [],
   "source": [
    "# Given a string, find the first non-repeating character in it and return its index. If it doesn't exist, return -1.\n",
    "\n",
    "# Examples:\n",
    "\n",
    "# s = \"leetcode\"\n",
    "# return 0.\n",
    "\n",
    "# s = \"loveleetcode\"\n",
    "# return 2.\n",
    " \n",
    "\n",
    "# Note: You may assume the string contains only lowercase English letters.\n",
    "#First Unique Character in a String\n",
    "\n",
    "\n",
    "def firstUniqChar(s: str) -> int:\n",
    "    #     dict={}\n",
    "    for i in range(len(s)):\n",
    "        x=s.count(s[i])\n",
    "        if x <= 1:\n",
    "            \n",
    "            return (i)\n",
    "            break\n",
    " \n",
    "    return -1"
   ]
  }
 ],
 "metadata": {
  "kernelspec": {
   "display_name": "Python 3",
   "language": "python",
   "name": "python3"
  },
  "language_info": {
   "codemirror_mode": {
    "name": "ipython",
    "version": 3
   },
   "file_extension": ".py",
   "mimetype": "text/x-python",
   "name": "python",
   "nbconvert_exporter": "python",
   "pygments_lexer": "ipython3",
   "version": "3.6.8"
  }
 },
 "nbformat": 4,
 "nbformat_minor": 2
}
