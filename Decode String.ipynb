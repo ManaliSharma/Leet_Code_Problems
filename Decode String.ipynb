{
 "cells": [
  {
   "cell_type": "code",
   "execution_count": null,
   "metadata": {},
   "outputs": [],
   "source": [
    "# 394. Decode String\n",
    "# Medium\n",
    "\n",
    "# 3382\n",
    "\n",
    "# 170\n",
    "\n",
    "# Add to List\n",
    "\n",
    "# Share\n",
    "# Given an encoded string, return its decoded string.\n",
    "\n",
    "# The encoding rule is: k[encoded_string], where the encoded_string inside the square brackets is being repeated exactly k times. Note that k is guaranteed to be a positive integer.\n",
    "\n",
    "# You may assume that tche input string is always valid; No extra white spaces, square brackets are well-formed, etc.\n",
    "\n",
    "# Furthermore, you may assume that the original data does not contain any digits and that digits are only for those repeat numbers, k. For example, there won't be input like 3a or 2[4].\n",
    "\n",
    " \n",
    "\n",
    "# Example 1:\n",
    "\n",
    "# Input: s = \"3[a]2[bc]\"\n",
    "# Output: \"aaabcbc\"\n",
    "# Example 2:\n",
    "\n",
    "# Input: s = \"3[a2[c]]\"\n",
    "# Output: \"accaccacc\"\n",
    "# Example 3:"
   ]
  },
  {
   "cell_type": "code",
   "execution_count": 42,
   "metadata": {},
   "outputs": [],
   "source": [
    "def decodeString(s):\n",
    "    curNum=0\n",
    "    curStr=''\n",
    "    stack=[]\n",
    "    \n",
    "    for c in s:\n",
    "        \n",
    "        if c.isdigit():\n",
    "            curNum=curNum*10+int(c)  \n",
    "        elif c=='[':\n",
    "            stack.append(curNum)\n",
    "            stack.append(curStr)\n",
    "            curNum=0\n",
    "            curStr=''\n",
    "            \n",
    "        elif c==']':\n",
    "            \n",
    "            prevStr=stack.pop()\n",
    "            num=stack.pop()\n",
    "            curStr=prevStr+curStr*num\n",
    "            \n",
    "        else:\n",
    "            curStr+=c\n",
    "            \n",
    "    return curStr"
   ]
  },
  {
   "cell_type": "code",
   "execution_count": 43,
   "metadata": {},
   "outputs": [],
   "source": [
    "s = \"3[a]2[bc]\"\n",
    "\n"
   ]
  },
  {
   "cell_type": "code",
   "execution_count": 44,
   "metadata": {},
   "outputs": [
    {
     "data": {
      "text/plain": [
       "'aaabcbc'"
      ]
     },
     "execution_count": 44,
     "metadata": {},
     "output_type": "execute_result"
    }
   ],
   "source": [
    "decodeString(s)"
   ]
  },
  {
   "cell_type": "code",
   "execution_count": null,
   "metadata": {},
   "outputs": [],
   "source": []
  }
 ],
 "metadata": {
  "kernelspec": {
   "display_name": "Python 3",
   "language": "python",
   "name": "python3"
  },
  "language_info": {
   "codemirror_mode": {
    "name": "ipython",
    "version": 3
   },
   "file_extension": ".py",
   "mimetype": "text/x-python",
   "name": "python",
   "nbconvert_exporter": "python",
   "pygments_lexer": "ipython3",
   "version": "3.6.8"
  }
 },
 "nbformat": 4,
 "nbformat_minor": 2
}
