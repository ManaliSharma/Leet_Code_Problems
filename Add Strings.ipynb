{
 "cells": [
  {
   "cell_type": "code",
   "execution_count": 6,
   "metadata": {},
   "outputs": [],
   "source": [
    "# inbuilt function return an  \n",
    "# integer representing the Unicode code \n"
   ]
  },
  {
   "cell_type": "code",
   "execution_count": 7,
   "metadata": {},
   "outputs": [],
   "source": [
    "#  415. Add Strings\n",
    "# Easy\n",
    "\n",
    "# 1091\n",
    "\n",
    "# 282\n",
    "\n",
    "# Add to List\n",
    "\n",
    "# Share\n",
    "# Given two non-negative integers num1 and num2 represented as string, return the sum of num1 and num2.\n",
    "\n",
    "# Note:\n",
    "\n",
    "# The length of both num1 and num2 is < 5100.\n",
    "# Both num1 and num2 contains only digits 0-9.\n",
    "# Both num1 and num2 does not contain any leading zero.\n",
    "# You must not use any built-in BigInteger library or convert the inputs to integer directly.\n",
    "# Accepted"
   ]
  },
  {
   "cell_type": "code",
   "execution_count": 8,
   "metadata": {},
   "outputs": [],
   "source": [
    "# 1 / 6\n",
    "# Algorithm\n",
    "\n",
    "# Initialize an empty res structure. Once could use array in Python and StringBuilder in Java.\n",
    "\n",
    "# Start from carry = 0.\n",
    "\n",
    "# Set a pointer at the end of each string: p1 = num1.length() - 1, p2 = num2.length() - 1.\n",
    "\n",
    "# Loop over the strings from the end to the beginning using p1 and p2. Stop when both strings are used entirely.\n",
    "\n",
    "# Set x1 to be equal to a digit from string nums1 at index p1. If p1 has reached the beginning of nums1, set x1 to 0.\n",
    "\n",
    "# Do the same for x2. Set x2 to be equal to digit from string nums2 at index p2. If p2 has reached the beginning of nums2, set x2 to 0.\n",
    "\n",
    "# Compute the current value: value = (x1 + x2 + carry) % 10, and update the carry: carry = (x1 + x2 + carry) / 10.\n",
    "\n",
    "# Append the current value to the result: res.append(value).\n",
    "\n",
    "# Now both strings are done. If the carry is still non-zero, update the result: res.append(carry).\n",
    "\n",
    "# Reverse the result, convert it to a string, and return that string."
   ]
  },
  {
   "cell_type": "code",
   "execution_count": 18,
   "metadata": {},
   "outputs": [],
   "source": [
    "def addstr(num1,num2):\n",
    "    \n",
    "    res = [] #for storing result\n",
    "\n",
    "    carry = 0\n",
    "    p1 = len(num1) - 1  #last index of num1\n",
    "    p2 = len(num2) - 1   #Last index of num2\n",
    "    while p1 >= 0 or p2 >= 0:\n",
    "        #subtracting from 0 because it gives the actual number present in string\n",
    "        x1 = ord(num1[p1]) - ord('0') if p1 >= 0 else 0 \n",
    "        x2 = ord(num2[p2]) - ord('0') if p2 >= 0 else 0\n",
    "        value = (x1 + x2 + carry) % 10\n",
    "        carry = (x1 + x2 + carry) // 10\n",
    "        res.append(value)\n",
    "        p1 -= 1\n",
    "        p2 -= 1\n",
    "\n",
    "    if carry:\n",
    "        res.append(carry)\n",
    "\n",
    "    return ''.join(str(x) for x in res[::-1])\n",
    "\n"
   ]
  },
  {
   "cell_type": "code",
   "execution_count": 19,
   "metadata": {},
   "outputs": [
    {
     "data": {
      "text/plain": [
       "'50'"
      ]
     },
     "execution_count": 19,
     "metadata": {},
     "output_type": "execute_result"
    }
   ],
   "source": [
    "addstr(\"21\",\"29\")"
   ]
  },
  {
   "cell_type": "code",
   "execution_count": null,
   "metadata": {},
   "outputs": [],
   "source": []
  }
 ],
 "metadata": {
  "kernelspec": {
   "display_name": "Python 3",
   "language": "python",
   "name": "python3"
  },
  "language_info": {
   "codemirror_mode": {
    "name": "ipython",
    "version": 3
   },
   "file_extension": ".py",
   "mimetype": "text/x-python",
   "name": "python",
   "nbconvert_exporter": "python",
   "pygments_lexer": "ipython3",
   "version": "3.6.8"
  }
 },
 "nbformat": 4,
 "nbformat_minor": 2
}
