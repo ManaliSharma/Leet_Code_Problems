{
 "cells": [
  {
   "cell_type": "code",
   "execution_count": null,
   "metadata": {},
   "outputs": [],
   "source": [
    "# A message containing letters from A-Z is being encoded to numbers using the following mapping:\n",
    "\n",
    "# 'A' -> 1\n",
    "# 'B' -> 2\n",
    "# ...\n",
    "# 'Z' -> 26\n",
    "# Given a non-empty string containing only digits, determine the total number of ways to decode it.\n",
    "\n",
    "# Example 1:\n",
    "\n",
    "# Input: \"12\"\n",
    "# Output: 2\n",
    "# Explanation: It could be decoded as \"AB\" (1 2) or \"L\" (12).\n",
    "# Example 2:\n",
    "\n",
    "# Input: \"226\"\n",
    "# Output: 3\n",
    "# Explanation: It could be decoded as \"BZ\" (2 26), \"VF\" (22 6), or \"BBF\" (2 2 6)."
   ]
  },
  {
   "cell_type": "code",
   "execution_count": 3,
   "metadata": {},
   "outputs": [],
   "source": [
    "# Problem Reduction: variation of n-th staircase with n = [1, 2] steps.\n",
    "\n",
    "# Approach: We generate a bottom up DP table.\n",
    "\n",
    "# The tricky part is handling the corner cases (e.g. s = \"30\").\n",
    "\n",
    "# Most elegant way to deal with those error/corner cases, is to allocate an extra space, dp[0].\n",
    "\n",
    "# Let dp[ i ] = the number of ways to parse the string s[1: i + 1]\n",
    "\n",
    "# For example:\n",
    "# s = \"231\"\n",
    "# index 0: extra base offset. dp[0] = 1\n",
    "# index 1: # of ways to parse \"2\" => dp[1] = 1\n",
    "# index 2: # of ways to parse \"23\" => \"2\" and \"23\", dp[2] = 2\n",
    "# index 3: # of ways to parse \"231\" => \"2 3 1\" and \"23 1\" => dp[3] = 2"
   ]
  },
  {
   "cell_type": "code",
   "execution_count": 15,
   "metadata": {},
   "outputs": [],
   "source": [
    "def decodeways(s):\n",
    "    \n",
    "    if len(s)==0:\n",
    "        return 0\n",
    "    \n",
    "     # Array to store the subproblem results\n",
    "    dp=[0 for _ in range(len(s)+1)]\n",
    "    \n",
    "    #dp[0]=1 #initialise dp\n",
    "    \n",
    "    # Ways to decode a string of size 1 is 1. Unless the string is '0'.\n",
    "    # '0' doesn't have a single digit decode.\n",
    "    #dp[1]=0 if s[0]=='0' else 1\n",
    "    \n",
    "    dp[0:2] = [1,1]\n",
    "    \n",
    "    for i in range(2,len(dp)):\n",
    "       \n",
    "     # Check if successful single digit decode is possible.\n",
    "        dp[i-1]!='0'\n",
    "        dp[i]+=dp[i-1]\n",
    "        \n",
    "    #Check if successful two digit decode is possible.\n",
    "    \n",
    "        x=int(s[i-2:i])\n",
    "        if x>=10 and x<=26:\n",
    "            dp[i]+=dp[i-2]\n",
    "            \n",
    "            \n",
    "    return dp[len(s)]"
   ]
  },
  {
   "cell_type": "code",
   "execution_count": 17,
   "metadata": {},
   "outputs": [
    {
     "data": {
      "text/plain": [
       "3"
      ]
     },
     "execution_count": 17,
     "metadata": {},
     "output_type": "execute_result"
    }
   ],
   "source": [
    "y='226'\n",
    "decodeways(y)"
   ]
  },
  {
   "cell_type": "code",
   "execution_count": 4,
   "metadata": {},
   "outputs": [],
   "source": [
    "# why dp[0]=1\n",
    "# ts just the base case for when dp[2] does its 2-step jump. For example, '12' can be {1 2} or {12}. \n",
    "# So dp[0] accounts for {12} and dp[1] accounts for {1 2}"
   ]
  },
  {
   "cell_type": "code",
   "execution_count": 5,
   "metadata": {},
   "outputs": [],
   "source": [
    "# If you look closely when i = 2 and at the second if statement.\n",
    "# Clearly if the first 2 characters of s form a valid decoding then we need to increment dp[2] by 1.\n",
    "# So we add the buffer dp[0] = 1 to deal with this case. As if we didn't add the buffer and had our dp'[1] = the number of ways to decode the first two characters in s. Then dp'[1] = dp[0] + dp[-1]. Which is an annoying edge case.\n",
    "\n",
    "# In short it allows the established recurrence relationship to be implemented naturally.\n",
    "# Where T(n) = dp[n] as defined above.\n",
    "# T(n) = T(n - 1) + T(n - 2).\n",
    "# or\n",
    "# T(n) = T(n - 1)\n",
    "# or\n",
    "# T(n) = T(n - 2).\n",
    "# or\n",
    "# T(n) = 0."
   ]
  },
  {
   "cell_type": "code",
   "execution_count": null,
   "metadata": {},
   "outputs": [],
   "source": []
  }
 ],
 "metadata": {
  "kernelspec": {
   "display_name": "Python 3",
   "language": "python",
   "name": "python3"
  },
  "language_info": {
   "codemirror_mode": {
    "name": "ipython",
    "version": 3
   },
   "file_extension": ".py",
   "mimetype": "text/x-python",
   "name": "python",
   "nbconvert_exporter": "python",
   "pygments_lexer": "ipython3",
   "version": "3.6.8"
  }
 },
 "nbformat": 4,
 "nbformat_minor": 2
}
