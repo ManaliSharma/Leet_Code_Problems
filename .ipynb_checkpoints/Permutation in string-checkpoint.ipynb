{
 "cells": [
  {
   "cell_type": "code",
   "execution_count": 1,
   "metadata": {},
   "outputs": [],
   "source": [
    "# Given two strings s1 and s2, write a function to return true if s2 contains the permutation of s1. In other words, one of the first string's permutations is the substring of the second string.\n",
    "\n",
    " \n",
    "\n",
    "# Example 1:\n",
    "\n",
    "# Input: s1 = \"ab\" s2 = \"eidbaooo\"\n",
    "# Output: True\n",
    "# Explanation: s2 contains one permutation of s1 (\"ba\").\n",
    "# Example 2:\n",
    "\n",
    "# Input:s1= \"ab\" s2 = \"eidboaoo\"\n",
    "# Output: False\n",
    " \n",
    "\n",
    "# Constraints:\n",
    "\n",
    "# The input strings only contain lower case letters.\n",
    "# The length of both given strings is in range [1, 10,000].\n",
    "\n",
    "\n",
    "#hash table= Dictioanry"
   ]
  },
  {
   "cell_type": "code",
   "execution_count": 36,
   "metadata": {},
   "outputs": [],
   "source": [
    "# The idea behind this approach is that one string will be a permutation of another string only if both of them \n",
    "#contain the same characters the same number of times. One string xx is a permutation of other string yy only \n",
    "#if sorted(x)=sorted(y).\n",
    "\n",
    "# In order to check this, we can sort the two strings and compare them. We sort the short string s1 and \n",
    "#all the substrings of s2, sort them and compare them with the sorted s1 string. If the two match completely, \n",
    "#s1's permutation is a substring of s2s2, otherwise not."
   ]
  },
  {
   "cell_type": "code",
   "execution_count": 59,
   "metadata": {},
   "outputs": [],
   "source": [
    "from collections import Counter \n",
    "def checkInclusion(s1: str, s2: str) -> bool:\n",
    "    \n",
    "    x=len(s1)\n",
    "    counter_s1=Counter(s1)    #counter is a container which contains elements and their respective frequency, much like dictionary\n",
    "    slider=Counter()\n",
    "    if len(s1)>len(s2):\n",
    "        return False\n",
    "    \n",
    "    for index,character in enumerate(s2):\n",
    "        slider[character]+=1     #add character in counter with it's respective frequency starting equal to 1\n",
    "        \n",
    "        #imp condition because it requires atleast i>=x elements in counter because x represents the number of elements present in s1\n",
    "        if index>=x: \n",
    "            element_left=s2[index-x]   #usually gives first element in string s2\n",
    "            \n",
    "            if slider[element_left]==1:#if frequency of element is 1 delete it\n",
    "                del slider[element_left]\n",
    "            else:\n",
    "                slider[element_left]-=1   #if frequency greater that 1 than decrement it so as to eliminate it\n",
    "                \n",
    "        if slider==counter_s1:  #if same\n",
    "            return True\n",
    "            \n",
    "    return False\n",
    "                \n",
    "\n",
    "        \n",
    "        \n",
    "    "
   ]
  },
  {
   "cell_type": "code",
   "execution_count": 60,
   "metadata": {
    "scrolled": true
   },
   "outputs": [
    {
     "name": "stdout",
     "output_type": "stream",
     "text": [
      "Counter({'b': 1, 'a': 1})\n"
     ]
    },
    {
     "data": {
      "text/plain": [
       "True"
      ]
     },
     "execution_count": 60,
     "metadata": {},
     "output_type": "execute_result"
    }
   ],
   "source": [
    "checkInclusion(\"ab\",\"cbaooo\")"
   ]
  },
  {
   "cell_type": "code",
   "execution_count": null,
   "metadata": {},
   "outputs": [],
   "source": [
    "#Time Limit Exceeds\n",
    "def checkInclusion(s1: str, s2: str) -> bool:\n",
    "    x=len(s1)\n",
    "    y=len(s2)\n",
    "    \n",
    "    def perms(s):        \n",
    "        if len(s)==1: \n",
    "            return [s]\n",
    "        permutation=[]\n",
    "        for index,value in enumerate(s):\n",
    "            permutation += [value+p for p in perms(s[:index]+s[index+1:])]\n",
    "        return permutation\n",
    "\n",
    "    if x >= y:\n",
    "\n",
    "        per= perms(s2)\n",
    "        for i in per:\n",
    "            if i in s1:\n",
    "                return True\n",
    "        \n",
    "        else:\n",
    "            return False\n",
    "            \n",
    "    if x <= y:\n",
    "\n",
    "        per= perms(s1)\n",
    "        for i in per:\n",
    "            if i in s2:\n",
    "                return True\n",
    "        \n",
    "        else:\n",
    "            return False\n",
    "            \n",
    "    \n",
    "        "
   ]
  },
  {
   "cell_type": "code",
   "execution_count": 124,
   "metadata": {},
   "outputs": [],
   "source": [
    "\n",
    "# def checkInclusion(s1: str, s2: str) -> bool:\n",
    "#     x=len(s1)\n",
    "#     y=len(s2)\n",
    "    \n",
    "#     dict_s1={e:s1.count(e) for e in s1}\n",
    "#     dict_s2={e:s2.count(e) for e in s2}\n",
    "    \n",
    "#     if  x<=y:\n",
    "#         for k,v in dict_s2.items():\n",
    "            \n",
    "#             if k in dict_s1.keys():\n",
    "                \n",
    "#                 for k1,v1 in dict_s1.items():\n",
    "                    \n",
    "#                     if k==k1 and v >=v1 :\n",
    "                        \n",
    "#                         continue\n",
    "#                 return True\n",
    "                    \n",
    "#             else:\n",
    "#                 continue\n",
    "                \n",
    "    \n",
    "#     return False"
   ]
  },
  {
   "cell_type": "code",
   "execution_count": 125,
   "metadata": {},
   "outputs": [
    {
     "data": {
      "text/plain": [
       "True"
      ]
     },
     "execution_count": 125,
     "metadata": {},
     "output_type": "execute_result"
    }
   ],
   "source": [
    "checkInclusion(\"ab\",\"eidbaooo\")"
   ]
  },
  {
   "cell_type": "code",
   "execution_count": 131,
   "metadata": {},
   "outputs": [],
   "source": [
    "#enumerate to get the index with the element as you iterate:\n",
    "def perms(s):        \n",
    "    if(len(s)==1): \n",
    "        return [s]\n",
    "    permutation=[]\n",
    "    for index,value in enumerate(s):\n",
    "        \n",
    "        permutation += [value+p for p in perms(s[:index]+s[index+1:])]\n",
    "        \n",
    "    return permutation\n"
   ]
  },
  {
   "cell_type": "code",
   "execution_count": null,
   "metadata": {},
   "outputs": [],
   "source": []
  }
 ],
 "metadata": {
  "kernelspec": {
   "display_name": "Python 3",
   "language": "python",
   "name": "python3"
  },
  "language_info": {
   "codemirror_mode": {
    "name": "ipython",
    "version": 3
   },
   "file_extension": ".py",
   "mimetype": "text/x-python",
   "name": "python",
   "nbconvert_exporter": "python",
   "pygments_lexer": "ipython3",
   "version": "3.6.8"
  }
 },
 "nbformat": 4,
 "nbformat_minor": 2
}
