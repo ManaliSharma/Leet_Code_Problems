{
 "cells": [
  {
   "cell_type": "code",
   "execution_count": 1,
   "metadata": {},
   "outputs": [],
   "source": [
    "# 953. Verifying an Alien Dictionary\n",
    "# Easy\n",
    "\n",
    "# 981\n",
    "\n",
    "# 407\n",
    "\n",
    "# Add to List\n",
    "\n",
    "# Share\n",
    "# In an alien language, surprisingly they also use english lowercase letters, but possibly in a different order. The order of the alphabet is some permutation of lowercase letters.\n",
    "\n",
    "# Given a sequence of words written in the alien language, and the order of the alphabet, return true if and only if the given words are sorted lexicographicaly in this alien language.\n",
    "\n",
    " \n",
    "\n",
    "# Example 1:\n",
    "\n",
    "# Input: words = [\"hello\",\"leetcode\"], order = \"hlabcdefgijkmnopqrstuvwxyz\"\n",
    "# Output: true\n",
    "# Explanation: As 'h' comes before 'l' in this language, then the sequence is sorted.\n",
    "# Example 2:\n",
    "\n",
    "# Input: words = [\"word\",\"world\",\"row\"], order = \"worldabcefghijkmnpqstuvxyz\"\n",
    "# Output: false\n",
    "# Explanation: As 'd' comes after 'l' in this language, then words[0] > words[1], hence the sequence is unsorted.\n",
    "# Example 3:\n",
    "\n",
    "# Input: words = [\"apple\",\"app\"], order = \"abcdefghijklmnopqrstuvwxyz\"\n",
    "# Output: false\n",
    "# Explanation: The first three characters \"app\" match, and the second string is shorter (in size.) According to lexicographical rules \"apple\" > \"app\", because 'l' > '∅', where '∅' is defined as the blank character which is less than any other character (More info).\n",
    " \n",
    "\n",
    "# Constraints:\n",
    "\n",
    "# 1 <= words.length <= 100\n",
    "# 1 <= words[i].length <= 20\n",
    "# order.length == 26\n",
    "# All characters in words[i] and order are English lowercase letters."
   ]
  },
  {
   "cell_type": "code",
   "execution_count": 15,
   "metadata": {},
   "outputs": [],
   "source": [
    "def isalien(words,s):\n",
    "    \n",
    "    order={c:i for i,c in enumerate(s)}\n",
    "    for i in range(len(words)-1):\n",
    "        \n",
    "        word1=words[i]\n",
    "        word2=words[i+1]\n",
    "        \n",
    "         # Find the first difference word1[k] != word2[k]. \n",
    "        for k in range(min(len(word1),len(word2))):\n",
    "             # If they compare false then it's not sorted. \n",
    "            if word1[k]!=word2[k]:\n",
    "                if order[word1[k]]>order[word2[k]]:\n",
    "                    return False\n",
    "                break\n",
    "        else:\n",
    "  \n",
    "            # If we didn't find a first difference, the \n",
    "            # Words are like (\"add\", \"addition\"). \n",
    "            if len(word1) > len(word2): \n",
    "                return False\n",
    "  \n",
    "    return True\n",
    "    "
   ]
  },
  {
   "cell_type": "code",
   "execution_count": 16,
   "metadata": {},
   "outputs": [
    {
     "data": {
      "text/plain": [
       "True"
      ]
     },
     "execution_count": 16,
     "metadata": {},
     "output_type": "execute_result"
    }
   ],
   "source": [
    "words = [\"hello\",\"leetcode\"]\n",
    "order = \"hlabcdefgijkmnopqrstuvwxyz\"\n",
    "isalien(words,order)"
   ]
  },
  {
   "cell_type": "code",
   "execution_count": 17,
   "metadata": {},
   "outputs": [
    {
     "data": {
      "text/plain": [
       "False"
      ]
     },
     "execution_count": 17,
     "metadata": {},
     "output_type": "execute_result"
    }
   ],
   "source": [
    "words = [\"word\",\"world\",\"row\"]\n",
    "order = \"worldabcefghijkmnpqstuvxyz\"\n",
    "isalien(words,order)"
   ]
  },
  {
   "cell_type": "code",
   "execution_count": 18,
   "metadata": {},
   "outputs": [
    {
     "data": {
      "text/plain": [
       "False"
      ]
     },
     "execution_count": 18,
     "metadata": {},
     "output_type": "execute_result"
    }
   ],
   "source": [
    "words = [\"apple\",\"app\"]\n",
    "order = \"abcdefghijklmnopqrstuvwxyz\"\n",
    "isalien(words,order)"
   ]
  },
  {
   "cell_type": "code",
   "execution_count": null,
   "metadata": {},
   "outputs": [],
   "source": []
  }
 ],
 "metadata": {
  "kernelspec": {
   "display_name": "Python 3",
   "language": "python",
   "name": "python3"
  },
  "language_info": {
   "codemirror_mode": {
    "name": "ipython",
    "version": 3
   },
   "file_extension": ".py",
   "mimetype": "text/x-python",
   "name": "python",
   "nbconvert_exporter": "python",
   "pygments_lexer": "ipython3",
   "version": "3.6.8"
  }
 },
 "nbformat": 4,
 "nbformat_minor": 2
}
