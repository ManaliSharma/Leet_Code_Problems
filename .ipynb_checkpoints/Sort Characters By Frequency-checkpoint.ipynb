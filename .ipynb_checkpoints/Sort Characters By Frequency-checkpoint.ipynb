{
 "cells": [
  {
   "cell_type": "code",
   "execution_count": null,
   "metadata": {},
   "outputs": [],
   "source": [
    "# Given a string, sort it in decreasing order based on the frequency of characters.\n",
    "\n",
    "# Example 1:\n",
    "\n",
    "# Input:\n",
    "# \"tree\"\n",
    "\n",
    "# Output:\n",
    "# \"eert\"\n",
    "\n",
    "# Explanation:\n",
    "# 'e' appears twice while 'r' and 't' both appear once.\n",
    "# So 'e' must appear before both 'r' and 't'. Therefore \"eetr\" is also a valid answer.\n",
    "# Example 2:\n",
    "\n",
    "# Input:\n",
    "# \"cccaaa\"\n",
    "\n",
    "# Output:\n",
    "# \"cccaaa\"\n",
    "\n",
    "# Explanation:\n",
    "# Both 'c' and 'a' appear three times, so \"aaaccc\" is also a valid answer.\n",
    "# Note that \"cacaca\" is incorrect, as the same characters must be together.\n",
    "# Example 3:\n",
    "\n",
    "# Input:\n",
    "# \"Aabb\"\n",
    "\n",
    "# Output:\n",
    "# \"bbAa\"\n",
    "\n",
    "# Explanation:\n",
    "# \"bbaA\" is also a valid answer, but \"Aabb\" is incorrect.\n",
    "# Note that 'A' and 'a' are treated as two different characters.\n"
   ]
  },
  {
   "cell_type": "code",
   "execution_count": null,
   "metadata": {},
   "outputs": [],
   "source": [
    "#The collections.Counter function is generally well known, it simply builds a hash map counting how many occurences of each value is present in an iterable.\n",
    "#Counter won't add new keys to the dict when you query for missing keys. So, if your queries include keys that may not be present in the dict then better use Counter\n",
    "#Counter also has a method called most_common that allows you to sort items by their count. To get the same thing in defaultdict you'll have to use sorted.\n",
    "from collections import Counter\n",
    "def frequencySort(self, s: str) -> str:\n",
    "        dic = Counter(s)\n",
    "        nums = sorted(dic, key = dic.get, reverse = True)\n",
    "        return ''.join(val*dic[val] for val in nums)"
   ]
  },
  {
   "cell_type": "code",
   "execution_count": 135,
   "metadata": {},
   "outputs": [],
   "source": [
    "#solution 2 (time limit exceeded)\n",
    "from collections import Counter\n",
    "def frequencySort(s: str) -> str:\n",
    "    \n",
    "    str1=''\n",
    "    dict={e:s.count(e) for e in s}\n",
    "    s=sorted(dict,key=lambda x:dict[x],reverse=True)\n",
    "    \n",
    "    for i in s:\n",
    "        str1=str1+i*dict[i]\n",
    "        \n",
    "    return str1\n",
    "    # mylist.sort(reverse=True)\n",
    "    # str1=''\n",
    "    # for i in range(len(mylist)):\n",
    "    #     str1=str1+''.join(mylist[i][1])\n",
    "    # return str1\n"
   ]
  },
  {
   "cell_type": "code",
   "execution_count": null,
   "metadata": {},
   "outputs": [],
   "source": []
  }
 ],
 "metadata": {
  "kernelspec": {
   "display_name": "Python 3",
   "language": "python",
   "name": "python3"
  },
  "language_info": {
   "codemirror_mode": {
    "name": "ipython",
    "version": 3
   },
   "file_extension": ".py",
   "mimetype": "text/x-python",
   "name": "python",
   "nbconvert_exporter": "python",
   "pygments_lexer": "ipython3",
   "version": "3.6.8"
  }
 },
 "nbformat": 4,
 "nbformat_minor": 2
}
