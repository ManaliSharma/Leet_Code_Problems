{
 "cells": [
  {
   "cell_type": "code",
   "execution_count": 1,
   "metadata": {},
   "outputs": [],
   "source": [
    "# Given an array nums of n integers where n > 1,  return an array output such that output[i] is equal to the product of all the elements of nums except nums[i].\n",
    "\n",
    "# Example:\n",
    "\n",
    "# Input:  [1,2,3,4]\n",
    "# Output: [24,12,8,6]\n",
    "# Constraint: It's guaranteed that the product of the elements of any prefix or suffix of the array (including the whole array) fits in a 32 bit integer.\n",
    "\n",
    "# Note: Please solve it without division and in O(n).\n",
    "\n",
    "# Follow up:\n",
    "# Could you solve it with constant space complexity? (The output array does not count as extra space for the purpose of space complexity analysis.)"
   ]
  },
  {
   "cell_type": "code",
   "execution_count": 28,
   "metadata": {},
   "outputs": [],
   "source": [
    "def productarray(nums):\n",
    "    \n",
    "    N=len(nums)\n",
    "    \n",
    "    #contains products of all elements to the left of index i \n",
    "    answers=[0]*N\n",
    "    \n",
    "    #since there is no element in left of index 0 , so we assign the value\n",
    "    answers[0]=1\n",
    "    \n",
    "    for i in range(1,N):\n",
    "        \n",
    "        #answers[i-1] already contains the products of all elements to the left of i-1, so multiplying it with nums[i-1]\n",
    "        # Simply multiplying it with nums[i - 1] would give the product of all elements to the left of index 'i'\n",
    "        \n",
    "        answers[i]=answers[i-1]*nums[i-1]\n",
    "       \n",
    "    #contains products of all elements to the right of index i \n",
    "    #for index=len(nums)-1 there is no elemenet in the right of this index so we assign the value\n",
    "    \n",
    "    R=1\n",
    "    \n",
    "    for i in reversed(range(N)):\n",
    "        # For the index 'i', R would contain the product of all elements to the right. We update R accordingly\n",
    "        answers[i]=R*answers[i]\n",
    "        \n",
    "        R*=nums[i]\n",
    "        \n",
    "    return answers"
   ]
  },
  {
   "cell_type": "code",
   "execution_count": 29,
   "metadata": {},
   "outputs": [],
   "source": [
    "nums=[1,2,3,4]"
   ]
  },
  {
   "cell_type": "code",
   "execution_count": 30,
   "metadata": {},
   "outputs": [
    {
     "data": {
      "text/plain": [
       "[24, 12, 8, 6]"
      ]
     },
     "execution_count": 30,
     "metadata": {},
     "output_type": "execute_result"
    }
   ],
   "source": [
    "productarray(nums)"
   ]
  },
  {
   "cell_type": "code",
   "execution_count": null,
   "metadata": {},
   "outputs": [],
   "source": []
  }
 ],
 "metadata": {
  "kernelspec": {
   "display_name": "Python 3",
   "language": "python",
   "name": "python3"
  },
  "language_info": {
   "codemirror_mode": {
    "name": "ipython",
    "version": 3
   },
   "file_extension": ".py",
   "mimetype": "text/x-python",
   "name": "python",
   "nbconvert_exporter": "python",
   "pygments_lexer": "ipython3",
   "version": "3.6.8"
  }
 },
 "nbformat": 4,
 "nbformat_minor": 2
}
