{
 "cells": [
  {
   "cell_type": "code",
   "execution_count": 1,
   "metadata": {},
   "outputs": [],
   "source": [
    "# 344. Reverse String\n",
    "# Easy\n",
    "\n",
    "# 1622\n",
    "\n",
    "# 715\n",
    "\n",
    "# Add to List\n",
    "\n",
    "# Share\n",
    "# Write a function that reverses a string. The input string is given as an array of characters char[].\n",
    "\n",
    "# Do not allocate extra space for another array, you must do this by modifying the input array in-place with O(1) extra memory.\n",
    "\n",
    "# You may assume all the characters consist of printable ascii characters.\n",
    "\n",
    " \n",
    "\n",
    "# Example 1:\n",
    "\n",
    "# Input: [\"h\",\"e\",\"l\",\"l\",\"o\"]\n",
    "# Output: [\"o\",\"l\",\"l\",\"e\",\"h\"]\n",
    "# Example 2:\n",
    "\n",
    "# Input: [\"H\",\"a\",\"n\",\"n\",\"a\",\"h\"]\n",
    "# Output: [\"h\",\"a\",\"n\",\"n\",\"a\",\"H\"]"
   ]
  },
  {
   "cell_type": "code",
   "execution_count": 2,
   "metadata": {},
   "outputs": [],
   "source": [
    "# Approach 2: Two Pointers, Iteration, \\mathcal{O}(1)O(1) Space\n",
    "# Two Pointers Approach\n",
    "\n",
    "# In this approach, two pointers are used to process two array elements at the same time. Usual implementation is to set one pointer in the beginning and one at the end and then to move them until they both meet.\n",
    "\n",
    "# Sometimes one needs to generalize this approach in order to use three pointers, like for classical Sort Colors problem.\n",
    "\n",
    "# Algorithm\n",
    "\n",
    "# Set pointer left at index 0, and pointer right at index n - 1, where n is a number of elements in the array.\n",
    "\n",
    "# While left < right:\n",
    "\n",
    "# Swap s[left] and s[right].\n",
    "\n",
    "# Move left pointer one step right, and right pointer one step left."
   ]
  },
  {
   "cell_type": "code",
   "execution_count": 5,
   "metadata": {},
   "outputs": [],
   "source": [
    "def reverse_integer(s):\n",
    "    \n",
    "    s.reverse()"
   ]
  },
  {
   "cell_type": "code",
   "execution_count": 13,
   "metadata": {},
   "outputs": [],
   "source": [
    "s=[\"h\",\"e\",\"l\",\"l\",\"o\"]\n",
    "reverse_integer(s)"
   ]
  },
  {
   "cell_type": "code",
   "execution_count": 14,
   "metadata": {},
   "outputs": [
    {
     "data": {
      "text/plain": [
       "['o', 'l', 'l', 'e', 'h']"
      ]
     },
     "execution_count": 14,
     "metadata": {},
     "output_type": "execute_result"
    }
   ],
   "source": [
    "s"
   ]
  },
  {
   "cell_type": "code",
   "execution_count": 12,
   "metadata": {},
   "outputs": [],
   "source": [
    "def reverse_integer(s):\n",
    "    \n",
    "    left, right = 0, len(s) - 1\n",
    "    while left < right:\n",
    "        s[left], s[right] = s[right], s[left]\n",
    "        left, right = left + 1, right - 1"
   ]
  },
  {
   "cell_type": "code",
   "execution_count": null,
   "metadata": {},
   "outputs": [],
   "source": []
  }
 ],
 "metadata": {
  "kernelspec": {
   "display_name": "Python 3",
   "language": "python",
   "name": "python3"
  },
  "language_info": {
   "codemirror_mode": {
    "name": "ipython",
    "version": 3
   },
   "file_extension": ".py",
   "mimetype": "text/x-python",
   "name": "python",
   "nbconvert_exporter": "python",
   "pygments_lexer": "ipython3",
   "version": "3.6.8"
  }
 },
 "nbformat": 4,
 "nbformat_minor": 2
}
