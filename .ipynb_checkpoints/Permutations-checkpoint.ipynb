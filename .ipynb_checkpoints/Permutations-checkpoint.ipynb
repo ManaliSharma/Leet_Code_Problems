{
 "cells": [
  {
   "cell_type": "code",
   "execution_count": 1,
   "metadata": {},
   "outputs": [],
   "source": [
    "# 46. Permutations\n",
    "# Medium\n",
    "\n",
    "# 4334\n",
    "\n",
    "# 112\n",
    "\n",
    "# Add to List\n",
    "\n",
    "# Share\n",
    "# Given a collection of distinct integers, return all possible permutations.\n",
    "\n",
    "# Example:\n",
    "\n",
    "# Input: [1,2,3]\n",
    "# Output:\n",
    "# [\n",
    "#   [1,2,3],\n",
    "#   [1,3,2],\n",
    "#   [2,1,3],\n",
    "#   [2,3,1],\n",
    "#   [3,1,2],\n",
    "#   [3,2,1]\n",
    "# ]"
   ]
  },
  {
   "cell_type": "code",
   "execution_count": 9,
   "metadata": {},
   "outputs": [],
   "source": [
    "def permute(nums):\n",
    "    \n",
    "    if len(nums)==0:\n",
    "        return []\n",
    "    if len(nums)==1:\n",
    "        return [nums]\n",
    "    \n",
    "    perm=[]\n",
    "    for i in range(len(nums)):\n",
    "        \n",
    "        m=nums[i]\n",
    "        \n",
    "        for j in permute(nums[:i]+nums[i+1:]):\n",
    "            perm.append([m]+j)\n",
    "            \n",
    "            \n",
    "            \n",
    "    return perm"
   ]
  },
  {
   "cell_type": "code",
   "execution_count": 10,
   "metadata": {},
   "outputs": [
    {
     "data": {
      "text/plain": [
       "[[1, 2, 3], [1, 3, 2], [2, 1, 3], [2, 3, 1], [3, 1, 2], [3, 2, 1]]"
      ]
     },
     "execution_count": 10,
     "metadata": {},
     "output_type": "execute_result"
    }
   ],
   "source": [
    "permute([1,2,3])"
   ]
  },
  {
   "cell_type": "code",
   "execution_count": null,
   "metadata": {},
   "outputs": [],
   "source": []
  }
 ],
 "metadata": {
  "kernelspec": {
   "display_name": "Python 3",
   "language": "python",
   "name": "python3"
  },
  "language_info": {
   "codemirror_mode": {
    "name": "ipython",
    "version": 3
   },
   "file_extension": ".py",
   "mimetype": "text/x-python",
   "name": "python",
   "nbconvert_exporter": "python",
   "pygments_lexer": "ipython3",
   "version": "3.6.8"
  }
 },
 "nbformat": 4,
 "nbformat_minor": 2
}
