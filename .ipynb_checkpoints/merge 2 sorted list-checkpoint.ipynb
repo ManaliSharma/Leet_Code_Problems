{
 "cells": [
  {
   "cell_type": "code",
   "execution_count": 1,
   "metadata": {},
   "outputs": [],
   "source": [
    "# Merge two sorted linked lists and return it as a new sorted list. The new list should be made by splicing together the nodes of the first two lists.\n",
    "\n",
    "# Example:\n",
    "\n",
    "# Input: 1->2->4, 1->3->4\n",
    "# Output: 1->1->2->3->4->4"
   ]
  },
  {
   "cell_type": "code",
   "execution_count": 2,
   "metadata": {},
   "outputs": [],
   "source": [
    "# Definition for singly-linked list.\n",
    "# class ListNode:\n",
    "#     def __init__(self, val=0, next=None):\n",
    "#         self.val = val\n",
    "#         self.next = next\n",
    "class Solution:\n",
    "    def mergeTwoLists(self, l1: ListNode, l2: ListNode) -> ListNode:\n",
    "        head=ListNode(None)\n",
    "        prev=head\n",
    "        if l1==None:\n",
    "            return l2\n",
    "        elif l2==None:\n",
    "            return l1\n",
    "        else:\n",
    "            while (l1 and l2):\n",
    "                if l1.val<=l2.val:\n",
    "                    prev.next=l1\n",
    "                    l1=l1.next\n",
    "                else:\n",
    "                    prev.next=l2\n",
    "                    l2=l2.next\n",
    "\n",
    "                prev=prev.next\n",
    "# exactly one of l1 and l2 can be non-null at this point, so connect\n",
    "#the non-null list to the end of the merged list.\n",
    "            if l1:\n",
    "                prev.next=l1\n",
    "            elif l2:\n",
    "                prev.next=l2\n",
    "            \n",
    "        \n",
    "        return head.next\n",
    "    \n",
    "#.        if l1==None:\n",
    "#             return l2\n",
    "#         elif l2==None:\n",
    "#             return l1\n",
    "#         else:\n",
    "#             if l1!=None and l2!=None:\n",
    "#                 if l1.val<l2.val:\n",
    "#                     l1.next=mergeTwoLists(l2,l1.next)\n",
    "#                     return l1\n",
    "#                 else:\n",
    "#                     l2.next=mergeTwoLists(l1,l2.next)\n",
    "#                     return l2\n",
    "                \n",
    "                "
   ]
  },
  {
   "cell_type": "code",
   "execution_count": null,
   "metadata": {},
   "outputs": [],
   "source": []
  }
 ],
 "metadata": {
  "kernelspec": {
   "display_name": "Python 3",
   "language": "python",
   "name": "python3"
  },
  "language_info": {
   "codemirror_mode": {
    "name": "ipython",
    "version": 3
   },
   "file_extension": ".py",
   "mimetype": "text/x-python",
   "name": "python",
   "nbconvert_exporter": "python",
   "pygments_lexer": "ipython3",
   "version": "3.6.8"
  }
 },
 "nbformat": 4,
 "nbformat_minor": 2
}
