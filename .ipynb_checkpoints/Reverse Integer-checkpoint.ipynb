{
 "cells": [
  {
   "cell_type": "code",
   "execution_count": null,
   "metadata": {},
   "outputs": [],
   "source": [
    "# string[0::-1] is one character, it says \"count backwards from index 0 as far as you can\""
   ]
  },
  {
   "cell_type": "code",
   "execution_count": null,
   "metadata": {},
   "outputs": [],
   "source": [
    "# Given a 32-bit signed integer, reverse digits of an integer.\n",
    "\n",
    "# Example 1:\n",
    "\n",
    "# Input: 123\n",
    "# Output: 321\n",
    "# Example 2:\n",
    "\n",
    "# Input: -123\n",
    "# Output: -321\n",
    "# Example 3:\n",
    "\n",
    "# Input: 120\n",
    "# Output: 21\n",
    "# Note:\n",
    "# Assume we are dealing with an environment which could only store integers within the 32-bit signed integer range: [−231,  231 − 1]. For the purpose of this problem, assume that your function returns 0 when the reversed integer overflows."
   ]
  },
  {
   "cell_type": "code",
   "execution_count": null,
   "metadata": {},
   "outputs": [],
   "source": [
    "def reverse(x): \n",
    "    str_int=str(x)\n",
    "    if str_int[0]=='-':\n",
    "        x=str_int[:0:-1] #don't include 0th index\n",
    "        x=str_int[0]+x\n",
    "        #can do this also\n",
    "        # temp = strg[1:] \n",
    "        # temp2 = temp[::-1] \n",
    "        # revst = \"-\" + temp2\n",
    "    else:\n",
    "        x=str_int[::-1]\n",
    "\n",
    "    if -(2**31)-1 < int(x) < 2**31 :\n",
    "        return int(x)\n",
    "    else:\n",
    "        return 0"
   ]
  },
  {
   "cell_type": "code",
   "execution_count": 24,
   "metadata": {},
   "outputs": [
    {
     "data": {
      "text/plain": [
       "123"
      ]
     },
     "execution_count": 24,
     "metadata": {},
     "output_type": "execute_result"
    }
   ],
   "source": [
    "reverse(321)"
   ]
  },
  {
   "cell_type": "code",
   "execution_count": 25,
   "metadata": {},
   "outputs": [],
   "source": [
    "def reverse(x):\n",
    "    #modulus gives remainder and floor gives quotient\n",
    "    #pop operation:\n",
    "    rev=0\n",
    "    if x>0:\n",
    "        while x!=0:\n",
    "            pop = x % 10;\n",
    "            rev=rev*10+pop\n",
    "            x=x//10\n",
    "    \n",
    "    if -(2**31)-1 < rev < 2**31 :\n",
    "        return rev\n",
    "    else:\n",
    "        return 0\n",
    "    "
   ]
  },
  {
   "cell_type": "code",
   "execution_count": 22,
   "metadata": {},
   "outputs": [
    {
     "data": {
      "text/plain": [
       "9"
      ]
     },
     "execution_count": 22,
     "metadata": {},
     "output_type": "execute_result"
    }
   ],
   "source": [
    "-321%10"
   ]
  },
  {
   "cell_type": "code",
   "execution_count": null,
   "metadata": {},
   "outputs": [],
   "source": []
  }
 ],
 "metadata": {
  "kernelspec": {
   "display_name": "Python 3",
   "language": "python",
   "name": "python3"
  },
  "language_info": {
   "codemirror_mode": {
    "name": "ipython",
    "version": 3
   },
   "file_extension": ".py",
   "mimetype": "text/x-python",
   "name": "python",
   "nbconvert_exporter": "python",
   "pygments_lexer": "ipython3",
   "version": "3.6.8"
  }
 },
 "nbformat": 4,
 "nbformat_minor": 2
}
