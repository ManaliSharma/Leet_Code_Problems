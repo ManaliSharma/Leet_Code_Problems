{
 "cells": [
  {
   "cell_type": "code",
   "execution_count": 1,
   "metadata": {},
   "outputs": [],
   "source": [
    "# Given a string containing just the characters '(', ')', '{', '}', '[' and ']', determine if the input string is valid.\n",
    "\n",
    "# An input string is valid if:\n",
    "\n",
    "# Open brackets must be closed by the same type of brackets.\n",
    "# Open brackets must be closed in the correct order.\n",
    "# Note that an empty string is also considered valid.\n",
    "\n",
    "# Example 1:\n",
    "\n",
    "# Input: \"()\"\n",
    "# Output: true\n",
    "# Example 2:\n",
    "\n",
    "# Input: \"()[]{}\"\n",
    "# Output: true\n",
    "# Example 3:\n",
    "\n",
    "# Input: \"(]\"\n",
    "# Output: false\n",
    "# Example 4:\n",
    "\n",
    "# Input: \"([)]\"\n",
    "# Output: false\n",
    "# Example 5:\n",
    "\n",
    "# Input: \"{[]}\"\n",
    "# Output: true"
   ]
  },
  {
   "cell_type": "code",
   "execution_count": 84,
   "metadata": {},
   "outputs": [],
   "source": [
    "def isValid(s: str):\n",
    "    list=['}',')',']']\n",
    "    list1=['{','(','[']\n",
    "    x=dict(zip(list1,list))\n",
    "    count=0\n",
    "    for k,v in x.items():\n",
    "        \n",
    "        if s[0] in k:\n",
    "            if s[len(s)-1]==v:\n",
    "                return True\n",
    "            else:\n",
    "                for i in range(len(s)-1):\n",
    "                    if s[i] in k:\n",
    "                        if s[i+1]==v:\n",
    "                            i=i+2\n",
    "                        continue\n",
    "                    else:\n",
    "                        i=i+1\n",
    "                        \n",
    "                        return True\n",
    "                return False\n",
    "                        \n",
    "            \n",
    "                                     \n",
    "                        \n",
    "                \n",
    "    \n",
    "    \n",
    "        \n",
    "    "
   ]
  },
  {
   "cell_type": "code",
   "execution_count": 85,
   "metadata": {},
   "outputs": [
    {
     "data": {
      "text/plain": [
       "True"
      ]
     },
     "execution_count": 85,
     "metadata": {},
     "output_type": "execute_result"
    }
   ],
   "source": [
    "isValid(\"()[]{}\")"
   ]
  },
  {
   "cell_type": "code",
   "execution_count": null,
   "metadata": {},
   "outputs": [],
   "source": []
  },
  {
   "cell_type": "code",
   "execution_count": null,
   "metadata": {},
   "outputs": [],
   "source": []
  }
 ],
 "metadata": {
  "kernelspec": {
   "display_name": "Python 3",
   "language": "python",
   "name": "python3"
  },
  "language_info": {
   "codemirror_mode": {
    "name": "ipython",
    "version": 3
   },
   "file_extension": ".py",
   "mimetype": "text/x-python",
   "name": "python",
   "nbconvert_exporter": "python",
   "pygments_lexer": "ipython3",
   "version": "3.6.8"
  }
 },
 "nbformat": 4,
 "nbformat_minor": 2
}
