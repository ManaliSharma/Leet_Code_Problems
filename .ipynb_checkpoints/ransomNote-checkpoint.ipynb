{
 "cells": [
  {
   "cell_type": "code",
   "execution_count": 1,
   "metadata": {},
   "outputs": [],
   "source": [
    "# Given an arbitrary ransom note string and another string containing letters from all the magazines, write a function that will return true if the ransom note can be constructed from the magazines ; otherwise, it will return false.\n",
    "\n",
    "# Each letter in the magazine string can only be used once in your ransom note.\n",
    "\n",
    " \n",
    "\n",
    "# Example 1:\n",
    "\n",
    "# Input: ransomNote = \"a\", magazine = \"b\"\n",
    "# Output: false\n",
    "# Example 2:\n",
    "\n",
    "# Input: ransomNote = \"aa\", magazine = \"ab\"\n",
    "# Output: false\n",
    "# Example 3:\n",
    "\n",
    "# Input: ransomNote = \"aa\", magazine = \"aab\"\n",
    "# Output: true\n",
    " \n",
    "\n",
    "# Constraints:\n",
    "\n",
    "# You may assume that both strings contain only lowercase letters.\n",
    "\n"
   ]
  },
  {
   "cell_type": "code",
   "execution_count": 2,
   "metadata": {},
   "outputs": [],
   "source": [
    "def canConstruct(ransomNote: str, magazine: str) -> bool:\n",
    "    x=len(ransomNote)\n",
    "    y=len(magazine)\n",
    "    if x==0 and y==0:\n",
    "        return True\n",
    "\n",
    "    elif  x==0 and y!=0:\n",
    "        return True\n",
    "    elif  x!=0 and y==0:\n",
    "        return False\n",
    "    else:\n",
    "        if x <= y :\n",
    "\n",
    "\n",
    "            for i in range(x):\n",
    "                z=ransomNote.count(ransomNote[i])\n",
    "           \n",
    "                if ransomNote[i] in magazine and z <= magazine.count(ransomNote[i]):\n",
    "                    continue\n",
    "                else:\n",
    "                    return False\n",
    "\n",
    "            return True"
   ]
  },
  {
   "cell_type": "code",
   "execution_count": 3,
   "metadata": {},
   "outputs": [
    {
     "data": {
      "text/plain": [
       "True"
      ]
     },
     "execution_count": 3,
     "metadata": {},
     "output_type": "execute_result"
    }
   ],
   "source": [
    "ransomNote=\"aab\"\n",
    "magazine=\"baa\"\n",
    "canConstruct(ransomNote, magazine)"
   ]
  },
  {
   "cell_type": "code",
   "execution_count": null,
   "metadata": {},
   "outputs": [],
   "source": []
  }
 ],
 "metadata": {
  "kernelspec": {
   "display_name": "Python 3",
   "language": "python",
   "name": "python3"
  },
  "language_info": {
   "codemirror_mode": {
    "name": "ipython",
    "version": 3
   },
   "file_extension": ".py",
   "mimetype": "text/x-python",
   "name": "python",
   "nbconvert_exporter": "python",
   "pygments_lexer": "ipython3",
   "version": "3.6.8"
  }
 },
 "nbformat": 4,
 "nbformat_minor": 2
}
