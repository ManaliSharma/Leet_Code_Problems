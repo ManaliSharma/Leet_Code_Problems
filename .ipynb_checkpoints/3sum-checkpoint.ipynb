{
 "cells": [
  {
   "cell_type": "code",
   "execution_count": null,
   "metadata": {},
   "outputs": [],
   "source": [
    "# Given an array nums of n integers, are there elements a, b, c in nums such that a + b + c = 0? Find all unique triplets in the array which gives the sum of zero.\n",
    "\n",
    "# Note:\n",
    "\n",
    "# The solution set must not contain duplicate triplets.\n",
    "\n",
    "# Example:\n",
    "\n",
    "# Given array nums = [-1, 0, 1, 2, -1, -4],\n",
    "\n",
    "# A solution set is:\n",
    "# [\n",
    "#   [-1, 0, 1],\n",
    "#   [-1, -1, 2]\n",
    "# ]"
   ]
  },
  {
   "cell_type": "code",
   "execution_count": null,
   "metadata": {},
   "outputs": [],
   "source": [
    "# Algorithm\n",
    "\n",
    "# The implementation is straightforward - we just need to modify twoSumII to produce triplets and skip repeating values.\n",
    "\n",
    "# For the main function:\n",
    "\n",
    "# Sort the input array nums.\n",
    "# Iterate through the array:\n",
    "# If the current value is greater than zero, break from the loop. Remaining values cannot sum to zero.\n",
    "# If the current value is the same as the one before, skip it.\n",
    "# Otherwise, call twoSumII for the current position i.\n",
    "# For twoSumII function:\n",
    "\n",
    "# Set the low pointer lo to i + 1, and high pointer hi to the last index.\n",
    "# While low pointer is smaller than high:\n",
    "# If sum of nums[i] + nums[lo] + nums[hi] is less than zero, increment lo.\n",
    "# If sum is greater than zero, decrement hi.\n",
    "# Otherwise, we found a triplet:\n",
    "# Add it to the result res.\n",
    "# Decrement hi and increment lo.\n",
    "# Increment lo while the next value is the same as before to avoid duplicates in the result.\n",
    "# Return the result res.\n",
    "\n"
   ]
  },
  {
   "cell_type": "code",
   "execution_count": 19,
   "metadata": {},
   "outputs": [],
   "source": [
    "#approch 1\n",
    "def threesum(nums):\n",
    "    res=[]\n",
    "    nums.sort()\n",
    "    for i,c in enumerate(nums):\n",
    "        \n",
    "        if c>0:\n",
    "            break        #Remaining values cannot sum to zero\n",
    "            \n",
    "        elif nums[i]!=nums[i-1] or i==0: \n",
    "            \n",
    "            twosumII(nums,res,i)\n",
    "            \n",
    "    return res\n",
    "            \n",
    "            \n",
    "def twosumII(nums,res,i):\n",
    "    \n",
    "    low=i+1\n",
    "    high=len(nums)-1\n",
    "    while low<high:\n",
    "        sum=nums[i]+nums[low]+nums[high]\n",
    "        \n",
    "        if sum==0:\n",
    "            res.append([nums[i],nums[low],nums[high]])\n",
    "            low+=1\n",
    "            high-=1\n",
    "            while low<high and nums[low]==nums[low-1]:\n",
    "                low+=1\n",
    "        elif sum<0:\n",
    "            low+=1\n",
    "        else:\n",
    "            high-=1\n",
    "            "
   ]
  },
  {
   "cell_type": "code",
   "execution_count": 20,
   "metadata": {},
   "outputs": [
    {
     "data": {
      "text/plain": [
       "[[-1, -1, 2], [-1, 0, 1]]"
      ]
     },
     "execution_count": 20,
     "metadata": {},
     "output_type": "execute_result"
    }
   ],
   "source": [
    "nums = [-1, 0, 1, 2, -1, -4]\n",
    "threesum(nums)"
   ]
  },
  {
   "cell_type": "code",
   "execution_count": null,
   "metadata": {},
   "outputs": [],
   "source": [
    "# The main function is the same as in the Two Pointers approach above. Here, we use twoSum (instead of twoSumII), modified to produce triplets and skip repeating values.\n",
    "\n",
    "# For the main function:\n",
    "\n",
    "# Sort the input array nums.\n",
    "# Iterate through the array:\n",
    "# If the current value is greater than zero, break from the loop. Remaining values cannot sum to zero.\n",
    "# If the current value is the same as the one before, skip it.\n",
    "# Otherwise, call twoSum for the current position i.\n",
    "# For twoSum function:\n",
    "\n",
    "# For each index j > i in A:\n",
    "# Compute complement value as -nums[i] - nums[j].\n",
    "# If complement exists in hashset seen:\n",
    "# We found a triplet - add it to the result res.\n",
    "# Increment j while the next value is the same as before to avoid duplicates in the result.\n",
    "# Add nums[j] to hashset seen\n"
   ]
  },
  {
   "cell_type": "code",
   "execution_count": 34,
   "metadata": {},
   "outputs": [],
   "source": [
    "#approach 2\n",
    "\n",
    "def threesum(nums):\n",
    "    \n",
    "    res = []\n",
    "    nums.sort()\n",
    "    for i in range(len(nums)):\n",
    "        if nums[i] > 0:\n",
    "            break\n",
    "        if i == 0 or nums[i - 1] != nums[i]:\n",
    "            twosumII(nums,res,i)\n",
    "    return res\n",
    "\n",
    "\n",
    "def twosumII( nums,res,i):\n",
    "    seen = set()\n",
    "    j = i + 1\n",
    "    while j < len(nums):\n",
    "        complement = -nums[i] - nums[j]\n",
    "        if complement in seen:\n",
    "            res.append([nums[i], nums[j], complement])\n",
    "            while j + 1 < len(nums) and nums[j] == nums[j + 1]:\n",
    "                j += 1\n",
    "        seen.add(nums[j])\n",
    "        j += 1"
   ]
  },
  {
   "cell_type": "code",
   "execution_count": 35,
   "metadata": {},
   "outputs": [
    {
     "data": {
      "text/plain": [
       "[[-1, 1, 0], [-1, 2, -1]]"
      ]
     },
     "execution_count": 35,
     "metadata": {},
     "output_type": "execute_result"
    }
   ],
   "source": [
    "nums = [-1, 0, 1, 2, -1, -4]\n",
    "threesum(nums)"
   ]
  },
  {
   "cell_type": "code",
   "execution_count": null,
   "metadata": {},
   "outputs": [],
   "source": []
  }
 ],
 "metadata": {
  "kernelspec": {
   "display_name": "Python 3",
   "language": "python",
   "name": "python3"
  },
  "language_info": {
   "codemirror_mode": {
    "name": "ipython",
    "version": 3
   },
   "file_extension": ".py",
   "mimetype": "text/x-python",
   "name": "python",
   "nbconvert_exporter": "python",
   "pygments_lexer": "ipython3",
   "version": "3.6.8"
  }
 },
 "nbformat": 4,
 "nbformat_minor": 2
}
