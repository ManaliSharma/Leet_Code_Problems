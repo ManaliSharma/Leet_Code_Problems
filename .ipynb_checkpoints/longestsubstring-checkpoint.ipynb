{
 "cells": [
  {
   "cell_type": "code",
   "execution_count": 19,
   "metadata": {},
   "outputs": [],
   "source": [
    "def longestsubstring(s):\n",
    "    start=0 #start index of given string\n",
    "    max_len=0 #max lenght of substring present\n",
    "    map={}    #for maintaining characters and their indexes in given string\n",
    "    \n",
    "    for i,c in enumerate(s):\n",
    "        if c in map and start<=map[c]:     #if character is in dict and we check if it is before the start point or after the start point\n",
    "            start=map[c]+1   #make new start point when u find an occurrence\n",
    "        else:\n",
    "            max_len=max(max_len,i-start+1)     #here we do \"i-start\"+1 bcuz enumerate/range starts with 0\n",
    "            \n",
    "        map[c]=i\n",
    "    return max_len"
   ]
  },
  {
   "cell_type": "code",
   "execution_count": 20,
   "metadata": {
    "scrolled": true
   },
   "outputs": [
    {
     "data": {
      "text/plain": [
       "3"
      ]
     },
     "execution_count": 20,
     "metadata": {},
     "output_type": "execute_result"
    }
   ],
   "source": [
    "longestsubstring('abcabcbb')"
   ]
  },
  {
   "cell_type": "code",
   "execution_count": null,
   "metadata": {},
   "outputs": [],
   "source": [
    "# Given a string, find the length of the longest substring without repeating characters.\n",
    "\n",
    "# Example 1:\n",
    "\n",
    "# Input: \"abcabcbb\"\n",
    "# Output: 3 \n",
    "# Explanation: The answer is \"abc\", with the length of 3. \n",
    "# Example 2:\n",
    "\n",
    "# Input: \"bbbbb\"\n",
    "# Output: 1\n",
    "# Explanation: The answer is \"b\", with the length of 1.\n",
    "# Example 3:\n",
    "\n",
    "# Input: \"pwwkew\"\n",
    "# Output: 3\n",
    "# Explanation: The answer is \"wke\", with the length of 3. \n",
    "#              Note that the answer must be a substring, \"pwke\" is a subsequence and not a substring."
   ]
  },
  {
   "cell_type": "code",
   "execution_count": null,
   "metadata": {},
   "outputs": [],
   "source": [
    "# #Use a dictionary to keep trakcing the last appearance index of the character.\n",
    "# If we encounter a duplicated word, we use the current idx minus our last index to get the length of current window. Then we refresh the last pointer point to the previous appearance of the current character.\n"
   ]
  }
 ],
 "metadata": {
  "kernelspec": {
   "display_name": "Python 3",
   "language": "python",
   "name": "python3"
  },
  "language_info": {
   "codemirror_mode": {
    "name": "ipython",
    "version": 3
   },
   "file_extension": ".py",
   "mimetype": "text/x-python",
   "name": "python",
   "nbconvert_exporter": "python",
   "pygments_lexer": "ipython3",
   "version": "3.6.8"
  }
 },
 "nbformat": 4,
 "nbformat_minor": 2
}
