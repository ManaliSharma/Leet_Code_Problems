{
 "cells": [
  {
   "cell_type": "code",
   "execution_count": 1,
   "metadata": {},
   "outputs": [],
   "source": [
    "# The water we trapped depends on the left side and right side which has the max height,\n",
    "\n",
    "# We keep the left side and right side until we find a higher side"
   ]
  },
  {
   "cell_type": "code",
   "execution_count": 2,
   "metadata": {},
   "outputs": [],
   "source": [
    "# Given n non-negative integers representing an elevation map where the width of each bar is 1, compute how much water it is able to trap after raining.\n",
    "\n",
    "\n",
    "# The above elevation map is represented by array [0,1,0,2,1,0,1,3,2,1,2,1]. In this case, 6 units of rain water (blue section) are being trapped. Thanks Marcos for contributing this image!\n",
    "\n",
    "# Example:\n",
    "\n",
    "# Input: [0,1,0,2,1,0,1,3,2,1,2,1]\n",
    "# Output: 6"
   ]
  },
  {
   "cell_type": "code",
   "execution_count": 3,
   "metadata": {},
   "outputs": [],
   "source": [
    "#same like container with most water"
   ]
  },
  {
   "cell_type": "code",
   "execution_count": 4,
   "metadata": {},
   "outputs": [],
   "source": [
    "def trapwater(height):\n",
    "    \n",
    "    #when input array is empty\n",
    "    if len(height)==0:\n",
    "        return 0\n",
    "    \n",
    "    #when input array is not empty\n",
    "    \n",
    "    left=0 #starting index of input array\n",
    "    right=len(height)-1 #last index of input array\n",
    "    \n",
    "    #by default values\n",
    "    leftmax=height[left]\n",
    "    rightmax=height[right]\n",
    "    \n",
    "    totalwater=0 #temp needs to be returned\n",
    "    \n",
    "    while left<right:\n",
    "        \n",
    "        if leftmax<rightmax:\n",
    "            totalwater+=leftmax-height[left]\n",
    "            left+=1\n",
    "            leftmax=max(leftmax,height[left])\n",
    "            \n",
    "        else:\n",
    "            totalwater+=rightmax-height[right]\n",
    "            right-=1\n",
    "            rightmax=max(rightmax,height[right])\n",
    "            \n",
    "    return totalwater"
   ]
  },
  {
   "cell_type": "code",
   "execution_count": 5,
   "metadata": {},
   "outputs": [],
   "source": [
    "height=[0,1,0,2,1,0,1,3,2,1,2,1]"
   ]
  },
  {
   "cell_type": "code",
   "execution_count": 6,
   "metadata": {},
   "outputs": [
    {
     "data": {
      "text/plain": [
       "6"
      ]
     },
     "execution_count": 6,
     "metadata": {},
     "output_type": "execute_result"
    }
   ],
   "source": [
    "trapwater(height)"
   ]
  },
  {
   "cell_type": "code",
   "execution_count": null,
   "metadata": {},
   "outputs": [],
   "source": []
  }
 ],
 "metadata": {
  "kernelspec": {
   "display_name": "Python 3",
   "language": "python",
   "name": "python3"
  },
  "language_info": {
   "codemirror_mode": {
    "name": "ipython",
    "version": 3
   },
   "file_extension": ".py",
   "mimetype": "text/x-python",
   "name": "python",
   "nbconvert_exporter": "python",
   "pygments_lexer": "ipython3",
   "version": "3.6.8"
  }
 },
 "nbformat": 4,
 "nbformat_minor": 2
}
