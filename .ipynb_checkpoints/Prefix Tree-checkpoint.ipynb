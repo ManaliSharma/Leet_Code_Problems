{
 "cells": [
  {
   "cell_type": "code",
   "execution_count": 1,
   "metadata": {},
   "outputs": [],
   "source": [
    "# #Implement a trie with insert, search, and startsWith methods.\n",
    "\n",
    "# Example:\n",
    "\n",
    "# Trie trie = new Trie();\n",
    "\n",
    "# trie.insert(\"apple\");\n",
    "# trie.search(\"apple\");   // returns true\n",
    "# trie.search(\"app\");     // returns false\n",
    "# trie.startsWith(\"app\"); // returns true\n",
    "# trie.insert(\"app\");   \n",
    "# trie.search(\"app\");     // returns true\n",
    "# Note:\n",
    "\n",
    "# You may assume that all inputs are consist of lowercase letters a-z.\n",
    "# All inputs are guaranteed to be non-empty strings."
   ]
  },
  {
   "cell_type": "code",
   "execution_count": 2,
   "metadata": {},
   "outputs": [],
   "source": [
    "#Should learn concept of binary tree to implement trie\n",
    "#Binary Tree in Python:-\n",
    "\n",
    "#for creating a tree with just the root node\n",
    "\n",
    "class Node:\n",
    "    def  __init__(self, data):\n",
    "        self.left=None    #child node\n",
    "        self.right=None    #child node\n",
    "        self.data=data\n",
    "        \n",
    "    def PrintTree(self):\n",
    "        print(self.data)\n",
    "    \n",
    "    \n"
   ]
  },
  {
   "cell_type": "code",
   "execution_count": 3,
   "metadata": {},
   "outputs": [
    {
     "name": "stdout",
     "output_type": "stream",
     "text": [
      "10\n"
     ]
    }
   ],
   "source": [
    "Root=Node(10)\n",
    "Root.PrintTree()"
   ]
  },
  {
   "cell_type": "code",
   "execution_count": 4,
   "metadata": {},
   "outputs": [],
   "source": [
    "#Inserting into Tree basically making a tree\n",
    "class Node:\n",
    "    \n",
    "    def __init__(self,data):\n",
    "        self.left=None  #child node\n",
    "        self.right=None #child node\n",
    "        self.data=data #root node\n",
    "        \n",
    "    def insert(self,data):\n",
    "        if self.data:             #root node exists or not\n",
    "            if data < self.data:              #left child\n",
    "                if self.left is None:\n",
    "                    self.left=Node(data)    #if left node doesn't exist add it as  left node\n",
    "                    \n",
    "                else:\n",
    "                    self.left.insert(data)\n",
    "                    \n",
    "            elif data > self.data:              #left child\n",
    "                if self.right is None:\n",
    "                    self.right=Node(data)    ##if right node doesn't exist add it as right node\n",
    "                    \n",
    "                else:\n",
    "                    self.right.insert(data)\n",
    "                    \n",
    "            else:\n",
    "                self.data=data\n",
    "     \n",
    "    def search (self,search):\n",
    "        if search < self.data:\n",
    "            if self.left is None:\n",
    "                return ( str(search)+\"Not Found\")\n",
    "            return self.left.search(search)\n",
    "        \n",
    "        elif search > self.data:\n",
    "            if self.right is None:\n",
    "                return (str(search)+\"Not Found\")\n",
    "            return self.right.search(search)\n",
    "            \n",
    "        else:\n",
    "            return (str(self.data)+\"Found\")\n",
    "        \n",
    "                        \n",
    "                        \n",
    "                        \n",
    "    def PrintTree(self):\n",
    "        if self.left :\n",
    "            self.left.PrintTree()\n",
    "        if self.right :\n",
    "            self.right.PrintTree()\n",
    "        print(self.data)   \n",
    "        \n",
    "\n"
   ]
  },
  {
   "cell_type": "code",
   "execution_count": 5,
   "metadata": {},
   "outputs": [
    {
     "name": "stdout",
     "output_type": "stream",
     "text": [
      "3\n",
      "6\n",
      "14\n",
      "12\n"
     ]
    }
   ],
   "source": [
    "root = Node(12)\n",
    "root.insert(6)\n",
    "root.insert(14)\n",
    "root.insert(3)\n",
    "root.PrintTree()"
   ]
  },
  {
   "cell_type": "code",
   "execution_count": 6,
   "metadata": {},
   "outputs": [
    {
     "name": "stdout",
     "output_type": "stream",
     "text": [
      "6Found\n"
     ]
    }
   ],
   "source": [
    "#Tree Traversal\n",
    "root=Node(10)\n",
    "root.search(7)\n",
    "root.insert(6)\n",
    "root.insert(5)\n",
    "root.insert(7)\n",
    "print(root.search(6))"
   ]
  },
  {
   "cell_type": "code",
   "execution_count": 9,
   "metadata": {},
   "outputs": [],
   "source": [
    "#prefix tree\n",
    "#checks notes if do not understand\n",
    "#make a tree node\n",
    "class Node:\n",
    "    \n",
    "    def __init__(self,value):\n",
    "        self.wordExist=False        #for telling if word exists in the tree or not\n",
    "        self.value= value          #value for node\n",
    "        self.children ={}               #empty dictionary for initialisation to maintain parent-child relationship\n",
    "        \n",
    "\n",
    "class prefixTree:\n",
    "    \n",
    "    def __init__(self):\n",
    "        self.root=Node(None)               #initialising the root node , \"None\" passed because we have put value in node class\n",
    "        \n",
    "        \n",
    "    def insert(self,word):\n",
    "        \n",
    "        parent=self.root         #setting the parent node\n",
    "        for i in word:           #iterating over each character in word\n",
    "            \n",
    "            #check whether character present in word is present in childrens of parent, if not then add it over here\n",
    "            if i not in parent.children:\n",
    "                parent.children[i]=Node(i)     #adding here\n",
    "                \n",
    "            parent=parent.children[i] #makes it as a starting root for next iteration till the word is being iterated\n",
    "            \n",
    "  \n",
    "        parent.wordExist= True\n",
    "  \n",
    "\n",
    "        \n",
    "            \n",
    "    def search(self,word):\n",
    "        parent=self.root   ##setting the parent node\n",
    "        for i in word:                             ##iterating over each character in word\n",
    "            #check whether character present in word is present in childrens of parent, if not then return false otherwise iterate forward\n",
    "            #by making child as new root node\n",
    "            \n",
    "            if i not in parent.children:\n",
    "                return False\n",
    "            parent=parent.children[i]\n",
    "        return parent.wordExist  #value will always be true\n",
    "    \n",
    "    \n",
    "    def startsWith(self,prefix):\n",
    "        parent=self.root\n",
    "        for i in prefix:\n",
    "            if i not in parent.children:\n",
    "                return False\n",
    "            else:\n",
    "                parent=parent.children[i]\n",
    "        \n",
    "        return True\n",
    "        \n",
    "        \n",
    "\n",
    "    \n",
    "      \n",
    "        \n",
    "            "
   ]
  },
  {
   "cell_type": "code",
   "execution_count": 11,
   "metadata": {},
   "outputs": [
    {
     "data": {
      "text/plain": [
       "True"
      ]
     },
     "execution_count": 11,
     "metadata": {},
     "output_type": "execute_result"
    }
   ],
   "source": [
    "trie= prefixTree()\n",
    "trie.insert(\"apple\")\n",
    "trie.search(\"apple\")   #// returns true\n",
    "trie.search(\"app\")     #// returns false\n",
    "trie.startsWith(\"app\") #// returns true\n",
    "trie.insert(\"app\")   \n",
    "trie.search(\"app\")  "
   ]
  },
  {
   "cell_type": "code",
   "execution_count": null,
   "metadata": {},
   "outputs": [],
   "source": []
  }
 ],
 "metadata": {
  "kernelspec": {
   "display_name": "Python 3",
   "language": "python",
   "name": "python3"
  },
  "language_info": {
   "codemirror_mode": {
    "name": "ipython",
    "version": 3
   },
   "file_extension": ".py",
   "mimetype": "text/x-python",
   "name": "python",
   "nbconvert_exporter": "python",
   "pygments_lexer": "ipython3",
   "version": "3.6.8"
  }
 },
 "nbformat": 4,
 "nbformat_minor": 2
}
