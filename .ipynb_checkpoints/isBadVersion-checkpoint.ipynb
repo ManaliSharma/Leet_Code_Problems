{
 "cells": [
  {
   "cell_type": "code",
   "execution_count": 1,
   "metadata": {},
   "outputs": [],
   "source": [
    "# You are a product manager and currently leading a team to develop a new product. Unfortunately, the latest version of your product fails the quality check. Since each version is developed based on the previous version, all the versions after a bad version are also bad.\n",
    "\n",
    "# Suppose you have n versions [1, 2, ..., n] and you want to find out the first bad one, which causes all the following ones to be bad.\n",
    "\n",
    "# You are given an API bool isBadVersion(version) which will return whether version is bad. Implement a function to find the first bad version. You should minimize the number of calls to the API.\n",
    "\n",
    "# Example:\n",
    "\n",
    "# Given n = 5, and version = 4 is the first bad version.\n",
    "\n",
    "# call isBadVersion(3) -> false\n",
    "# call isBadVersion(5) -> true\n",
    "# call isBadVersion(4) -> true\n",
    "\n",
    "# Then 4 is the first bad version. \n",
    "\n",
    "\n",
    "# The isBadVersion API is already defined for you.\n",
    "# @param version, an integer\n",
    "# @return an integer\n",
    "\n",
    "\n"
   ]
  },
  {
   "cell_type": "code",
   "execution_count": 2,
   "metadata": {},
   "outputs": [],
   "source": [
    "first_bad=0\n",
    "def isBadVersion(version):\n",
    "    if version >= first_bad:\n",
    "        \n",
    "        return True\n",
    "    \n",
    "    return False\n",
    "\n",
    "#very bad code\n",
    "class Solution:\n",
    "    def firstBadVersion(self, n):\n",
    "        l=0\n",
    "        r=n\n",
    "        m=l+(r-l)//2\n",
    "        if isBadVersion(m)== True:\n",
    "            r=m\n",
    "            for i in range(l,r):\n",
    "                if isBadVersion(i):\n",
    "                    return i\n",
    "                    \n",
    "        else:\n",
    "            l=m+1\n",
    "            for i in range(l,r):\n",
    "                if isBadVersion(i):\n",
    "                    return i\n",
    "   \n",
    "\n",
    "#best solution\n",
    "\n",
    "def firstBadVersion(self, n):\n",
    "      \n",
    "        l = 0\n",
    "        r= n\n",
    "        for i in range(l,r+1):\n",
    "            print(i)\n",
    "            m = (l+r)//2\n",
    "            \n",
    "            if isBadVersion(m-1) == False and isBadVersion(m)== True:\n",
    "                return m\n",
    "            else:\n",
    "                if isBadVersion(m) == False:\n",
    "                    l = m +1\n",
    "                else:\n",
    "                    r = m -1\n",
    "        return -1"
   ]
  },
  {
   "cell_type": "code",
   "execution_count": null,
   "metadata": {},
   "outputs": [],
   "source": [
    "ob1 = Solution()\n",
    "first_bad = 89\n",
    "op = ob1.firstBadVersion(100)\n",
    "print(op)\n",
    "89"
   ]
  }
 ],
 "metadata": {
  "kernelspec": {
   "display_name": "Python 3",
   "language": "python",
   "name": "python3"
  },
  "language_info": {
   "codemirror_mode": {
    "name": "ipython",
    "version": 3
   },
   "file_extension": ".py",
   "mimetype": "text/x-python",
   "name": "python",
   "nbconvert_exporter": "python",
   "pygments_lexer": "ipython3",
   "version": "3.6.8"
  }
 },
 "nbformat": 4,
 "nbformat_minor": 2
}
