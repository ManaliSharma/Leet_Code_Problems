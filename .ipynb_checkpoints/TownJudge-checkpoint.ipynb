{
 "cells": [
  {
   "cell_type": "code",
   "execution_count": null,
   "metadata": {},
   "outputs": [],
   "source": [
    "# #town Judge\n",
    "# In a town, there are N people labelled from 1 to N.  There is a rumor that one of these people is secretly the town judge.\n",
    "\n",
    "# If the town judge exists, then:\n",
    "\n",
    "# The town judge trusts nobody.\n",
    "# Everybody (except for the town judge) trusts the town judge.\n",
    "# There is exactly one person that satisfies properties 1 and 2.\n",
    "# You are given trust, an array of pairs trust[i] = [a, b] representing that the person labelled a trusts the person labelled b.\n",
    "\n",
    "# If the town judge exists and can be identified, return the label of the town judge.  Otherwise, return -1.\n",
    "\n",
    " \n",
    "\n",
    "# Example 1:\n",
    "\n",
    "# Input: N = 2, trust = [[1,2]]\n",
    "# Output: 2\n",
    "# Example 2:\n",
    "\n",
    "# Input: N = 3, trust = [[1,3],[2,3]]\n",
    "# Output: 3\n",
    "# Example 3:\n",
    "\n",
    "# Input: N = 3, trust = [[1,3],[2,3],[3,1]]\n",
    "# Output: -1\n",
    "# Example 4:\n",
    "\n",
    "# Input: N = 3, trust = [[1,2],[2,3]]\n",
    "# Output: -1\n",
    "# Example 5:\n",
    "\n",
    "# Input: N = 4, trust = [[1,3],[1,4],[2,3],[2,4],[4,3]]\n",
    "# Output: 3\n",
    " \n",
    "\n",
    "# Constraints:\n",
    "\n",
    "# 1 <= N <= 1000\n",
    "# 0 <= trust.length <= 10^4\n",
    "# trust[i].length == 2\n",
    "# trust[i] are all different\n",
    "# trust[i][0] != trust[i][1]\n",
    "# 1 <= trust[i][0], trust[i][1] <= N"
   ]
  },
  {
   "cell_type": "code",
   "execution_count": 1,
   "metadata": {},
   "outputs": [],
   "source": [
    "#town judge\n",
    "def findJudge(N: int, trust) -> int:\n",
    "    if N==1:\n",
    "            return N\n",
    "    elif len(trust)==1 and N > 1:\n",
    "        return trust[0][1]\n",
    "    else:    \n",
    "        dict={}\n",
    "        l=[]\n",
    "        for t in trust:\n",
    "            l.append(t[0])\n",
    "\n",
    "            if t[1] not in dict:\n",
    "                \n",
    "                dict[t[1]]=1\n",
    "            else:\n",
    "                dict[t[1]]+=1\n",
    "        for key in dict:\n",
    "            if dict[key]==N-1 and key not in l:\n",
    "                return key\n",
    "            \n",
    "        return -1"
   ]
  },
  {
   "cell_type": "code",
   "execution_count": 2,
   "metadata": {},
   "outputs": [
    {
     "data": {
      "text/plain": [
       "3"
      ]
     },
     "execution_count": 2,
     "metadata": {},
     "output_type": "execute_result"
    }
   ],
   "source": [
    "x=findJudge(3,([[1,3],[2,3]]))\n",
    "x"
   ]
  },
  {
   "cell_type": "code",
   "execution_count": 3,
   "metadata": {},
   "outputs": [],
   "source": [
    "#trial code\n",
    "#town judge\n",
    "def findJudge(N: int, trust) -> int:\n",
    "    if N==1:\n",
    "            return N\n",
    "    elif len(trust)==1 and N > 1:\n",
    "        return trust[0][1]\n",
    "    else:    \n",
    "        li=[]\n",
    "        for t in trust:\n",
    "            li.append(t[0])\n",
    "        \n",
    "        for i in range(len(trust)-1):\n",
    "            \n",
    "            if ((trust[i][1] not in li) and trust[i][1]!=N-1)  :\n",
    "                if ((trust[i][1]==trust[i-1][1]) and trust[i][1]!=trust[i][0]):\n",
    "                    return trust[i][1]\n",
    "            else:     \n",
    "                return -1"
   ]
  },
  {
   "cell_type": "code",
   "execution_count": null,
   "metadata": {},
   "outputs": [],
   "source": []
  }
 ],
 "metadata": {
  "kernelspec": {
   "display_name": "Python 3",
   "language": "python",
   "name": "python3"
  },
  "language_info": {
   "codemirror_mode": {
    "name": "ipython",
    "version": 3
   },
   "file_extension": ".py",
   "mimetype": "text/x-python",
   "name": "python",
   "nbconvert_exporter": "python",
   "pygments_lexer": "ipython3",
   "version": "3.6.8"
  }
 },
 "nbformat": 4,
 "nbformat_minor": 2
}
