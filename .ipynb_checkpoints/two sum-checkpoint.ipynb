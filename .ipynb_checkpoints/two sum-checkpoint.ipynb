{
 "cells": [
  {
   "cell_type": "code",
   "execution_count": null,
   "metadata": {},
   "outputs": [],
   "source": [
    "# Given an array of integers, return indices of the two numbers such that they add up to a specific target.\n",
    "\n",
    "# You may assume that each input would have exactly one solution, and you may not use the same element twice.\n",
    "\n",
    "# Example:\n",
    "\n",
    "# Given nums = [2, 7, 11, 15], target = 9,\n",
    "\n",
    "# Because nums[0] + nums[1] = 2 + 7 = 9,\n",
    "# return [0, 1]."
   ]
  },
  {
   "cell_type": "code",
   "execution_count": 7,
   "metadata": {},
   "outputs": [],
   "source": [
    "#brute force\n",
    "def twoSum(nums,target):\n",
    "    \n",
    "    for i in range(len(nums)):\n",
    "        \n",
    "            for j in range(i+1,len(nums)):\n",
    "                if nums[j]==target-nums[i]:\n",
    "                    return [i,j]\n",
    "\n",
    "    return -1      \n",
    "        "
   ]
  },
  {
   "cell_type": "code",
   "execution_count": 8,
   "metadata": {},
   "outputs": [],
   "source": [
    "nums = [2, 7, 11, 15]\n",
    "target = 9"
   ]
  },
  {
   "cell_type": "code",
   "execution_count": 9,
   "metadata": {},
   "outputs": [
    {
     "data": {
      "text/plain": [
       "[0, 1]"
      ]
     },
     "execution_count": 9,
     "metadata": {},
     "output_type": "execute_result"
    }
   ],
   "source": [
    "twoSum(nums,target)"
   ]
  },
  {
   "cell_type": "code",
   "execution_count": 14,
   "metadata": {},
   "outputs": [],
   "source": [
    "#ideal way\n",
    "\n",
    "def twosum(nums,target):\n",
    "    \n",
    "    #maintain a hash map for maintaining the index of the complement of the number i.e complement=target=nums[i]\n",
    "    complement_dict={}\n",
    "    \n",
    "    #iterate over index of array\n",
    "    for i,c in enumerate(nums):\n",
    "        \n",
    "        complement=target-c\n",
    "        \n",
    "        #complement is nothing but another number in given array such that adding it with the \n",
    "        #fetched number from for loop in this iteration will give us target\n",
    "        if complement in complement_dict:\n",
    "            return [complement_dict[complement],i]       \n",
    "        \n",
    "        #store index as values and keys as array values for those indexes\n",
    "        if c not in complement_dict:\n",
    "            complement_dict[c]=i\n",
    "            \n",
    "    return []\n",
    "        \n",
    "        "
   ]
  },
  {
   "cell_type": "code",
   "execution_count": 12,
   "metadata": {},
   "outputs": [],
   "source": [
    "nums = [2, 7, 11, 15]\n",
    "target = 9"
   ]
  },
  {
   "cell_type": "code",
   "execution_count": 13,
   "metadata": {},
   "outputs": [
    {
     "data": {
      "text/plain": [
       "[0, 1]"
      ]
     },
     "execution_count": 13,
     "metadata": {},
     "output_type": "execute_result"
    }
   ],
   "source": [
    "twosum(nums,target)"
   ]
  },
  {
   "cell_type": "code",
   "execution_count": null,
   "metadata": {},
   "outputs": [],
   "source": []
  }
 ],
 "metadata": {
  "kernelspec": {
   "display_name": "Python 3",
   "language": "python",
   "name": "python3"
  },
  "language_info": {
   "codemirror_mode": {
    "name": "ipython",
    "version": 3
   },
   "file_extension": ".py",
   "mimetype": "text/x-python",
   "name": "python",
   "nbconvert_exporter": "python",
   "pygments_lexer": "ipython3",
   "version": "3.6.8"
  }
 },
 "nbformat": 4,
 "nbformat_minor": 2
}
