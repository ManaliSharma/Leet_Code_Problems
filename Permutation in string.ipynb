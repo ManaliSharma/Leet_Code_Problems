{
 "cells": [
  {
   "cell_type": "code",
   "execution_count": 1,
   "metadata": {},
   "outputs": [],
   "source": [
    "# Given two strings s1 and s2, write a function to return true if s2 contains the permutation of s1. In other words, one of the first string's permutations is the substring of the second string.\n",
    "\n",
    " \n",
    "\n",
    "# Example 1:\n",
    "\n",
    "# Input: s1 = \"ab\" s2 = \"eidbaooo\"\n",
    "# Output: True\n",
    "# Explanation: s2 contains one permutation of s1 (\"ba\").\n",
    "# Example 2:\n",
    "\n",
    "# Input:s1= \"ab\" s2 = \"eidboaoo\"\n",
    "# Output: False\n",
    " \n",
    "\n",
    "# Constraints:\n",
    "\n",
    "# The input strings only contain lower case letters.\n",
    "# The length of both given strings is in range [1, 10,000].\n",
    "\n",
    "\n",
    "#hash table= Dictioanry"
   ]
  },
  {
   "cell_type": "code",
   "execution_count": null,
   "metadata": {},
   "outputs": [],
   "source": []
  }
 ],
 "metadata": {
  "kernelspec": {
   "display_name": "Python 3",
   "language": "python",
   "name": "python3"
  },
  "language_info": {
   "codemirror_mode": {
    "name": "ipython",
    "version": 3
   },
   "file_extension": ".py",
   "mimetype": "text/x-python",
   "name": "python",
   "nbconvert_exporter": "python",
   "pygments_lexer": "ipython3",
   "version": "3.6.8"
  }
 },
 "nbformat": 4,
 "nbformat_minor": 2
}
