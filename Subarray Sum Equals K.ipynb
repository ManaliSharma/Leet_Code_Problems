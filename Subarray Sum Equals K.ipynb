{
 "cells": [
  {
   "cell_type": "code",
   "execution_count": 1,
   "metadata": {},
   "outputs": [],
   "source": [
    "# Given an array of integers and an integer k, you need to find the total number of continuous subarrays whose sum equals to k.\n",
    "\n",
    "# Example 1:\n",
    "\n",
    "# Input:nums = [1,1,1], k = 2\n",
    "# Output: 2\n",
    " \n",
    "\n",
    "# Constraints:\n",
    "\n",
    "# The length of the array is in range [1, 20,000].\n",
    "# The range of numbers in the array is [-1000, 1000] and the range of the integer k is [-1e7, 1e7]."
   ]
  },
  {
   "cell_type": "code",
   "execution_count": 1,
   "metadata": {},
   "outputs": [],
   "source": [
    "# First of all, the basic idea behind this code is that, whenever the sums has increased by a value of k, we've found a subarray of sums=k.\n",
    "# I'll also explain why we need to initialise a 0 in the hashmap.\n",
    "# Example: Let's say our elements are [1,2,1,3] and k = 3.\n",
    "# and our corresponding running sums = [1,3,4,7]\n",
    "# Now, if you notice the running sums array, from 1->4, there is increase of k and from 4->7, there is an increase of k. So, we've found 2 subarrays of sums=k.\n",
    "\n",
    "# But, if you look at the original array, there are 3 subarrays of sums==k. Now, you'll understand why 0 comes in the picture.\n",
    "\n",
    "# In the above example, 4-1=k and 7-4=k. Hence, we concluded that there are 2 subarrays.\n",
    "# However, if sums==k, it should've been 3-0=k. But 0 is not present in the array. To account for this case, we include the 0.\n",
    "# Now the modified sums array will look like [0,1,3,4,7]. Now, try to see for the increase of k.\n",
    "\n",
    "# 0->3\n",
    "# 1->4\n",
    "# 4->7\n",
    "# Hence, 3 sub arrays of sums=k\n",
    "# This clarified some confusions I had while doing this problem."
   ]
  },
  {
   "cell_type": "code",
   "execution_count": 2,
   "metadata": {},
   "outputs": [],
   "source": [
    "def subarraysum(nums,k):\n",
    "    \n",
    "    sum=0  #for getting corresponding sum\n",
    "    count=0 #count the number of subarrays\n",
    "    #we need hashmap to see how many subarrays sum have same sum ==k\n",
    "    #we need to initialise it with zero because a single element in a given array can correspond to given k value\n",
    "    \n",
    "    dict={}\n",
    "    dict[0]=1 #zero in dict with given value =1 for single element==k\n",
    "    \n",
    "    for i in range(len(nums)):\n",
    "        \n",
    "        sum+=nums[i]\n",
    "        #d.get(key,value) gives a present value in dict for a given key , if specified key not \n",
    "        #present then optional value in d.get(key,optional value) is specified is used\n",
    "        count+=dict.get(sum-k,0) #seeing if corresponding running sums ==k\n",
    "        dict[sum]=dict.get(sum,0)+1 \n",
    "        \n",
    "    return count\n",
    "       "
   ]
  },
  {
   "cell_type": "code",
   "execution_count": 3,
   "metadata": {},
   "outputs": [
    {
     "data": {
      "text/plain": [
       "3"
      ]
     },
     "execution_count": 3,
     "metadata": {},
     "output_type": "execute_result"
    }
   ],
   "source": [
    "nums=[1,2,1,3]\n",
    "k=3\n",
    "subarraysum(nums,k)"
   ]
  },
  {
   "cell_type": "code",
   "execution_count": null,
   "metadata": {},
   "outputs": [],
   "source": []
  }
 ],
 "metadata": {
  "kernelspec": {
   "display_name": "Python 3",
   "language": "python",
   "name": "python3"
  },
  "language_info": {
   "codemirror_mode": {
    "name": "ipython",
    "version": 3
   },
   "file_extension": ".py",
   "mimetype": "text/x-python",
   "name": "python",
   "nbconvert_exporter": "python",
   "pygments_lexer": "ipython3",
   "version": "3.6.8"
  }
 },
 "nbformat": 4,
 "nbformat_minor": 2
}
