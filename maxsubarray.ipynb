{
 "cells": [
  {
   "cell_type": "code",
   "execution_count": null,
   "metadata": {},
   "outputs": [],
   "source": [
    "# Given an integer array nums, find the contiguous subarray (containing at least one number) which has the largest sum and return its sum.\n",
    "\n",
    "# Example:\n",
    "\n",
    "# Input: [-2,1,-3,4,-1,2,1,-5,4],\n",
    "# Output: 6\n",
    "# Explanation: [4,-1,2,1] has the largest sum = 6.\n",
    "# Follow up:\n",
    "\n",
    "# If you have figured out the O(n) solution, try coding another solution using the divide and conquer approach, which is more subtle.a"
   ]
  },
  {
   "cell_type": "code",
   "execution_count": 24,
   "metadata": {},
   "outputs": [],
   "source": [
    "#brute force\n",
    "def max_subarray_quadratic(array):\n",
    "    maximum = 0\n",
    "    for i in range(0, len(array)):\n",
    "        current = 0\n",
    "        \n",
    "        for j in range(i, len(array)):\n",
    "            current += array[j]\n",
    "            maximum = max(current, maximum)\n",
    "    return maximum"
   ]
  },
  {
   "cell_type": "code",
   "execution_count": null,
   "metadata": {},
   "outputs": [],
   "source": [
    "# Kadane’s Algorithm:\n",
    "\n",
    "# Initialize:\n",
    "#     max_so_far = 0\n",
    "#     max_ending_here = 0\n",
    "\n",
    "# Loop for each element of the array\n",
    "#   (a) max_ending_here = max_ending_here + a[i]\n",
    "#   (b) if(max_so_far < max_ending_here)\n",
    "#             max_so_far = max_ending_here\n",
    "#   (c) if(max_ending_here < 0)\n",
    "#             max_ending_here = 0\n",
    "# return max_so_far"
   ]
  },
  {
   "cell_type": "code",
   "execution_count": 29,
   "metadata": {},
   "outputs": [],
   "source": [
    "#kadane theorem\n",
    "\n",
    "def max_sub(n):\n",
    "    \n",
    "    max_sub=0\n",
    "    len_array=len(n)\n",
    "    local_max=0\n",
    "    for i in range(0,len_array):\n",
    "        local_max=max(n[i],local_max+n[i])\n",
    "        \n",
    "        if local_max> max_sub:\n",
    "            max_sub=local_max\n",
    "            \n",
    "            \n",
    "    return max_sub\n",
    "        "
   ]
  },
  {
   "cell_type": "code",
   "execution_count": 30,
   "metadata": {},
   "outputs": [
    {
     "data": {
      "text/plain": [
       "6"
      ]
     },
     "execution_count": 30,
     "metadata": {},
     "output_type": "execute_result"
    }
   ],
   "source": [
    "n=[-2,1,-3,4,-1,2,1,-5,4]\n",
    "max_sub(n)"
   ]
  },
  {
   "cell_type": "code",
   "execution_count": null,
   "metadata": {},
   "outputs": [],
   "source": []
  }
 ],
 "metadata": {
  "kernelspec": {
   "display_name": "Python 3",
   "language": "python",
   "name": "python3"
  },
  "language_info": {
   "codemirror_mode": {
    "name": "ipython",
    "version": 3
   },
   "file_extension": ".py",
   "mimetype": "text/x-python",
   "name": "python",
   "nbconvert_exporter": "python",
   "pygments_lexer": "ipython3",
   "version": "3.6.8"
  }
 },
 "nbformat": 4,
 "nbformat_minor": 2
}
