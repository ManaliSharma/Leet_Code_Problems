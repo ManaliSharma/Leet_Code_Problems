{
 "cells": [
  {
   "cell_type": "code",
   "execution_count": 1,
   "metadata": {},
   "outputs": [],
   "source": [
    "# #complement of number\n",
    "# Given a positive integer num, output its complement number. The complement strategy is to flip the bits of its binary representation.\n",
    "\n",
    " \n",
    "\n",
    "# Example 1:\n",
    "\n",
    "# Input: num = 5\n",
    "# Output: 2\n",
    "# Explanation: The binary representation of 5 is 101 (no leading zero bits), and its complement is 010. So you need to output 2.\n",
    "# Example 2:\n",
    "\n",
    "# Input: num = 1\n",
    "# Output: 0\n",
    "# Explanation: The binary representation of 1 is 1 (no leading zero bits), and its complement is 0. So you need to output 0.\n",
    " \n",
    "\n",
    "# Constraints:\n",
    "\n",
    "# The given integer num is guaranteed to fit within the range of a 32-bit signed integer.\n",
    "# num >= 1\n",
    "# You could assume no leading zero bit in the integer’s binary representation."
   ]
  },
  {
   "cell_type": "code",
   "execution_count": 2,
   "metadata": {},
   "outputs": [],
   "source": [
    "#Binary Representation\n",
    "#'{0:08b}'.format(6)\n",
    "# '00000110'\n",
    "# Just to explain the parts of the formatting string:\n",
    "\n",
    "# {} places a variable into a string\n",
    "# 0 takes the variable at argument position 0\n",
    "# : adds formatting options for this variable (otherwise it would represent decimal 6)\n",
    "# 08 formats the number to eight digits zero-padded on the left\n",
    "# b converts the number to its binary representation\n",
    "     "
   ]
  },
  {
   "cell_type": "code",
   "execution_count": 4,
   "metadata": {},
   "outputs": [],
   "source": [
    "def findComplement(num: int) -> int:\n",
    "    int_num = 0\n",
    "    s='{0:0b}'.format(num)\n",
    "    dict={'0':'1','1':'0'}\n",
    "    output=''.join(dict[x] for x in s)\n",
    "    for i in range(len(output)):\n",
    "        int_num= int_num * 2\n",
    "        int_num = int_num + int(output[i])\n",
    "    return int_num"
   ]
  },
  {
   "cell_type": "code",
   "execution_count": 5,
   "metadata": {},
   "outputs": [
    {
     "data": {
      "text/plain": [
       "2"
      ]
     },
     "execution_count": 5,
     "metadata": {},
     "output_type": "execute_result"
    }
   ],
   "source": [
    "findComplement(5)"
   ]
  },
  {
   "cell_type": "code",
   "execution_count": null,
   "metadata": {},
   "outputs": [],
   "source": []
  }
 ],
 "metadata": {
  "kernelspec": {
   "display_name": "Python 3",
   "language": "python",
   "name": "python3"
  },
  "language_info": {
   "codemirror_mode": {
    "name": "ipython",
    "version": 3
   },
   "file_extension": ".py",
   "mimetype": "text/x-python",
   "name": "python",
   "nbconvert_exporter": "python",
   "pygments_lexer": "ipython3",
   "version": "3.6.8"
  }
 },
 "nbformat": 4,
 "nbformat_minor": 2
}
