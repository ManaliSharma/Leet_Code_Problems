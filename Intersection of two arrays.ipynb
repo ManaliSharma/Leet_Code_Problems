{
 "cells": [
  {
   "cell_type": "code",
   "execution_count": 1,
   "metadata": {},
   "outputs": [],
   "source": [
    "# Given two arrays, write a function to compute their intersection.\n",
    "\n",
    "# Example 1:\n",
    "\n",
    "# Input: nums1 = [1,2,2,1], nums2 = [2,2]\n",
    "# Output: [2]\n",
    "# Example 2:\n",
    "\n",
    "# Input: nums1 = [4,9,5], nums2 = [9,4,9,8,4]\n",
    "# Output: [9,4]\n",
    "# Note:\n",
    "\n",
    "# Each element in the result must be unique.\n",
    "# The result can be in any order.\n",
    " "
   ]
  },
  {
   "cell_type": "code",
   "execution_count": 2,
   "metadata": {},
   "outputs": [],
   "source": [
    " def intersection(nums1, nums2) :\n",
    "        emptylist=set()\n",
    "        n=len(nums1)\n",
    "        k=len(nums2)\n",
    "        if n<=k:\n",
    "            for i in nums1:\n",
    "                if i in nums2:\n",
    "                    emptylist.add(i)\n",
    "                    \n",
    "        else:\n",
    "            for i in nums2:\n",
    "                if i in nums1:\n",
    "                    emptylist.add(i)\n",
    "                    \n",
    "        return emptylist"
   ]
  },
  {
   "cell_type": "code",
   "execution_count": null,
   "metadata": {},
   "outputs": [],
   "source": [
    "# This is a Facebook interview question.\n",
    "# They ask for the intersection, which has a trivial solution using a hash or a set.\n",
    "\n",
    "# Then they ask you to solve it under these constraints:\n",
    "# O(n) time and O(1) space (the resulting array of intersections is not taken into consideration).\n",
    "# You are told the lists are sorted.\n",
    "\n",
    "# Cases to take into consideration include:\n",
    "# duplicates, negative values, single value lists, 0's, and empty list arguments.\n",
    "# Other considerations might include\n",
    "# sparse arrays."
   ]
  },
  {
   "cell_type": "code",
   "execution_count": 5,
   "metadata": {},
   "outputs": [],
   "source": [
    " def intersection(nums1, nums2) :\n",
    "        \n",
    "        setA=set(nums1)\n",
    "        setB=set(nums2)\n",
    "        \n",
    "        return (list(setA and setB))"
   ]
  },
  {
   "cell_type": "code",
   "execution_count": 12,
   "metadata": {},
   "outputs": [
    {
     "name": "stdout",
     "output_type": "stream",
     "text": [
      "2\n"
     ]
    },
    {
     "data": {
      "text/plain": [
       "[2]"
      ]
     },
     "execution_count": 12,
     "metadata": {},
     "output_type": "execute_result"
    }
   ],
   "source": [
    "intersection([1,2,2,1],[2,2])"
   ]
  },
  {
   "cell_type": "code",
   "execution_count": 13,
   "metadata": {},
   "outputs": [],
   "source": [
    " def intersection(nums1, nums2) :        \n",
    "        res = []\n",
    "        map = {}\n",
    "        for i in nums1:\n",
    "            if i in map:\n",
    "                map[i]=map[i]+1\n",
    "            else:\n",
    "                map[i]=1\n",
    "            #map[i] = map[i]+1 if i in map else 1\n",
    "        for j in nums2:\n",
    "            if j in map and map[j] > 0:\n",
    "                res.append(j)\n",
    "                map[j] = 0\n",
    "\n",
    "        return res\n",
    "        "
   ]
  },
  {
   "cell_type": "code",
   "execution_count": null,
   "metadata": {},
   "outputs": [],
   "source": []
  }
 ],
 "metadata": {
  "kernelspec": {
   "display_name": "Python 3",
   "language": "python",
   "name": "python3"
  },
  "language_info": {
   "codemirror_mode": {
    "name": "ipython",
    "version": 3
   },
   "file_extension": ".py",
   "mimetype": "text/x-python",
   "name": "python",
   "nbconvert_exporter": "python",
   "pygments_lexer": "ipython3",
   "version": "3.6.8"
  }
 },
 "nbformat": 4,
 "nbformat_minor": 2
}
