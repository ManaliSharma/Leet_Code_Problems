{
 "cells": [
  {
   "cell_type": "code",
   "execution_count": 1,
   "metadata": {},
   "outputs": [],
   "source": [
    "# 167. Two Sum II - Input array is sorted\n",
    "# Easy\n",
    "\n",
    "# 1748\n",
    "\n",
    "# 619\n",
    "\n",
    "# Add to List\n",
    "\n",
    "# Share\n",
    "# Given an array of integers that is already sorted in ascending order, find two numbers such that they add up to a specific target number.\n",
    "\n",
    "# The function twoSum should return indices of the two numbers such that they add up to the target, where index1 must be less than index2.\n",
    "\n",
    "# Note:\n",
    "\n",
    "# Your returned answers (both index1 and index2) are not zero-based.\n",
    "# You may assume that each input would have exactly one solution and you may not use the same element twice.\n",
    "# Example:\n",
    "\n",
    "# Input: numbers = [2,7,11,15], target = 9\n",
    "# Output: [1,2]\n",
    "# Explanation: The sum of 2 and 7 is 9. Therefore index1 = 1, index2 = 2."
   ]
  },
  {
   "cell_type": "code",
   "execution_count": 5,
   "metadata": {},
   "outputs": [],
   "source": [
    "def twosumII(numbers,target):\n",
    "    low=0\n",
    "    high=len(numbers)-1\n",
    "    \n",
    "    while low < high:\n",
    "        \n",
    "        sum=numbers[low]+numbers[high]\n",
    "        if sum==target:\n",
    "            return [low+1,high+1]\n",
    "        \n",
    "        elif sum < target:\n",
    "            low+=1          #because the array is in sorted order so the higher number would be as we proceed further in array so if we add number\n",
    "                            #which is further we might end uo getting the result\n",
    "                \n",
    "        else:\n",
    "            high-=1          #array in sorted order , lower number lies on left side\n",
    "            \n",
    "    return [-1,-1]"
   ]
  },
  {
   "cell_type": "code",
   "execution_count": 6,
   "metadata": {},
   "outputs": [],
   "source": [
    "numbers = [2,7,11,15]\n",
    "target = 9"
   ]
  },
  {
   "cell_type": "code",
   "execution_count": 7,
   "metadata": {},
   "outputs": [
    {
     "data": {
      "text/plain": [
       "[1, 2]"
      ]
     },
     "execution_count": 7,
     "metadata": {},
     "output_type": "execute_result"
    }
   ],
   "source": [
    "twosumII(numbers,target)"
   ]
  },
  {
   "cell_type": "code",
   "execution_count": null,
   "metadata": {},
   "outputs": [],
   "source": []
  }
 ],
 "metadata": {
  "kernelspec": {
   "display_name": "Python 3",
   "language": "python",
   "name": "python3"
  },
  "language_info": {
   "codemirror_mode": {
    "name": "ipython",
    "version": 3
   },
   "file_extension": ".py",
   "mimetype": "text/x-python",
   "name": "python",
   "nbconvert_exporter": "python",
   "pygments_lexer": "ipython3",
   "version": "3.6.8"
  }
 },
 "nbformat": 4,
 "nbformat_minor": 2
}
