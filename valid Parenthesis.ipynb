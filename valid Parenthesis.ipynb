{
 "cells": [
  {
   "cell_type": "code",
   "execution_count": 1,
   "metadata": {},
   "outputs": [],
   "source": [
    "# Given a string containing just the characters '(', ')', '{', '}', '[' and ']', determine if the input string is valid.\n",
    "\n",
    "# An input string is valid if:\n",
    "\n",
    "# Open brackets must be closed by the same type of brackets.\n",
    "# Open brackets must be closed in the correct order.\n",
    "# Note that an empty string is also considered valid.\n",
    "\n",
    "# Example 1:\n",
    "\n",
    "# Input: \"()\"\n",
    "# Output: true\n",
    "# Example 2:\n",
    "\n",
    "# Input: \"()[]{}\"\n",
    "# Output: true\n",
    "# Example 3:\n",
    "\n",
    "# Input: \"(]\"\n",
    "# Output: false\n",
    "# Example 4:\n",
    "\n",
    "# Input: \"([)]\"\n",
    "# Output: false\n",
    "# Example 5:\n",
    "\n",
    "# Input: \"{[]}\"\n",
    "# Output: true"
   ]
  },
  {
   "cell_type": "code",
   "execution_count": 358,
   "metadata": {},
   "outputs": [],
   "source": [
    "#for solving this question previous knowledge of stacks is required\n",
    "#stack follows LIFO\n",
    "class stack:\n",
    "    \n",
    "    def __init__(self):\n",
    "        self.stack=[]    #declaring a list as a stack\n",
    "        \n",
    "    def add(self,x):\n",
    "        if x not in self.stack:\n",
    "            self.stack.append(x)\n",
    "            return True\n",
    "        else:\n",
    "            return False\n",
    "        \n",
    "    def remove(self,x):\n",
    "        if len(self.stack)==0:\n",
    "            return (\"no element found\")\n",
    "        else:\n",
    "            self.stack.pop(x)\n",
    "            \n",
    "    def peek(self):   #looking at top of stack as in the last element\n",
    "        return self.stack[-1]\n",
    "        "
   ]
  },
  {
   "cell_type": "code",
   "execution_count": 412,
   "metadata": {},
   "outputs": [],
   "source": [
    "astack=stack()\n",
    "astack.add(1)\n",
    "astack.add(2)\n",
    "astack.add(3)\n",
    "astack.add(4)\n",
    "astack.peek()\n",
    "astack.remove(3)"
   ]
  },
  {
   "cell_type": "code",
   "execution_count": 1,
   "metadata": {},
   "outputs": [],
   "source": [
    "def isValid(s: str):\n",
    "    list=['}',')',']']\n",
    "    list1=['{','(','[']\n",
    "    x=dict(zip(list1,list))   #dictionary with open brackets as keys bcuz we have to keep track of those with values being close brackets\n",
    "    valid=[]\n",
    "    if len(s)==0:\n",
    "        return True\n",
    "    \n",
    "    for i,c in enumerate(s):\n",
    "        \n",
    "        if c in x: \n",
    "            valid.append(c)   #if the current input character in an open brace one simply append to the stack\n",
    "            \n",
    "\n",
    "               \n",
    "        #if not then we need to match it with the character on top of the stack\n",
    "        elif c in list:\n",
    "            \n",
    "            if len(valid)>0:\n",
    "                for k,v in x.items():\n",
    "                    if v==c:\n",
    "                        if valid[-1]==k:\n",
    "                            valid.pop(-1)\n",
    "                        else:\n",
    "                            return False\n",
    "            else:\n",
    "                return False\n",
    "            \n",
    "            \n",
    "        \n",
    "    if len(valid)==0:\n",
    "        return True\n",
    "    else:\n",
    "        return False\n",
    "    \n",
    "            \n",
    "        \n",
    "            \n",
    "    \n",
    "            \n"
   ]
  },
  {
   "cell_type": "code",
   "execution_count": 2,
   "metadata": {},
   "outputs": [
    {
     "data": {
      "text/plain": [
       "True"
      ]
     },
     "execution_count": 2,
     "metadata": {},
     "output_type": "execute_result"
    }
   ],
   "source": [
    "isValid(\"(([]){})\")"
   ]
  },
  {
   "cell_type": "code",
   "execution_count": 3,
   "metadata": {},
   "outputs": [
    {
     "data": {
      "text/plain": [
       "False"
      ]
     },
     "execution_count": 3,
     "metadata": {},
     "output_type": "execute_result"
    }
   ],
   "source": [
    "isValid(\"(\")"
   ]
  },
  {
   "cell_type": "code",
   "execution_count": null,
   "metadata": {},
   "outputs": [],
   "source": []
  }
 ],
 "metadata": {
  "kernelspec": {
   "display_name": "Python 3",
   "language": "python",
   "name": "python3"
  },
  "language_info": {
   "codemirror_mode": {
    "name": "ipython",
    "version": 3
   },
   "file_extension": ".py",
   "mimetype": "text/x-python",
   "name": "python",
   "nbconvert_exporter": "python",
   "pygments_lexer": "ipython3",
   "version": "3.6.8"
  }
 },
 "nbformat": 4,
 "nbformat_minor": 2
}
