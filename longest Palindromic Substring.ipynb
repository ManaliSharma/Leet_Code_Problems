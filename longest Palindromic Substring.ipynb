{
 "cells": [
  {
   "cell_type": "code",
   "execution_count": 1,
   "metadata": {},
   "outputs": [],
   "source": [
    "# 5. Longest Palindromic Substring\n",
    "# Medium\n",
    "\n",
    "# 7624\n",
    "\n",
    "# 563\n",
    "\n",
    "# Add to List\n",
    "\n",
    "# Share\n",
    "# Given a string s, find the longest palindromic substring in s. You may assume that the maximum length of s is 1000.\n",
    "\n",
    "# Example 1:\n",
    "\n",
    "# Input: \"babad\"\n",
    "# Output: \"bab\"\n",
    "# Note: \"aba\" is also a valid answer.\n",
    "# Example 2:\n",
    "\n",
    "# Input: \"cbbd\"\n",
    "# Output: \"bb\""
   ]
  },
  {
   "cell_type": "code",
   "execution_count": null,
   "metadata": {},
   "outputs": [],
   "source": [
    "print(value)   "
   ]
  }
 ],
 "metadata": {
  "kernelspec": {
   "display_name": "Python 3",
   "language": "python",
   "name": "python3"
  },
  "language_info": {
   "codemirror_mode": {
    "name": "ipython",
    "version": 3
   },
   "file_extension": ".py",
   "mimetype": "text/x-python",
   "name": "python",
   "nbconvert_exporter": "python",
   "pygments_lexer": "ipython3",
   "version": "3.6.8"
  }
 },
 "nbformat": 4,
 "nbformat_minor": 2
}
