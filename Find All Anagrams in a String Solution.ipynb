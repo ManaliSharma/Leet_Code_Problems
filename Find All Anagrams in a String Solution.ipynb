{
 "cells": [
  {
   "cell_type": "code",
   "execution_count": null,
   "metadata": {},
   "outputs": [],
   "source": [
    "# Given a string s and a non-empty string p, find all the start indices of p's anagrams in s.\n",
    "\n",
    "# Strings consists of lowercase English letters only and the length of both strings s and p will not be larger than 20,100.\n",
    "\n",
    "# The order of output does not matter.\n",
    "\n",
    "# Example 1:\n",
    "\n",
    "# Input:\n",
    "# s: \"cbaebabacd\" p: \"abc\"\n",
    "\n",
    "# Output:\n",
    "# [0, 6]\n",
    "\n",
    "# Explanation:\n",
    "# The substring with start index = 0 is \"cba\", which is an anagram of \"abc\".\n",
    "# The substring with start index = 6 is \"bac\", which is an anagram of \"abc\".\n",
    "# Example 2:\n",
    "\n",
    "# Input:\n",
    "# s: \"abab\" p: \"ab\"\n",
    "\n",
    "# Output:\n",
    "# [0, 1, 2]\n",
    "\n",
    "# Explanation:\n",
    "# The substring with start index = 0 is \"ab\", which is an anagram of \"ab\".\n",
    "# The substring with start index = 1 is \"ba\", which is an anagram of \"ab\".\n",
    "# The substring with start index = 2 is \"ab\", which is an anagram of \"ab\"."
   ]
  },
  {
   "cell_type": "code",
   "execution_count": 1,
   "metadata": {},
   "outputs": [],
   "source": [
    "#enumerate to get the index with the element as you iterate:\n",
    "def perms(s):        \n",
    "    if(len(s)==1): \n",
    "        return [s]\n",
    "    permutation=[]\n",
    "    for index,value in enumerate(s):\n",
    "        print(s[:index],s[index+1:])\n",
    "        permutation += [value+p for p in perms(s[:index]+s[index+1:])]\n",
    "    return permutation"
   ]
  },
  {
   "cell_type": "code",
   "execution_count": 74,
   "metadata": {},
   "outputs": [],
   "source": [
    "from collections import Counter \n",
    "def findAnagrams(s: str, p: str):\n",
    "    \n",
    "    lenght_p=len(p)\n",
    "    p_counter=Counter(p)\n",
    "    slider=Counter()\n",
    "    temp=[]\n",
    "    if len(p)>len(s):\n",
    "        return temp\n",
    "    for i,c in enumerate(s):\n",
    "        slider[c]+=1\n",
    "        if i>=lenght_p:\n",
    "            element_left=s[i-lenght_p]\n",
    "            \n",
    "            if slider[element_left]==1:\n",
    "                del slider[element_left]\n",
    "            else:\n",
    "                slider[element_left]-=1\n",
    "        if slider==p_counter:\n",
    "            #checking first point of window\n",
    "            temp.append(i-(lenght_p-1))\n",
    "            \n",
    "            #if slider==p_counter:\n",
    "                \n",
    "\n",
    "        \n",
    "    return temp\n",
    "            \n"
   ]
  },
  {
   "cell_type": "code",
   "execution_count": 76,
   "metadata": {},
   "outputs": [
    {
     "data": {
      "text/plain": [
       "[0, 1, 2]"
      ]
     },
     "execution_count": 76,
     "metadata": {},
     "output_type": "execute_result"
    }
   ],
   "source": [
    "findAnagrams(\"abab\",\"ab\")"
   ]
  },
  {
   "cell_type": "code",
   "execution_count": null,
   "metadata": {},
   "outputs": [],
   "source": []
  }
 ],
 "metadata": {
  "kernelspec": {
   "display_name": "Python 3",
   "language": "python",
   "name": "python3"
  },
  "language_info": {
   "codemirror_mode": {
    "name": "ipython",
    "version": 3
   },
   "file_extension": ".py",
   "mimetype": "text/x-python",
   "name": "python",
   "nbconvert_exporter": "python",
   "pygments_lexer": "ipython3",
   "version": "3.6.8"
  }
 },
 "nbformat": 4,
 "nbformat_minor": 2
}
