{
 "cells": [
  {
   "cell_type": "code",
   "execution_count": null,
   "metadata": {},
   "outputs": [],
   "source": [
    "# Design a data structure that supports all following operations in average O(1) time.\n",
    "\n",
    " \n",
    "\n",
    "# insert(val): Inserts an item val to the set if not already present.\n",
    "# remove(val): Removes an item val from the set if present.\n",
    "# getRandom: Returns a random element from current set of elements (it's guaranteed that at least one element exists when this method is called). Each element must have the same probability of being returned.\n",
    " \n",
    "\n",
    "# Example:\n",
    "\n",
    "# // Init an empty set.\n",
    "# RandomizedSet randomSet = new RandomizedSet();\n",
    "\n",
    "# // Inserts 1 to the set. Returns true as 1 was inserted successfully.\n",
    "# randomSet.insert(1);\n",
    "\n",
    "# // Returns false as 2 does not exist in the set.\n",
    "# randomSet.remove(2);\n",
    "\n",
    "# // Inserts 2 to the set, returns true. Set now contains [1,2].\n",
    "# randomSet.insert(2);\n",
    "\n",
    "# // getRandom should return either 1 or 2 randomly.\n",
    "# randomSet.getRandom();\n",
    "\n",
    "# // Removes 1 from the set, returns true. Set now contains [2].\n",
    "# randomSet.remove(1);\n",
    "\n",
    "# // 2 was already in the set, so return false.\n",
    "# randomSet.insert(2);\n",
    "\n",
    "# // Since 2 is the only number in the set, getRandom always return 2.\n",
    "# randomSet.getRandom();"
   ]
  },
  {
   "cell_type": "code",
   "execution_count": 3,
   "metadata": {},
   "outputs": [],
   "source": [
    "# Insert\n",
    "\n",
    "# Add value -> its index into dictionary, average \\mathcal{O}(1)O(1) time.\n",
    "\n",
    "# Append value to array list, average \\mathcal{O}(1)O(1) time as well.\n",
    "\n",
    "# Delete\n",
    "\n",
    "# Retrieve an index of element to delete from the hashmap.\n",
    "\n",
    "# Move the last element to the place of the element to delete, \\mathcal{O}(1)O(1) time.\n",
    "\n",
    "# Pop the last element out, \\mathcal{O}(1)O(1) time.\n",
    "\n",
    "\n",
    "# GetRandom\n",
    "\n",
    "# GetRandom could be implemented in \\mathcal{O}(1)O(1) time with the help of standard random.choice in Python and Random object in Java."
   ]
  },
  {
   "cell_type": "code",
   "execution_count": 4,
   "metadata": {},
   "outputs": [],
   "source": [
    "class ds:\n",
    "    def __init__(self):\n",
    "        self.dict={}    #i  nsert and delete is easier in dictionary o(1)\n",
    "        self.list=[]    #get random is easier in list along with insert in o(1) also\n",
    "        \n",
    "    def insert(self,val):\n",
    "        if val in self.dict:\n",
    "            return False\n",
    "        else:\n",
    "            self.dict[val]=len(self.list)\n",
    "            self.list.append(val)  #for index\n",
    "            \n",
    "    def delete(self,val):\n",
    "        if val not in dict:\n",
    "            return False\n",
    "        else:\n",
    "            last_element,idx=self.list[-1],self.dict[val]\n",
    "            self.list[idx],self.dict[last_element]=last_element,idx\n",
    "            self.list.pop()\n",
    "            del self.dict[val]\n",
    "            return True\n",
    "        \n",
    "    def get_random(self):\n",
    "             return choice(self.list)"
   ]
  },
  {
   "cell_type": "code",
   "execution_count": 5,
   "metadata": {},
   "outputs": [],
   "source": [
    "# obj = ds()\n",
    "# param_1 = obj.insert(val)\n",
    "# param_2 = obj.remove(val)\n",
    "# param_3 = obj.getRandom()"
   ]
  },
  {
   "cell_type": "code",
   "execution_count": null,
   "metadata": {},
   "outputs": [],
   "source": []
  }
 ],
 "metadata": {
  "kernelspec": {
   "display_name": "Python 3",
   "language": "python",
   "name": "python3"
  },
  "language_info": {
   "codemirror_mode": {
    "name": "ipython",
    "version": 3
   },
   "file_extension": ".py",
   "mimetype": "text/x-python",
   "name": "python",
   "nbconvert_exporter": "python",
   "pygments_lexer": "ipython3",
   "version": "3.6.8"
  }
 },
 "nbformat": 4,
 "nbformat_minor": 2
}
