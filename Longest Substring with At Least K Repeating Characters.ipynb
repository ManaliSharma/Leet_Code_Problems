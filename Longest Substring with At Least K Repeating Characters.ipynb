{
 "cells": [
  {
   "cell_type": "code",
   "execution_count": null,
   "metadata": {},
   "outputs": [],
   "source": [
    "# Find the length of the longest substring T of a given string (consists of lowercase letters only) such that every character in T appears no less than k times.\n",
    "\n",
    "# Example 1:\n",
    "\n",
    "# Input:\n",
    "# s = \"aaabb\", k = 3\n",
    "\n",
    "# Output:\n",
    "# 3\n",
    "\n",
    "# The longest substring is \"aaa\", as 'a' is repeated 3 times.\n",
    "# Example 2:\n",
    "\n",
    "# Input:\n",
    "# s = \"ababbc\", k = 2\n",
    "\n",
    "# Output:\n",
    "# 5\n",
    "\n",
    "# The longest substring is \"ababb\", as 'a' is repeated 2 times and 'b' is repeated 3 times."
   ]
  },
  {
   "cell_type": "code",
   "execution_count": 27,
   "metadata": {},
   "outputs": [],
   "source": [
    "from collections import Counter\n",
    "def longestSubstring(s: str, k: int) -> int:\n",
    "  \n",
    "        for char, count in Counter(s).items():\n",
    "            if count < k:\n",
    "                return max(longestSubstring(s, k) for s in s.split(char))\n",
    "        return len(s)"
   ]
  },
  {
   "cell_type": "code",
   "execution_count": 28,
   "metadata": {},
   "outputs": [],
   "source": [
    "#If every character appears at least k times, the whole string is ok. Otherwise split by a least frequent \n",
    "#character (because it will always be too infrequent and thus can't be part of any ok substring) \n",
    "#and make the most out of the splits."
   ]
  }
 ],
 "metadata": {
  "kernelspec": {
   "display_name": "Python 3",
   "language": "python",
   "name": "python3"
  },
  "language_info": {
   "codemirror_mode": {
    "name": "ipython",
    "version": 3
   },
   "file_extension": ".py",
   "mimetype": "text/x-python",
   "name": "python",
   "nbconvert_exporter": "python",
   "pygments_lexer": "ipython3",
   "version": "3.6.8"
  }
 },
 "nbformat": 4,
 "nbformat_minor": 2
}
