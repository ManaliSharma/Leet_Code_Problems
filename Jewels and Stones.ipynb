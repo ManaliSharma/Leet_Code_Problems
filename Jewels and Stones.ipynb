{
 "cells": [
  {
   "cell_type": "code",
   "execution_count": 1,
   "metadata": {},
   "outputs": [],
   "source": [
    "#The zip() function returns a zip object, which is an iterator of tuples where the first item in each passed iterator is paired together, and then the second item in each passed iterator are paired together etc.\n",
    "#If the passed iterators have different lengths, the iterator with the least items decides the length of the new iterator.\n",
    "\n",
    "#stones and jewels\n",
    "\n",
    "\n",
    "# You're given strings J representing the types of stones that are jewels, and S representing the stones you have.  Each character in S is a type of stone you have.  You want to know how many of the stones you have are also jewels.\n",
    "\n",
    "# The letters in J are guaranteed distinct, and all characters in J and S are letters. Letters are case sensitive, so \"a\" is considered a different type of stone from \"A\".\n",
    "\n",
    "# Example 1:\n",
    "\n",
    "# Input: J = \"aA\", S = \"aAAbbbb\"\n",
    "# Output: 3\n",
    "# Example 2:\n",
    "\n",
    "# Input: J = \"z\", S = \"ZZ\"\n",
    "# Output: 0\n",
    "# Note:\n",
    "\n",
    "# S and J will consist of letters and have length at most 50.\n",
    "# The characters in J are distinct.\n",
    "\n",
    "\n",
    "class Solution:\n",
    "    def numJewelsInStones(self, J: str, S: str) -> int:\n",
    "        count=0\n",
    "        for x in S:\n",
    "            for y in J:\n",
    "                if x==y:\n",
    "                    count=count+1\n",
    "        \n",
    "        return count"
   ]
  },
  {
   "cell_type": "code",
   "execution_count": null,
   "metadata": {},
   "outputs": [],
   "source": []
  }
 ],
 "metadata": {
  "kernelspec": {
   "display_name": "Python 3",
   "language": "python",
   "name": "python3"
  },
  "language_info": {
   "codemirror_mode": {
    "name": "ipython",
    "version": 3
   },
   "file_extension": ".py",
   "mimetype": "text/x-python",
   "name": "python",
   "nbconvert_exporter": "python",
   "pygments_lexer": "ipython3",
   "version": "3.6.8"
  }
 },
 "nbformat": 4,
 "nbformat_minor": 2
}
