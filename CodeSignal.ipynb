{
 "cells": [
  {
   "cell_type": "code",
   "execution_count": null,
   "metadata": {},
   "outputs": [],
   "source": [
    "[4,50,200,65,2000,700,1,10] #and 3"
   ]
  },
  {
   "cell_type": "code",
   "execution_count": 2,
   "metadata": {},
   "outputs": [],
   "source": [
    "#odd occurrences of zeros\n",
    "\n",
    "def odd_occurrence(arr):\n",
    "    \n",
    "    n=len(arr)\n",
    "    \n",
    "    counter=0\n",
    "    \n",
    "    for i in range(len(arr)):\n",
    "        \n",
    "        if str(arr[i]).count('0')%2!=0:\n",
    "            \n",
    "            counter+=1\n",
    "            \n",
    "    return counter"
   ]
  },
  {
   "cell_type": "code",
   "execution_count": 3,
   "metadata": {},
   "outputs": [],
   "source": [
    "arr=[4,50,200,65,2000,700,1,10]"
   ]
  },
  {
   "cell_type": "code",
   "execution_count": 5,
   "metadata": {},
   "outputs": [],
   "source": [
    "arr=[20,11,10,10070,7]"
   ]
  },
  {
   "cell_type": "code",
   "execution_count": 6,
   "metadata": {},
   "outputs": [
    {
     "data": {
      "text/plain": [
       "3"
      ]
     },
     "execution_count": 6,
     "metadata": {},
     "output_type": "execute_result"
    }
   ],
   "source": [
    "odd_occurrence(arr)"
   ]
  },
  {
   "cell_type": "code",
   "execution_count": 7,
   "metadata": {},
   "outputs": [],
   "source": [
    "#Mutate Matrix\n",
    "#Given a square matrix of integers a and array of queries q, your taskis to return the given matrix \n",
    "#after processing all queries on it.There are 3 types of queries:-\n",
    "#q[i]=0 rotate matrix 90bdegrees\n",
    "#q[i]=1 reflect the matrix in its main diagonal\n",
    "#q[i]=2 reflect the matrix in its secondary diagonal"
   ]
  },
  {
   "cell_type": "code",
   "execution_count": 56,
   "metadata": {},
   "outputs": [],
   "source": [
    "def mutate(a,q):\n",
    "    def rotate(a):\n",
    "        n=len(a[0])\n",
    "        for i in range(n//2):\n",
    "            for j in range(i,n-i-1):\n",
    "                temp=a[i][j]\n",
    "                a[i][j]=a[n-1-j][i]\n",
    "                a[n-1-j][i]=a[n-1-i][n-1-j]\n",
    "                a[n-1-i][n-1-j]=a[j][n-1-i]\n",
    "                a[j][n-1-i]=temp\n",
    "        return a\n",
    "    \n",
    "    def swap(a):\n",
    "        # traverse a matrix and swap \n",
    "        # mat[i][j] with mat[j][i] \n",
    "        n=len(a[0])\n",
    "        for i in range(0, n):\n",
    "            for j in range(i+1, n):\n",
    "                a[i][j],a[j][i] = a[j][i],a[i][j]\n",
    "        print(a)\n",
    "        return a\n",
    "    \n",
    "    def swap_2(a):\n",
    "    # traverse a matrix and swap \n",
    "    # mat[i][j] with mat[j][i] \n",
    "        n=len(a[0])\n",
    "        for i in range(0, n):\n",
    "            for j in range(i+1, n):\n",
    "                t=a[i][j]\n",
    "                a[i][j] = a[n - 1 - j][n - 1 - i]\n",
    "                a[n - 1 - j][n - 1 - i] = t    \n",
    "        return a\n",
    "\n",
    "\n",
    "    for i in range(len(q)):\n",
    "        \n",
    "        if q[i]==0:\n",
    "            arr=rotate(a)\n",
    "\n",
    "        if q[i]==1:\n",
    "            arr_1=swap(arr)\n",
    "            \n",
    "        if q[i]==2:\n",
    "            arr_2=swap_2(arr_1)\n",
    "            \n",
    "        \n",
    "    return arr_2\n",
    "\n",
    "\n",
    "  \n",
    "    \n",
    "    "
   ]
  },
  {
   "cell_type": "code",
   "execution_count": 49,
   "metadata": {},
   "outputs": [
    {
     "name": "stdout",
     "output_type": "stream",
     "text": [
      "[[7, 8, 9], [4, 5, 6], [1, 2, 3]]\n"
     ]
    },
    {
     "data": {
      "text/plain": [
       "[[7, 8, 9], [4, 5, 6], [1, 2, 3]]"
      ]
     },
     "execution_count": 49,
     "metadata": {},
     "output_type": "execute_result"
    }
   ],
   "source": [
    "mutate([[1,2,3],[4,5,6],[7,8,9]],[0,1,2])"
   ]
  },
  {
   "cell_type": "code",
   "execution_count": null,
   "metadata": {},
   "outputs": [],
   "source": [
    "#count ways to split\n",
    "\n"
   ]
  },
  {
   "cell_type": "code",
   "execution_count": 63,
   "metadata": {},
   "outputs": [],
   "source": [
    "#longest subarray check\n",
    "\n",
    "def maxsubarr(arr):\n",
    "    \n",
    "    localmax=0\n",
    "    maxsub=arr[0]\n",
    "    \n",
    "    for i in range(len(arr)):\n",
    "        \n",
    "        localmax=max(arr[i],arr[i]+localmax)\n",
    "        \n",
    "        if localmax>maxsub:\n",
    "\n",
    "            maxsub=localmax\n",
    "            \n",
    "    return maxsub"
   ]
  },
  {
   "cell_type": "code",
   "execution_count": 64,
   "metadata": {},
   "outputs": [],
   "source": [
    "nums = [-2,1,-3,4,-1,2,1,-5,4]"
   ]
  },
  {
   "cell_type": "code",
   "execution_count": 65,
   "metadata": {},
   "outputs": [
    {
     "data": {
      "text/plain": [
       "6"
      ]
     },
     "execution_count": 65,
     "metadata": {},
     "output_type": "execute_result"
    }
   ],
   "source": [
    "maxsubarr(nums)"
   ]
  },
  {
   "cell_type": "code",
   "execution_count": 66,
   "metadata": {},
   "outputs": [
    {
     "name": "stdout",
     "output_type": "stream",
     "text": [
      "3 5 7 8 9 "
     ]
    }
   ],
   "source": [
    "def printLogestIncSubArr(arr, n) : \n",
    "  \n",
    "    # 'max' to store the length of longest \n",
    "    # increasing subarray \n",
    "    # 'len' to store the lengths of longest \n",
    "    # increasing subarray at diiferent  \n",
    "    # instants of time \n",
    "    m = 1\n",
    "    l = 1\n",
    "    maxIndex = 0\n",
    "       \n",
    "    # traverse the array from the 2nd element \n",
    "    for i in range(1, n) : \n",
    "  \n",
    "        # if current element if greater than previous \n",
    "        # element, then this element helps in building \n",
    "        # up the previous increasing subarray  \n",
    "        # encountered so far \n",
    "        if (arr[i] > arr[i-1]) : \n",
    "            l =l + 1\n",
    "        else : \n",
    "  \n",
    "            # check if 'max' length is less than the length \n",
    "            # of the current increasing subarray. If true,  \n",
    "            # then update 'max' \n",
    "            if (m < l)  : \n",
    "                m = l  \n",
    "  \n",
    "                # index assign the starting index of  \n",
    "                # longest increasing contiguous subarray.    \n",
    "                maxIndex = i - m \n",
    "                    \n",
    "            # reset 'len' to 1 as from this element \n",
    "            # again the length of the new increasing \n",
    "            # subarray is being calculated     \n",
    "            l = 1    \n",
    "          \n",
    "          \n",
    "    # comparing the length of the last \n",
    "    # increasing subarray with 'max' \n",
    "    if (m < l) : \n",
    "        m = l \n",
    "        maxIndex = n - m \n",
    "      \n",
    "    # Print the elements of longest \n",
    "    # increasing contiguous subarray.  \n",
    "    for i in range(maxIndex, (m+maxIndex)) : \n",
    "        print(arr[i] , end=\" \") \n",
    "          \n",
    "# Driver program to test above \n",
    "arr = [5, 6, 3, 5, 7, 8, 9, 1, 2] \n",
    "n = len(arr) \n",
    "printLogestIncSubArr(arr, n) \n",
    "      \n",
    "      \n",
    "# This code is contributed \n",
    "# "
   ]
  },
  {
   "cell_type": "code",
   "execution_count": null,
   "metadata": {},
   "outputs": [],
   "source": []
  }
 ],
 "metadata": {
  "kernelspec": {
   "display_name": "Python 3",
   "language": "python",
   "name": "python3"
  },
  "language_info": {
   "codemirror_mode": {
    "name": "ipython",
    "version": 3
   },
   "file_extension": ".py",
   "mimetype": "text/x-python",
   "name": "python",
   "nbconvert_exporter": "python",
   "pygments_lexer": "ipython3",
   "version": "3.6.8"
  }
 },
 "nbformat": 4,
 "nbformat_minor": 2
}
