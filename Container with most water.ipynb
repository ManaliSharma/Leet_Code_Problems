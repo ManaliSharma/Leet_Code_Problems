{
 "cells": [
  {
   "cell_type": "code",
   "execution_count": null,
   "metadata": {},
   "outputs": [],
   "source": [
    "# Given n non-negative integers a1, a2, ..., an , where each represents a point at coordinate (i, ai). n vertical lines are drawn such that the two endpoints of line i is at (i, ai) and (i, 0). Find two lines, which together with x-axis forms a container, such that the container contains the most water.\n",
    "\n",
    "# Note: You may not slant the container and n is at least 2.\n",
    "\n",
    " \n",
    "\n",
    "\n",
    "\n",
    "# The above vertical lines are represented by array [1,8,6,2,5,4,8,3,7]. In this case, the max area of water (blue section) the container can contain is 49.\n",
    "\n",
    "#Start with the maximum width container and go to a shorter width container if there is a vertical line longer than the current containers shorter line. \n",
    "#This way we are compromising on the width but we are looking forward to a longer length container.\n",
    "\n"
   ]
  },
  {
   "cell_type": "code",
   "execution_count": 2,
   "metadata": {},
   "outputs": [],
   "source": [
    "#approach\n",
    "# we currently have 2 ponter L and R (assume height(L) < height(R)) so the curent area is: min(height(L), height(R)) * (R - L) = L * (R-L)\n",
    "\n",
    "# if we move the R to R - x the maximum area we can have is L * (R - x - L) is always < L * (R-L) so we don't need to move R\n",
    "# if we move the L to L + x the maximum area we can have is R * (R - (L + x)) its might be > L * (R-L)"
   ]
  },
  {
   "cell_type": "code",
   "execution_count": 77,
   "metadata": {},
   "outputs": [],
   "source": [
    "def maxArea(height) -> int:\n",
    "    \n",
    "    head=0\n",
    "    tail=len(height)-1\n",
    "    maxArea=0\n",
    "    \n",
    "    for i in range(len(height)):\n",
    "        width=abs(head-tail)\n",
    "        if height[head]<height[tail]:\n",
    "            temp=width*height[head]\n",
    "            head+=1\n",
    "            \n",
    "        else:\n",
    "            temp=width*height[tail]\n",
    "            tail-=1\n",
    "            \n",
    "        if temp>maxArea:\n",
    "            maxArea=temp\n",
    "            \n",
    "    return maxArea\n",
    "            \n",
    "                \n",
    "            \n",
    "            \n",
    "            \n",
    "        \n",
    "    \n",
    "    \n"
   ]
  },
  {
   "cell_type": "code",
   "execution_count": 78,
   "metadata": {},
   "outputs": [
    {
     "data": {
      "text/plain": [
       "49"
      ]
     },
     "execution_count": 78,
     "metadata": {},
     "output_type": "execute_result"
    }
   ],
   "source": [
    "maxArea([1,8,6,2,5,4,8,3,7])"
   ]
  },
  {
   "cell_type": "code",
   "execution_count": 79,
   "metadata": {},
   "outputs": [
    {
     "data": {
      "text/plain": [
       "9"
      ]
     },
     "execution_count": 79,
     "metadata": {},
     "output_type": "execute_result"
    }
   ],
   "source": [
    "maxArea([3,2,1,3])"
   ]
  },
  {
   "cell_type": "code",
   "execution_count": 80,
   "metadata": {},
   "outputs": [
    {
     "data": {
      "text/plain": [
       "1"
      ]
     },
     "execution_count": 80,
     "metadata": {},
     "output_type": "execute_result"
    }
   ],
   "source": [
    "maxArea([1,2])"
   ]
  }
 ],
 "metadata": {
  "kernelspec": {
   "display_name": "Python 3",
   "language": "python",
   "name": "python3"
  },
  "language_info": {
   "codemirror_mode": {
    "name": "ipython",
    "version": 3
   },
   "file_extension": ".py",
   "mimetype": "text/x-python",
   "name": "python",
   "nbconvert_exporter": "python",
   "pygments_lexer": "ipython3",
   "version": "3.6.8"
  }
 },
 "nbformat": 4,
 "nbformat_minor": 2
}
