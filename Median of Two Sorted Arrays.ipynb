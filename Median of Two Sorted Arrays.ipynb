{
 "cells": [
  {
   "cell_type": "code",
   "execution_count": 1,
   "metadata": {},
   "outputs": [],
   "source": [
    "# There are two sorted arrays nums1 and nums2 of size m and n respectively.\n",
    "\n",
    "# Find the median of the two sorted arrays. The overall run time complexity should be O(log (m+n)).\n",
    "\n",
    "# You may assume nums1 and nums2 cannot be both empty.\n",
    "\n",
    "# Example 1:\n",
    "\n",
    "# nums1 = [1, 3]\n",
    "# nums2 = [2]\n",
    "\n",
    "# The median is 2.0\n",
    "# Example 2:\n",
    "\n",
    "# nums1 = [1, 2]\n",
    "# nums2 = [3, 4]\n",
    "\n",
    "# The median is (2 + 3)/2 = 2.5"
   ]
  },
  {
   "cell_type": "code",
   "execution_count": 102,
   "metadata": {},
   "outputs": [],
   "source": [
    "def findMedianSortedArrays(nums1, nums2) -> float:\n",
    "    if len(nums1)==0 and len(nums2)==0:\n",
    "        return False\n",
    "    else:\n",
    "        nums=nums1+nums2\n",
    "        nums=sorted(nums)\n",
    "        \n",
    "        if len(nums)%2!=0:\n",
    "            mid=nums[int((len(nums)-1)/2)]\n",
    "            return mid\n",
    "        else:\n",
    "            mid=nums[int((len(nums)-1)/2)]\n",
    "            mid1=nums[int(len(nums)/2)]\n",
    "#             mid1=nums[int((mid+1/2))]\n",
    "           \n",
    "            return ((mid+mid1)/2)"
   ]
  },
  {
   "cell_type": "code",
   "execution_count": 103,
   "metadata": {},
   "outputs": [
    {
     "name": "stdout",
     "output_type": "stream",
     "text": [
      "[-2, -1, 3]\n"
     ]
    },
    {
     "data": {
      "text/plain": [
       "-1"
      ]
     },
     "execution_count": 103,
     "metadata": {},
     "output_type": "execute_result"
    }
   ],
   "source": [
    "nums1 =[3]\n",
    "\n",
    "\n",
    "nums2 = [-2,-1]\n",
    "\n",
    "findMedianSortedArrays(nums1, nums2)"
   ]
  },
  {
   "cell_type": "code",
   "execution_count": null,
   "metadata": {},
   "outputs": [],
   "source": []
  },
  {
   "cell_type": "code",
   "execution_count": null,
   "metadata": {},
   "outputs": [],
   "source": []
  }
 ],
 "metadata": {
  "kernelspec": {
   "display_name": "Python 3",
   "language": "python",
   "name": "python3"
  },
  "language_info": {
   "codemirror_mode": {
    "name": "ipython",
    "version": 3
   },
   "file_extension": ".py",
   "mimetype": "text/x-python",
   "name": "python",
   "nbconvert_exporter": "python",
   "pygments_lexer": "ipython3",
   "version": "3.6.8"
  }
 },
 "nbformat": 4,
 "nbformat_minor": 2
}
