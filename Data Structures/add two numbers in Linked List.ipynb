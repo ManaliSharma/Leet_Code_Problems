{
 "cells": [
  {
   "cell_type": "code",
   "execution_count": null,
   "metadata": {},
   "outputs": [],
   "source": [
    "# You are given two non-empty linked lists representing two non-negative integers. The digits are stored in reverse order and each of their nodes contain a single digit. Add the two numbers and return it as a linked list.\n",
    "\n",
    "# You may assume the two numbers do not contain any leading zero, except the number 0 itself.\n",
    "\n",
    "# Example:\n",
    "\n",
    "# Input: (2 -> 4 -> 3) + (5 -> 6 -> 4)\n",
    "# Output: 7 -> 0 -> 8\n",
    "# Explanation: 342 + 465 = 807."
   ]
  },
  {
   "cell_type": "code",
   "execution_count": 2,
   "metadata": {},
   "outputs": [],
   "source": [
    "class Solution:\n",
    "    def addTwoNumbers(self, l1: ListNode, l2: ListNode,c=0) -> ListNode:\n",
    "       \n",
    "        val = l1.val + l2.val + c\n",
    "        c = val // 10\n",
    "        ret = ListNode(val % 10 ) \n",
    "        \n",
    "        if (l1.next != None or l2.next != None or c != 0):\n",
    "            if l1.next == None:\n",
    "                l1.next = ListNode(0)\n",
    "            if l2.next == None:\n",
    "                l2.next = ListNode(0)\n",
    "            ret.next = self.addTwoNumbers(l1.next,l2.next,c)\n",
    "        return ret"
   ]
  },
  {
   "cell_type": "code",
   "execution_count": null,
   "metadata": {},
   "outputs": [],
   "source": []
  }
 ],
 "metadata": {
  "kernelspec": {
   "display_name": "Python 3",
   "language": "python",
   "name": "python3"
  },
  "language_info": {
   "codemirror_mode": {
    "name": "ipython",
    "version": 3
   },
   "file_extension": ".py",
   "mimetype": "text/x-python",
   "name": "python",
   "nbconvert_exporter": "python",
   "pygments_lexer": "ipython3",
   "version": "3.6.8"
  }
 },
 "nbformat": 4,
 "nbformat_minor": 2
}
