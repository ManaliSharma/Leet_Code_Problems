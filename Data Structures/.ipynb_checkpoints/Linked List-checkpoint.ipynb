{
 "cells": [
  {
   "cell_type": "code",
   "execution_count": 1,
   "metadata": {},
   "outputs": [],
   "source": [
    "class Node:\n",
    "    def __init__(self,data=None):   #includes data value and next pointer\n",
    "        self.data=data\n",
    "        self.next=None\n",
    "        \n",
    "class slinkedlist:\n",
    "    \n",
    "    def __init__(self):\n",
    "        self.head=None #initialising root node\n",
    "        \n",
    "    def printlist(self):\n",
    "        val=self.head        #start from root node\n",
    "        while val is not None:     #if root node not empty initially then print head and move forward while appointing val=head.next value\n",
    "            print(val.data)\n",
    "            val=val.next\n",
    "    \n",
    "    #insertion at beginning\n",
    "    def atbeginning(self,newdata):\n",
    "        newnode=Node(newdata)    #create new node to be inserted, this node should point towards the present head so u do newnod.next=self.head and self.head=newnode\n",
    "        newnode.next=self.head\n",
    "        self.head=newnode\n",
    "        \n",
    "    #insertion in end\n",
    "    def atend(self,newdata):\n",
    "        newnode=Node(newdata)\n",
    "        if self.head is None:         #create new node, if nothing exist in ll then head=last node , if not case then start with root node and go till the point where next pointer becomes none and insert over there\n",
    "            self.head=newnode\n",
    "            return\n",
    "        last=self.head\n",
    "        while last.next:\n",
    "            last=last.next\n",
    "        last.next=newnode\n",
    "           \n",
    "            \n",
    "     #inbetween       \n",
    "    def inbetween(self,mid_val,newdata):\n",
    "        if midval is None:                         #if node not present then throws an error\n",
    "            print(\"The mentioned node is absent\")\n",
    "            return\n",
    "\n",
    "        NewNode = Node(newdata)             #new data should be inserted after mid val , so mid val next should point to newdata and newdata next should point to midval. next\n",
    "        NewNode.next = midval.next\n",
    "        midval.next = NewNode\n",
    "   \n",
    "    #deleting a node\n",
    "    def deletion(self,remdata): \n",
    "        temp=self.head\n",
    "        if temp is not None:                     #if key to be deleted is head node then head.next becomes new head node and temp becomes none\n",
    "            if temp.data==remdata:\n",
    "                self.head=temp.next\n",
    "                temp=None\n",
    "            \n",
    "        while temp is not None:      #search for the key to be deleted prev=temp and temp.next would be equal to temp\n",
    "        \n",
    "            if temp.data==remdata:\n",
    "                break\n",
    "            prev=temp\n",
    "            temp=temp.next\n",
    "            \n",
    "        if temp is None:         #value not founf\n",
    "            return \n",
    "          #unlink the node\n",
    "        prev.next=temp.next\n",
    "        temp=None\n"
   ]
  },
  {
   "cell_type": "code",
   "execution_count": 2,
   "metadata": {},
   "outputs": [],
   "source": [
    "ll=slinkedlist()\n",
    "ll.head=Node(1) #root\n"
   ]
  },
  {
   "cell_type": "code",
   "execution_count": 3,
   "metadata": {},
   "outputs": [
    {
     "name": "stdout",
     "output_type": "stream",
     "text": [
      "1\n",
      "2\n",
      "3\n"
     ]
    }
   ],
   "source": [
    "e2=Node(2)\n",
    "e3=Node(3)\n",
    "ll.head.next=e2\n",
    "e2.next=e3\n",
    "ll.printlist()"
   ]
  },
  {
   "cell_type": "code",
   "execution_count": 4,
   "metadata": {},
   "outputs": [],
   "source": [
    "#ll.atbeginning(4)\n",
    "ll.atend(5)\n",
    "#ll.inbetween(e3,6)"
   ]
  },
  {
   "cell_type": "code",
   "execution_count": 5,
   "metadata": {},
   "outputs": [
    {
     "name": "stdout",
     "output_type": "stream",
     "text": [
      "1\n",
      "2\n",
      "3\n",
      "5\n"
     ]
    }
   ],
   "source": [
    "ll.printlist()"
   ]
  },
  {
   "cell_type": "code",
   "execution_count": 6,
   "metadata": {},
   "outputs": [],
   "source": [
    "ll.deletion(3)"
   ]
  },
  {
   "cell_type": "code",
   "execution_count": 7,
   "metadata": {},
   "outputs": [],
   "source": [
    "#stacks from linked list\n",
    "\n",
    "# Python program for linked list implementation of stack \n",
    "\n",
    "class node:\n",
    "    def __init__(self,data):\n",
    "        self.data=data\n",
    "        self.next=None\n",
    "        \n",
    "class stack:\n",
    "    \n",
    "    def __init__(self):\n",
    "        self.root=None\n",
    "        \n",
    "    def isEmpty(self):\n",
    "        if self.root is None:\n",
    "            return True\n",
    "        else:\n",
    "            return False\n",
    "        \n",
    "    def push(self,data):\n",
    "        newnode=node(data)\n",
    "        newnode.next=self.root\n",
    "        self.root=newnode\n",
    "        \n",
    "    def pop(self):\n",
    "        if self.isEmpty():\n",
    "            return (\"stack empty\")\n",
    "        else:\n",
    "            temp=self.root\n",
    "            self.root=self.root.next\n",
    "            popped=temp.data\n",
    "            return popped\n",
    "        \n",
    "    def peek(self):\n",
    "         if self.isEmpty():\n",
    "            return (\"stack empty\")\n",
    "         else:\n",
    "            return self.root.data"
   ]
  },
  {
   "cell_type": "code",
   "execution_count": 8,
   "metadata": {},
   "outputs": [],
   "source": [
    "#Program for n’th node from the end of a Linked List\n",
    "#Given a Linked List and a number n, \n",
    "#write a function that returns the value at the n’th node from the end of the Linked List.\n",
    "class node:\n",
    "    \n",
    "    def __init__(self,data):\n",
    "        self.data=data\n",
    "        self.next=None\n",
    "        \n",
    "    \n",
    "class linkedlist:\n",
    "    \n",
    "    def __init__(self):\n",
    "        self.head=None\n",
    "        \n",
    "    def add(self,data):\n",
    "        newnode=node(data)\n",
    "        newnode.next=self.head\n",
    "        self.head=newnode\n",
    "        \n",
    "    def nthnode(self,n):\n",
    "        \n",
    "        temp=self.head\n",
    "        lenght=0\n",
    "        while temp is not None:\n",
    "            temp=temp.next\n",
    "            lenght+=1\n",
    "            \n",
    "        temp=self.head \n",
    "        if n>lenght:\n",
    "            return(\"node can't be found\")\n",
    "\n",
    "        else:\n",
    "            for i in range(0,lenght-n):\n",
    "                temp=temp.next\n",
    "\n",
    "                \n",
    "            print(temp.data)"
   ]
  },
  {
   "cell_type": "code",
   "execution_count": 9,
   "metadata": {},
   "outputs": [],
   "source": [
    "ll=linkedlist()\n",
    "ll.add(1)\n",
    "ll.add(2)\n",
    "ll.add(3)\n",
    "ll.add(4)"
   ]
  },
  {
   "cell_type": "code",
   "execution_count": 10,
   "metadata": {},
   "outputs": [
    {
     "data": {
      "text/plain": [
       "\"node can't be found\""
      ]
     },
     "execution_count": 10,
     "metadata": {},
     "output_type": "execute_result"
    }
   ],
   "source": [
    "ll.nthnode(5)"
   ]
  },
  {
   "cell_type": "code",
   "execution_count": 11,
   "metadata": {},
   "outputs": [],
   "source": [
    "# Delete Nth node from the end of the given linked list\n",
    "# Given a linked list and an integer N, the task is to delete the Nth node from the end of the given linked list.\n",
    "\n",
    "# Examples:\n",
    "\n",
    "# Input: 2 -> 3 -> 1 -> 7 -> NULL, N = 1\n",
    "# Output:\n",
    "# Created Linked list is:\n",
    "# 2 3 1 7\n",
    "# Linked List after Deletion is:\n",
    "# 2 3 1\n",
    "\n",
    "# Input: 1 -> 2 -> 3 -> 4 -> NULL, N = 4\n",
    "# Output:\n",
    "# Created Linked list is:\n",
    "# 1 2 3 4\n",
    "# Linked List after Deletion is:\n",
    "# 2 3 4"
   ]
  },
  {
   "cell_type": "code",
   "execution_count": 12,
   "metadata": {},
   "outputs": [],
   "source": [
    "class node:\n",
    "    \n",
    "    def __init__(self,data):\n",
    "        self.data=data\n",
    "        self.next=None\n",
    "        \n",
    "class linkedlist:\n",
    "    \n",
    "    def __init__(self):\n",
    "        self.head=None\n",
    "        \n",
    "    def add(self,data):\n",
    "        newnode=node(data)\n",
    "        newnode.next=self.head\n",
    "        self.head=newnode\n",
    "        \n",
    "    def delete(self,data):\n",
    "        temp=self.head\n",
    "        \n",
    "        if temp.data is not None:\n",
    "            if temp.data==data:\n",
    "                self.head=temp.next\n",
    "                temp=None\n",
    "                \n",
    "        while temp is not None:\n",
    "            if temp.data==data:\n",
    "                break\n",
    "            prev=temp\n",
    "            temp=temp.next\n",
    "            \n",
    "        if temp is None:\n",
    "            return\n",
    "        prev.next=temp.next\n",
    "        temp=None\n",
    "        \n",
    "    def nthnodedelete(self,n):\n",
    "        temp=self.head\n",
    "        lenght=0\n",
    "        # If linked list is empty \n",
    "        if self.head == None: \n",
    "            return \n",
    "        # If head needs to be removed \n",
    "        if n == 0: \n",
    "            self.head = temp.next\n",
    "            temp = None\n",
    "            return \n",
    "        \n",
    "        while temp is not None:\n",
    "            temp=temp.next\n",
    "            lenght+=1\n",
    "        temp=self.head\n",
    "        if n > lenght:\n",
    "            return (\"node can't be found\")\n",
    "        else:\n",
    "            if lenght==n:\n",
    "                self.head=self.head.next\n",
    "                temp=None\n",
    "                    \n",
    "            else:\n",
    "\n",
    "                for i in range(0,lenght-n):\n",
    "                    prev=temp\n",
    "                    temp=temp.next\n",
    "\n",
    "                prev.next=temp.next\n",
    "                temp=None\n",
    "\n",
    "            \n",
    "            \n",
    "    def printlist(self):\n",
    "        val=self.head\n",
    "        while val is not None:\n",
    "            print(val.data)\n",
    "            val=val.next\n",
    "            \n",
    "            \n",
    "            "
   ]
  },
  {
   "cell_type": "code",
   "execution_count": 13,
   "metadata": {
    "scrolled": true
   },
   "outputs": [
    {
     "name": "stdout",
     "output_type": "stream",
     "text": [
      "2\n",
      "3\n",
      "1\n",
      "7\n"
     ]
    }
   ],
   "source": [
    "ll=linkedlist()\n",
    "ll.head=node(2)\n",
    "e2=node(3)\n",
    "e3=node(1)\n",
    "e4=node(7)\n",
    "ll.head.next=e2\n",
    "e2.next=e3\n",
    "e3.next=e4\n",
    "ll.printlist()"
   ]
  },
  {
   "cell_type": "code",
   "execution_count": 14,
   "metadata": {},
   "outputs": [],
   "source": [
    "ll.nthnodedelete(4)"
   ]
  },
  {
   "cell_type": "code",
   "execution_count": 15,
   "metadata": {},
   "outputs": [
    {
     "name": "stdout",
     "output_type": "stream",
     "text": [
      "3\n",
      "1\n",
      "7\n"
     ]
    }
   ],
   "source": [
    "# ll=linkedlist()\n",
    "# ll.add(7)\n",
    "# ll.add(1)\n",
    "# ll.add(3)\n",
    "# ll.add(2)\n",
    "# #ll.add(8)\n",
    "ll.printlist()"
   ]
  },
  {
   "cell_type": "code",
   "execution_count": 16,
   "metadata": {},
   "outputs": [
    {
     "data": {
      "text/plain": [
       "\"node can't be found\""
      ]
     },
     "execution_count": 16,
     "metadata": {},
     "output_type": "execute_result"
    }
   ],
   "source": [
    "ll.nthnodedelete(4)\n"
   ]
  },
  {
   "cell_type": "code",
   "execution_count": 17,
   "metadata": {
    "scrolled": true
   },
   "outputs": [
    {
     "name": "stdout",
     "output_type": "stream",
     "text": [
      "3\n",
      "1\n",
      "7\n"
     ]
    }
   ],
   "source": [
    "ll.printlist()"
   ]
  },
  {
   "cell_type": "code",
   "execution_count": 18,
   "metadata": {},
   "outputs": [],
   "source": [
    "# Find Length of a Linked List (Iterative and Recursive)\n",
    "# Write a function to count the number of nodes in a given singly linked list."
   ]
  },
  {
   "cell_type": "code",
   "execution_count": 28,
   "metadata": {},
   "outputs": [],
   "source": [
    "#iterative solution\n",
    "# 1) Initialize count as 0 \n",
    "# 2) Initialize a node pointer, current = head.\n",
    "# 3) Do following while current is not NULL\n",
    "#      a) current = current -> next\n",
    "#      b) count++;\n",
    "# 4) Return count\n",
    "\n",
    "class node:\n",
    "    def __init__(self,data):\n",
    "        self.data=data\n",
    "        self.next=None\n",
    "        \n",
    "class linkedlist:\n",
    "    def __init__(self):\n",
    "        self.head=None\n",
    "        \n",
    "        \n",
    "    def printlist(self):\n",
    "        temp=self.head\n",
    "        while temp is not None:\n",
    "            print(temp.data)\n",
    "            temp=temp.next\n",
    "            \n",
    "    def insert(self,data):\n",
    "        #at beginning\n",
    "        newnode=node(data)\n",
    "        newnode.next=self.head\n",
    "        self.head=newnode\n",
    "        \n",
    "    def insertmid(self,mid,data):\n",
    "        #at beginning\n",
    "        if mid is None:\n",
    "            return (\"node not found\")\n",
    "        \n",
    "        newnode=node(data)\n",
    "        newnode.next=mid.next\n",
    "        mid.next=newnode\n",
    "        \n",
    "    def insertend(self,data):\n",
    "        temp=self.head\n",
    "        if temp is None:\n",
    "            self.head=newnode(data)\n",
    "            \n",
    "        while temp is not None:\n",
    "            temp=temp.next\n",
    "            \n",
    "        temp.next=newnode(data)\n",
    "        \n",
    "    def lenghtlist(self):\n",
    "        temp=self.head\n",
    "        lenght=0\n",
    "        if temp is None:\n",
    "            return (\"empty\")\n",
    "        else:\n",
    "            while temp is not None:\n",
    "                temp=temp.next\n",
    "                lenght+=1\n",
    "                \n",
    "        return lenght\n",
    "    \n",
    " #recursive\n",
    "# int getCount(head)\n",
    "# 1) If head is NULL, return 0.\n",
    "# 2) Else return 1 + getCount(head->next) \n",
    "#put this function in above code instead of lenghtlist for recursive\n",
    "        \n",
    "    def getcount(self,node):\n",
    "        if node is None:\n",
    "            return 0\n",
    "        else:\n",
    "            return 1+self.getcount(node.next)\n",
    "\n",
    "    def getlenght(self):\n",
    "        return self.getcount(self.head)\n",
    "\n",
    "\n",
    "\n",
    "    "
   ]
  },
  {
   "cell_type": "code",
   "execution_count": 20,
   "metadata": {},
   "outputs": [
    {
     "name": "stdout",
     "output_type": "stream",
     "text": [
      "2\n",
      "3\n",
      "1\n",
      "7\n"
     ]
    },
    {
     "data": {
      "text/plain": [
       "4"
      ]
     },
     "execution_count": 20,
     "metadata": {},
     "output_type": "execute_result"
    }
   ],
   "source": [
    "ll=linkedlist()\n",
    "ll.head=node(2)\n",
    "e2=node(3)\n",
    "e3=node(1)\n",
    "e4=node(7)\n",
    "ll.head.next=e2\n",
    "e2.next=e3\n",
    "e3.next=e4\n",
    "ll.printlist()\n",
    "#ll.lenghtlist()\n",
    "ll.getlenght()"
   ]
  },
  {
   "cell_type": "code",
   "execution_count": 21,
   "metadata": {},
   "outputs": [],
   "source": [
    "# Delete a Linked List node at a given position\n",
    "# Given a singly linked list and a position, delete a linked list node at the given position.\n",
    "# Example:\n",
    "\n",
    "# Input: position = 1, Linked List = 8->2->3->1->7\n",
    "# Output: Linked List =  8->3->1->7\n",
    "\n",
    "# Input: position = 0, Linked List = 8->2->3->1->7\n",
    "# Output: Linked List = 2->3->1->7"
   ]
  },
  {
   "cell_type": "code",
   "execution_count": 22,
   "metadata": {},
   "outputs": [],
   "source": [
    "class node:\n",
    "    def __init__(self,data):\n",
    "        self.data=data\n",
    "        self.next=None\n",
    "        \n",
    "class linkedlist:\n",
    "    def __init__(self):\n",
    "        self.head=None\n",
    "        \n",
    "    def add(self,data):\n",
    "        newnode=node(data)\n",
    "        newnode.next=self.head\n",
    "        self.head=newnode\n",
    "        \n",
    "    def printlist(self):\n",
    "        temp=self.head\n",
    "        while temp is not None:\n",
    "            print(temp.data)\n",
    "            temp=temp.next\n",
    "            \n",
    "    def deletenodeposition(self,position):\n",
    "        \n",
    "        temp=self.head\n",
    "        #if list is enpty\n",
    "        if temp is None:\n",
    "            return (\"empty list\")\n",
    "        #if root node to be deleted i.e 0th position\n",
    "        if position==0:\n",
    "            self.head=self.head.next\n",
    "            temp=None\n",
    "            return\n",
    "        \n",
    "        #find the previous node of the node to be deleted\n",
    "        for i in range(position-1):\n",
    "            temp=temp.next\n",
    "            if temp is None:\n",
    "                break\n",
    "                \n",
    "        if temp is None:\n",
    "            return\n",
    "        if temp.next is None:\n",
    "            return\n",
    "        #temp.next is the node to be deleted\n",
    "        next=temp.next.next\n",
    "        temp.next=None\n",
    "        temp.next=next\n",
    "        \n",
    "        "
   ]
  },
  {
   "cell_type": "code",
   "execution_count": 23,
   "metadata": {},
   "outputs": [
    {
     "name": "stdout",
     "output_type": "stream",
     "text": [
      "8\n",
      "2\n",
      "3\n",
      "1\n",
      "7\n"
     ]
    }
   ],
   "source": [
    "llist = linkedlist() \n",
    "llist.add(7) \n",
    "llist.add(1) \n",
    "llist.add(3) \n",
    "llist.add(2) \n",
    "llist.add(8)\n",
    "llist.printlist()"
   ]
  },
  {
   "cell_type": "code",
   "execution_count": 24,
   "metadata": {
    "scrolled": true
   },
   "outputs": [
    {
     "name": "stdout",
     "output_type": "stream",
     "text": [
      "8\n",
      "2\n",
      "3\n",
      "1\n"
     ]
    }
   ],
   "source": [
    "llist.deletenodeposition(4)\n",
    "llist.printlist()"
   ]
  },
  {
   "cell_type": "code",
   "execution_count": 25,
   "metadata": {},
   "outputs": [],
   "source": [
    "#Write a function to delete a Linked List\n",
    "class node:\n",
    "    def __init__(self,data):\n",
    "        self.data=data\n",
    "        self.next=None\n",
    "        \n",
    "class linkedlist:\n",
    "    def __init__(self):\n",
    "        self.head=None\n",
    "        \n",
    "    def add(self,data):\n",
    "        newnode=node(data)\n",
    "        newnode.next=self.head\n",
    "        self.head=newnode\n",
    "        \n",
    "    def deletelinkedlist(self):\n",
    "        current=self.head\n",
    "        if current is None:\n",
    "            return (\"empty list\")\n",
    "        while current is not None:\n",
    "            previous=current.next\n",
    "            del current.data\n",
    "            current=previous\n",
    "     \n",
    "            \n",
    "    def printlist(self):\n",
    "        val=self.head\n",
    "        if val is None:\n",
    "            print(\"Empty list\")\n",
    "            \n",
    "        while val is not None:\n",
    "            print(val.data)\n",
    "            val=val.next\n",
    "\n",
    "        "
   ]
  },
  {
   "cell_type": "code",
   "execution_count": 26,
   "metadata": {
    "scrolled": false
   },
   "outputs": [],
   "source": [
    "ll=linkedlist()\n",
    "ll.add(1)\n",
    "ll.add(4)\n",
    "ll.add(1)\n",
    "ll.add(12)\n",
    "ll.add(1)\n"
   ]
  },
  {
   "cell_type": "code",
   "execution_count": 30,
   "metadata": {},
   "outputs": [],
   "source": [
    "#reverse linked list\n",
    "class node:\n",
    "    def __init__(self,data):\n",
    "        self.data=data\n",
    "        self.next=None\n",
    "        \n",
    "class linkedlist:\n",
    "    def __init__(self):\n",
    "        self.head=None\n",
    "        \n",
    "    def add(self,data):\n",
    "        newnode=node(data)\n",
    "        newnode.next=self.head\n",
    "        self.head=newnode\n",
    "        \n",
    "    def printlist(self):\n",
    "        temp=self.head\n",
    "        while temp is not None:\n",
    "            print(temp.data)\n",
    "            temp=temp.next\n",
    "            \n",
    "    def reverse(self):\n",
    "        prev=None   #in single linked list we move forward we do not remem prev node so for storing\n",
    "        curr=self.head\n",
    "        next=None    #again for storing\n",
    "        \n",
    "        while curr is not None:   #end of ll\n",
    "            next=curr.next   #store next pointer of current node\n",
    "            curr.next=prev     #reversal taking place\n",
    "            prev=curr         #for advancing steps  ## Used in the next iteration.\n",
    "            curr=next   #for advancing steps # # Move to next node.\n",
    "            \n",
    "        self.head=prev\n",
    "        \n",
    "            \n",
    "            \n",
    "#recursive\n",
    "#recursive\n",
    "#             if not head or not head.next:\n",
    "#                 return head\n",
    "#             p = self.reverseList(head.next)\n",
    "#             print(p)\n",
    "#             head.next.next = head\n",
    "#             head.next = None\n",
    "#             return p "
   ]
  },
  {
   "cell_type": "code",
   "execution_count": 31,
   "metadata": {
    "scrolled": true
   },
   "outputs": [
    {
     "name": "stdout",
     "output_type": "stream",
     "text": [
      "8\n",
      "2\n",
      "3\n",
      "1\n",
      "7\n"
     ]
    }
   ],
   "source": [
    "llist = linkedlist() \n",
    "llist.add(7) \n",
    "llist.add(1) \n",
    "llist.add(3) \n",
    "llist.add(2) \n",
    "llist.add(8)\n",
    "llist.printlist()"
   ]
  },
  {
   "cell_type": "code",
   "execution_count": 32,
   "metadata": {},
   "outputs": [],
   "source": [
    "llist.reverse()"
   ]
  },
  {
   "cell_type": "code",
   "execution_count": 33,
   "metadata": {
    "scrolled": true
   },
   "outputs": [
    {
     "name": "stdout",
     "output_type": "stream",
     "text": [
      "7\n",
      "1\n",
      "3\n",
      "2\n",
      "8\n"
     ]
    }
   ],
   "source": [
    "llist.printlist()"
   ]
  },
  {
   "cell_type": "code",
   "execution_count": null,
   "metadata": {},
   "outputs": [],
   "source": [
    "# # #Swap nodes in a linked list without swapping data\n",
    "# # Given a linked list and two keys in it, swap nodes for two given keys. Nodes should be swapped by changing links. Swapping data of nodes may be expensive in many situations when data contains many fields.\n",
    "# # It may be assumed that all keys in linked list are distinct.\n",
    "\n",
    "# # Examples:\n",
    "\n",
    "# # Input:  10->15->12->13->20->14,  x = 12, y = 20\n",
    "# # Output: 10->15->20->13->12->14\n",
    "\n",
    "# # Input:  10->15->12->13->20->14,  x = 10, y = 20\n",
    "# # Output: 20->15->12->13->10->14\n",
    "\n",
    "# # Input:  10->15->12->13->20->14,  x = 12, y = 13\n",
    "# # Output: 10->15->13->12->20->14\n",
    "\n",
    "\n",
    "# #1) x and y may or may not be adjacent.\n",
    "# 2) Either x or y may be a head node.\n",
    "# 3) Either x or y may be last node.\n",
    "# 4) x and/or y may not be present in linked list.\n",
    "\n",
    "# How to write a clean working code that handles all of the above possibilities.\n",
    "\n",
    "# We strongly recommend to minimize your browser and try this yourself first.\n",
    "\n",
    "# The idea it to first search x and y in given linked list. If any of them is not present, then return. While searching for x and y, keep track of current and previous pointers. First change next of previous pointers, then change next of current pointers. Following are C and Java implementations of this approach.\n",
    "# filter_none"
   ]
  },
  {
   "cell_type": "code",
   "execution_count": 9,
   "metadata": {},
   "outputs": [],
   "source": [
    "class node:\n",
    "    def __init__(self,data):\n",
    "        self.data=data\n",
    "        self.next=None\n",
    "        \n",
    "class linkedlist:\n",
    "    def __init__(self):\n",
    "        self.head=None\n",
    "        \n",
    "    def push(self,data):\n",
    "        newnode=node(data)\n",
    "        newnode.next=self.head\n",
    "        self.head=newnode\n",
    "        \n",
    "    def printlist(self):\n",
    "        temp=self.head\n",
    "        if temp is None:\n",
    "            print (\"empty list\")\n",
    "        while temp is not None:\n",
    "            print(temp.data)\n",
    "            temp=temp.next\n",
    "            \n",
    "            \n",
    "    def swapnodes(self,x,y):\n",
    "        \n",
    "        if x==y:\n",
    "            return \n",
    "        \n",
    "        #search for x and y\n",
    "        prevX=None\n",
    "        currX=self.head\n",
    "        \n",
    "        while currX!=None and currX.data!=x:\n",
    "            prevX=currX\n",
    "            currX=currX.next\n",
    "            \n",
    "        prevY=None\n",
    "        currY=self.head\n",
    "        \n",
    "        while currY!=None and currY.data!=y:\n",
    "            prevY=currY\n",
    "            currY=currY.next\n",
    "            \n",
    "        # if x and y are head of linked list then if x is head then prevX=None bcuz that's how we initialize it and vice versa for Y\n",
    "        if prevX!=None: # x not head\n",
    "            prevX.next= currY #prevX should point to currY as we are swapping \n",
    "        else:\n",
    "            self.head=currY #we make y the new head\n",
    "            \n",
    "        if prevY!=None: # x not head\n",
    "            prevY.next= currX #prevY should point to currX as we are swapping \n",
    "        else:\n",
    "            self.head=currX #we make x the new head\n",
    "            \n",
    "            \n",
    "        #swapping next pointers\n",
    "        temp=currX.next\n",
    "        currX.next=currY.next\n",
    "        currY.next=temp\n",
    "            \n",
    "            \n",
    "        \n",
    "        "
   ]
  },
  {
   "cell_type": "code",
   "execution_count": 10,
   "metadata": {},
   "outputs": [
    {
     "name": "stdout",
     "output_type": "stream",
     "text": [
      "Linked list before calling swapNodes() \n",
      "1\n",
      "2\n",
      "3\n",
      "4\n",
      "5\n",
      "6\n",
      "7\n",
      "\n",
      "Linked list after calling swapNodes() \n",
      "1\n",
      "2\n",
      "4\n",
      "3\n",
      "5\n",
      "6\n",
      "7\n"
     ]
    }
   ],
   "source": [
    "# Driver program to test above function \n",
    "llist = linkedlist() \n",
    "  \n",
    "# The constructed linked list is: \n",
    "# 1->2->3->4->5->6->7 \n",
    "llist.push(7) \n",
    "llist.push(6) \n",
    "llist.push(5) \n",
    "llist.push(4) \n",
    "llist.push(3) \n",
    "llist.push(2) \n",
    "llist.push(1) \n",
    "print (\"Linked list before calling swapNodes() \")\n",
    "llist.printlist() \n",
    "llist.swapnodes(4, 3) \n",
    "print (\"\\nLinked list after calling swapNodes() \")\n",
    "llist.printlist() \n",
    "  "
   ]
  },
  {
   "cell_type": "code",
   "execution_count": null,
   "metadata": {},
   "outputs": [],
   "source": []
  },
  {
   "cell_type": "code",
   "execution_count": null,
   "metadata": {},
   "outputs": [],
   "source": []
  },
  {
   "cell_type": "code",
   "execution_count": 34,
   "metadata": {},
   "outputs": [],
   "source": [
    "# Delete all occurrences of a given key in a linked list\n",
    "# Given a singly linked list, delete all occurrences of a given key in it. For example, consider the following list.\n",
    "# Input: 2 -> 2 -> 1 -> 8 -> 2 ->  3 ->  2 -> 7\n",
    "#        Key to delete = 2\n",
    "# Output:  1 -> 8 -> 3 -> 7 "
   ]
  },
  {
   "cell_type": "code",
   "execution_count": 71,
   "metadata": {},
   "outputs": [],
   "source": [
    "class node:\n",
    "    def __init__(self,data):\n",
    "        self.data=data\n",
    "        self.next=None\n",
    "        \n",
    "class linkedlist:\n",
    "    \n",
    "    def __init__(self):\n",
    "        self.head=None\n",
    "        \n",
    "    def printlist(self):\n",
    "        temp=self.head\n",
    "        if temp is None:\n",
    "            print(\"empty list\")\n",
    "        else:\n",
    "            while temp is not None:\n",
    "                print(temp.data)\n",
    "                temp=temp.next\n",
    "    \n",
    "    #in beginning       \n",
    "    def add(self,data):\n",
    "        \n",
    "        newnode=node(data)\n",
    "        newnode.next=self.head\n",
    "        self.head=newnode\n",
    "        \n",
    "    def atend(self,data):\n",
    "        temp=self.head\n",
    "        if temp is None:\n",
    "            self.head=node(data)\n",
    "        else:\n",
    "            while temp is not None:\n",
    "                temp=temp.next\n",
    "            temp.next=node(data)\n",
    "            \n",
    "            \n",
    "    def inmiddle(self,data,midval):\n",
    "        if midval is None:\n",
    "            print(\"Node not found\")\n",
    "        else:\n",
    "            newnode=node(data)\n",
    "            newnode.next=midval.next\n",
    "            midval.next=newnode\n",
    "        \n",
    "    def delete(self,remdata):\n",
    "        temp=self.head\n",
    "        if temp in None:\n",
    "            print(\"empty list\")\n",
    "            \n",
    "        if temp.data==remdata:\n",
    "            self.head=temp.next\n",
    "            temp=None\n",
    "            \n",
    "        while temp is not None:\n",
    "            if temp is None:\n",
    "                break\n",
    "            prev=temp\n",
    "            temp=temp.next\n",
    "            \n",
    "        if temp is None:         #value not founf\n",
    "            return \n",
    "          #unlink the node\n",
    "        prev.next=temp.next\n",
    "        temp=None\n",
    "\n",
    "    \n",
    "    def deletekey(self,key):\n",
    "        temp=None\n",
    "        prev=self.head\n",
    "        if temp is None:\n",
    "            print(\"empty list\")\n",
    "        if temp.data==key:\n",
    "            self.head=temp.next\n",
    "            temp=self.head\n",
    "            \n",
    "        while temp is not None:\n",
    "            while (temp != None and temp.data != key):\n",
    "                print(\"sj\")\n",
    "                prev=temp\n",
    "                temp=temp.next\n",
    "                if temp is None:\n",
    "                    return\n",
    "                prev.next=temp.next\n",
    "                temp=prev.next\n",
    "\n",
    "                \n",
    "#     def deleteKey(self, key): \n",
    "\n",
    "#         # If head node itself holds the key  \n",
    "#         # or multiple occurrences of key \n",
    "#         while (temp != None and temp.data == key): \n",
    "#             head_ref = temp.next # Changed head \n",
    "#             temp = head_ref         # Change Temp \n",
    "\n",
    "#         # Delete occurrences other than head \n",
    "#         while (temp != None): \n",
    "\n",
    "#             # Search for the key to be deleted,  \n",
    "#             # keep track of the previous node  \n",
    "#             # as we need to change 'prev.next' \n",
    "#             while (temp != None and temp.data != key): \n",
    "#                 prev = temp \n",
    "#                 temp = temp.next\n",
    "\n",
    "#             # If key was not present in linked list \n",
    "#             if (temp == None): \n",
    "#                 return head_ref \n",
    "\n",
    "#             # Unlink the node from linked list \n",
    "#             prev.next = temp.next\n",
    "\n",
    "#             # Update Temp for next iteration of outer loop \n",
    "#             temp = prev.next\n",
    "#             return self.head \n",
    "\n"
   ]
  },
  {
   "cell_type": "code",
   "execution_count": 72,
   "metadata": {
    "scrolled": true
   },
   "outputs": [
    {
     "name": "stdout",
     "output_type": "stream",
     "text": [
      "2\n",
      "2\n",
      "1\n",
      "8\n",
      "2\n",
      "3\n",
      "2\n",
      "7\n"
     ]
    }
   ],
   "source": [
    "llist = linkedlist() \n",
    "llist.add(7) \n",
    "llist.add(2) \n",
    "llist.add(3) \n",
    "llist.add(2) \n",
    "llist.add(8)\n",
    "llist.add(1)\n",
    "llist.add(2)\n",
    "llist.add(2)\n",
    "\n",
    "llist.printlist()"
   ]
  },
  {
   "cell_type": "code",
   "execution_count": 73,
   "metadata": {},
   "outputs": [
    {
     "ename": "KeyboardInterrupt",
     "evalue": "",
     "output_type": "error",
     "traceback": [
      "\u001b[0;31m---------------------------------------------------------------------------\u001b[0m",
      "\u001b[0;31mKeyboardInterrupt\u001b[0m                         Traceback (most recent call last)",
      "\u001b[0;32m<ipython-input-73-4273a80c2256>\u001b[0m in \u001b[0;36m<module>\u001b[0;34m\u001b[0m\n\u001b[0;32m----> 1\u001b[0;31m \u001b[0mllist\u001b[0m\u001b[0;34m.\u001b[0m\u001b[0mdeletekey\u001b[0m\u001b[0;34m(\u001b[0m\u001b[0;36m2\u001b[0m\u001b[0;34m)\u001b[0m\u001b[0;34m\u001b[0m\u001b[0;34m\u001b[0m\u001b[0m\n\u001b[0m",
      "\u001b[0;32m<ipython-input-71-698498662907>\u001b[0m in \u001b[0;36mdeletekey\u001b[0;34m(self, key)\u001b[0m\n\u001b[1;32m     82\u001b[0m                     \u001b[0;32mreturn\u001b[0m\u001b[0;34m\u001b[0m\u001b[0;34m\u001b[0m\u001b[0m\n\u001b[1;32m     83\u001b[0m                 \u001b[0mprev\u001b[0m\u001b[0;34m.\u001b[0m\u001b[0mnext\u001b[0m\u001b[0;34m=\u001b[0m\u001b[0mtemp\u001b[0m\u001b[0;34m.\u001b[0m\u001b[0mnext\u001b[0m\u001b[0;34m\u001b[0m\u001b[0;34m\u001b[0m\u001b[0m\n\u001b[0;32m---> 84\u001b[0;31m                 \u001b[0mtemp\u001b[0m\u001b[0;34m=\u001b[0m\u001b[0mprev\u001b[0m\u001b[0;34m.\u001b[0m\u001b[0mnext\u001b[0m\u001b[0;34m\u001b[0m\u001b[0;34m\u001b[0m\u001b[0m\n\u001b[0m\u001b[1;32m     85\u001b[0m \u001b[0;34m\u001b[0m\u001b[0m\n\u001b[1;32m     86\u001b[0m \u001b[0;34m\u001b[0m\u001b[0m\n",
      "\u001b[0;31mKeyboardInterrupt\u001b[0m: "
     ]
    }
   ],
   "source": [
    "llist.deletekey(2)\n"
   ]
  },
  {
   "cell_type": "code",
   "execution_count": 61,
   "metadata": {},
   "outputs": [
    {
     "name": "stdout",
     "output_type": "stream",
     "text": [
      "2\n",
      "1\n",
      "8\n",
      "2\n",
      "3\n",
      "2\n",
      "7\n"
     ]
    }
   ],
   "source": [
    "\n",
    "llist.printlist()"
   ]
  },
  {
   "cell_type": "code",
   "execution_count": null,
   "metadata": {},
   "outputs": [],
   "source": []
  },
  {
   "cell_type": "code",
   "execution_count": null,
   "metadata": {},
   "outputs": [],
   "source": []
  }
 ],
 "metadata": {
  "kernelspec": {
   "display_name": "Python 3",
   "language": "python",
   "name": "python3"
  },
  "language_info": {
   "codemirror_mode": {
    "name": "ipython",
    "version": 3
   },
   "file_extension": ".py",
   "mimetype": "text/x-python",
   "name": "python",
   "nbconvert_exporter": "python",
   "pygments_lexer": "ipython3",
   "version": "3.6.8"
  }
 },
 "nbformat": 4,
 "nbformat_minor": 2
}
