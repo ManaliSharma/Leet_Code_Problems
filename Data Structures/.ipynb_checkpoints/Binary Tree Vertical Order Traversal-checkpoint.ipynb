{
 "cells": [
  {
   "cell_type": "code",
   "execution_count": null,
   "metadata": {},
   "outputs": [],
   "source": [
    "# 314. Binary Tree Vertical Order Traversal\n",
    "# Medium\n",
    "\n",
    "# 1081\n",
    "\n",
    "# 169\n",
    "\n",
    "# Add to List\n",
    "\n",
    "# Share\n",
    "# Given a binary tree, return the vertical order traversal of its nodes' values. (ie, from top to bottom, column by column).\n",
    "\n",
    "# If two nodes are in the same row and column, the order should be from left to right.\n",
    "\n",
    "# Examples 1:\n",
    "\n",
    "# Input: [3,9,20,null,null,15,7]\n",
    "\n",
    "#    3\n",
    "#   /\\\n",
    "#  /  \\\n",
    "#  9  20\n",
    "#     /\\\n",
    "#    /  \\\n",
    "#   15   7 \n",
    "\n",
    "# Output:\n",
    "\n",
    "# [\n",
    "#   [9],\n",
    "#   [3,15],\n",
    "#   [20],\n",
    "#   [7]\n",
    "# ]\n",
    "# Examp"
   ]
  },
  {
   "cell_type": "code",
   "execution_count": 2,
   "metadata": {},
   "outputs": [],
   "source": [
    "import collections\n",
    "def votbt(root):\n",
    "    \n",
    "    dict=collections.defaultdict(list)\n",
    "    queue=[(root,0)]\n",
    "    for node,s in queue:\n",
    "        if node:\n",
    "            dict[s]=node.val\n",
    "            queue+=(node.left,s-1),(node.right,s+1)\n",
    "        \n",
    "    return [dict[i] for i in sorted(dict)]"
   ]
  },
  {
   "cell_type": "code",
   "execution_count": 5,
   "metadata": {},
   "outputs": [],
   "source": [
    "def votbt(root):\n",
    "    ##main dictionary stores key as distance from root and values as root data\n",
    "    dict={}\n",
    "    #temp for storage key as value of nodes and values as distance from root\n",
    "    node_dict={}\n",
    "    \n",
    "    queue=[root]\n",
    "    node_dict[root.val]=0 #origin\n",
    "    \n",
    "    while len(queue):\n",
    "        temp=[]\n",
    "        curr=queue.pop(0) #for checking values in main dict\n",
    "        if curr is not None:\n",
    "            level=node_dict[curr.val]\n",
    "            if level in dict:\n",
    "                temp=dict.get(level)\n",
    "                temp.append(curr.val)\n",
    "            else:\n",
    "                temp.append(curr.val)\n",
    "                dict[level]=temp\n",
    "                \n",
    "            if curr.left:\n",
    "                left=curr.left\n",
    "                queue.append(left)\n",
    "                node_dict[left.val]=node_dict[curr.data]-1\n",
    "                \n",
    "            if curr.right:\n",
    "                right=curr.right\n",
    "                queue.append(right)\n",
    "                node_dict[right.val]=node_dict[curr.data]+1\n",
    "                \n",
    "                \n",
    "    return dict\n",
    "                "
   ]
  },
  {
   "cell_type": "code",
   "execution_count": null,
   "metadata": {},
   "outputs": [],
   "source": [
    "d"
   ]
  }
 ],
 "metadata": {
  "kernelspec": {
   "display_name": "Python 3",
   "language": "python",
   "name": "python3"
  },
  "language_info": {
   "codemirror_mode": {
    "name": "ipython",
    "version": 3
   },
   "file_extension": ".py",
   "mimetype": "text/x-python",
   "name": "python",
   "nbconvert_exporter": "python",
   "pygments_lexer": "ipython3",
   "version": "3.6.8"
  }
 },
 "nbformat": 4,
 "nbformat_minor": 2
}
