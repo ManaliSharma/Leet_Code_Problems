{
 "cells": [
  {
   "cell_type": "code",
   "execution_count": 67,
   "metadata": {},
   "outputs": [],
   "source": [
    "adj_list={\n",
    "    'A':['B','C'], \n",
    "    'B':['A','D'],\n",
    "    'C':['A','D','E'],\n",
    "    'D':['B','C','E'],\n",
    "    'E':['C','D']\n",
    "}"
   ]
  },
  {
   "cell_type": "code",
   "execution_count": 68,
   "metadata": {},
   "outputs": [
    {
     "data": {
      "text/plain": [
       "['B', 'C']"
      ]
     },
     "execution_count": 68,
     "metadata": {},
     "output_type": "execute_result"
    }
   ],
   "source": [
    "adj_list['A']"
   ]
  },
  {
   "cell_type": "code",
   "execution_count": 66,
   "metadata": {},
   "outputs": [],
   "source": [
    "adj_list['A'].append('D')"
   ]
  },
  {
   "cell_type": "code",
   "execution_count": 69,
   "metadata": {},
   "outputs": [],
   "source": [
    "class graph:\n",
    "    \n",
    "    def __init__(self,nodes):\n",
    "        self.nodes=nodes\n",
    "        self.adj_list={}\n",
    "        \n",
    "        for node in self.nodes:\n",
    "            self.adj_list[node]=[]\n",
    "            \n",
    "            \n",
    "    def add_edge(self,u,v):\n",
    "        \n",
    "        self.adj_list[u].append(v)\n",
    "        self.adj_list[v].append(u)\n",
    "        \n",
    "    def printgraph(self):\n",
    "        for node in self.nodes:\n",
    "            print(node,self.adj_list[node])\n",
    "            \n",
    "    \n",
    "        \n",
    "        "
   ]
  },
  {
   "cell_type": "code",
   "execution_count": 70,
   "metadata": {},
   "outputs": [
    {
     "name": "stdout",
     "output_type": "stream",
     "text": [
      "A []\n",
      "B []\n",
      "C []\n",
      "D []\n",
      "E []\n"
     ]
    }
   ],
   "source": [
    "nodes=['A','B','C','D','E']\n",
    "Graph=graph(nodes)\n",
    "Graph.printgraph()\n"
   ]
  },
  {
   "cell_type": "code",
   "execution_count": 61,
   "metadata": {},
   "outputs": [
    {
     "name": "stdout",
     "output_type": "stream",
     "text": [
      "A ['B']\n",
      "B ['A']\n",
      "C []\n",
      "D []\n",
      "E []\n"
     ]
    }
   ],
   "source": [
    "Graph.add_edge(\"A\",\"B\")\n",
    "Graph.printgraph()"
   ]
  },
  {
   "cell_type": "code",
   "execution_count": 71,
   "metadata": {},
   "outputs": [],
   "source": [
    "all_edge=[('A','B'),('A','C'),('B','D'),('C','D'),('C','E'),('D','E')]\n"
   ]
  },
  {
   "cell_type": "code",
   "execution_count": 72,
   "metadata": {},
   "outputs": [
    {
     "name": "stdout",
     "output_type": "stream",
     "text": [
      "A ['B', 'C']\n",
      "B ['A', 'D']\n",
      "C ['A', 'D', 'E']\n",
      "D ['B', 'C', 'E']\n",
      "E ['C', 'D']\n"
     ]
    }
   ],
   "source": [
    "for u,v in all_edge:\n",
    "    \n",
    "    Graph.add_edge(u,v)\n",
    "    \n",
    "Graph.printgraph()"
   ]
  },
  {
   "cell_type": "code",
   "execution_count": 79,
   "metadata": {},
   "outputs": [],
   "source": [
    "class node:\n",
    "    \n",
    "    def __init__(self,data):\n",
    "        self.vertex=data\n",
    "        self.next=None\n",
    "        \n",
    "class Graph:\n",
    "    \n",
    "    def __init__(self,vertices):\n",
    "        self.V=vertices\n",
    "        self.adj_list=[None]*self.V\n",
    "        \n",
    "    def add_edge(self,src,dest):\n",
    "        #adding node to source node\n",
    "        newnode=node(dest)\n",
    "        newnode.next=self.adj_list[src]\n",
    "        self.adj_list[dest]=newnode\n",
    "        \n",
    "        #adding source node to destination\n",
    "        newnode=node(src)\n",
    "        newnode.next=self.adj_list[dest]\n",
    "        self.adj_list[src]=newnode\n",
    "\n",
    "    def printgraph(self):\n",
    "        \n",
    "        for i in range(self.V):\n",
    "            temp=self.adj_list[i]\n",
    "            while temp:\n",
    "                print(i,temp.vertex)\n",
    "                temp=temp.next\n"
   ]
  },
  {
   "cell_type": "code",
   "execution_count": 80,
   "metadata": {
    "scrolled": true
   },
   "outputs": [
    {
     "name": "stdout",
     "output_type": "stream",
     "text": [
      "0 0\n",
      "0 4\n",
      "0 0\n",
      "0 1\n",
      "1 1\n",
      "1 4\n",
      "1 1\n",
      "1 3\n",
      "1 1\n",
      "1 2\n",
      "1 1\n",
      "2 2\n",
      "2 3\n",
      "2 2\n",
      "2 1\n",
      "3 3\n",
      "3 4\n",
      "3 3\n",
      "3 2\n",
      "3 1\n",
      "4 4\n",
      "4 3\n",
      "4 2\n",
      "4 1\n"
     ]
    }
   ],
   "source": [
    "V = 5\n",
    "graph = Graph(V) \n",
    "graph.add_edge(0, 1) \n",
    "graph.add_edge(0, 4) \n",
    "graph.add_edge(1, 2) \n",
    "graph.add_edge(1, 3) \n",
    "graph.add_edge(1, 4) \n",
    "graph.add_edge(2, 3) \n",
    "graph.add_edge(3, 4) \n",
    "\n",
    "graph.printgraph() "
   ]
  },
  {
   "cell_type": "code",
   "execution_count": null,
   "metadata": {},
   "outputs": [],
   "source": []
  }
 ],
 "metadata": {
  "kernelspec": {
   "display_name": "Python 3",
   "language": "python",
   "name": "python3"
  },
  "language_info": {
   "codemirror_mode": {
    "name": "ipython",
    "version": 3
   },
   "file_extension": ".py",
   "mimetype": "text/x-python",
   "name": "python",
   "nbconvert_exporter": "python",
   "pygments_lexer": "ipython3",
   "version": "3.6.8"
  }
 },
 "nbformat": 4,
 "nbformat_minor": 2
}
