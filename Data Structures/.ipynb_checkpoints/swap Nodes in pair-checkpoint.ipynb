{
 "cells": [
  {
   "cell_type": "code",
   "execution_count": 1,
   "metadata": {},
   "outputs": [],
   "source": [
    "# #Given a linked list, swap every two adjacent nodes and return its head.\n",
    "\n",
    "# You may not modify the values in the list's nodes, only nodes itself may be changed.\n",
    "\n",
    " \n",
    "\n",
    "# Example:\n",
    "\n",
    "# Given 1->2->3->4, you should return the list as 2->1->4->3."
   ]
  },
  {
   "cell_type": "code",
   "execution_count": 33,
   "metadata": {},
   "outputs": [],
   "source": [
    "class node:\n",
    "    def __init__(self,data):\n",
    "        self.data=data\n",
    "        self.next=None\n",
    "        \n",
    "class linkedlist:\n",
    "    \n",
    "    def __init__(self):\n",
    "        self.head=None\n",
    "        \n",
    "    def push(self,data):\n",
    "        newnode=node(data)\n",
    "        newnode.next=self.head\n",
    "        self.head=newnode\n",
    "        \n",
    "    def printlist(self):\n",
    "        temp=self.head\n",
    "        if temp is None:\n",
    "            print(\"empty list\")\n",
    "        while temp is not None:\n",
    "            print(temp.data)\n",
    "            temp=temp.next\n",
    "            \n",
    "    def swapnode(self):\n",
    "        temp=self.head\n",
    "        \n",
    "        while temp and temp.next:\n",
    "            temp.data, temp.next.data=temp.next.data,temp.data\n",
    "            \n",
    "            temp=temp.next.next\n",
    "            "
   ]
  },
  {
   "cell_type": "code",
   "execution_count": 34,
   "metadata": {},
   "outputs": [
    {
     "name": "stdout",
     "output_type": "stream",
     "text": [
      "4\n",
      "3\n",
      "2\n",
      "1\n"
     ]
    }
   ],
   "source": [
    "llist=linkedlist()\n",
    "llist.push(1)\n",
    "llist.push(2)\n",
    "llist.push(3)\n",
    "llist.push(4)\n",
    "\n"
   ]
  },
  {
   "cell_type": "code",
   "execution_count": 35,
   "metadata": {},
   "outputs": [],
   "source": [
    "llist.swapnode()\n"
   ]
  },
  {
   "cell_type": "code",
   "execution_count": 36,
   "metadata": {},
   "outputs": [
    {
     "name": "stdout",
     "output_type": "stream",
     "text": [
      "3\n",
      "4\n",
      "1\n",
      "2\n"
     ]
    }
   ],
   "source": [
    "llist.printlist()"
   ]
  },
  {
   "cell_type": "code",
   "execution_count": null,
   "metadata": {},
   "outputs": [],
   "source": []
  }
 ],
 "metadata": {
  "kernelspec": {
   "display_name": "Python 3",
   "language": "python",
   "name": "python3"
  },
  "language_info": {
   "codemirror_mode": {
    "name": "ipython",
    "version": 3
   },
   "file_extension": ".py",
   "mimetype": "text/x-python",
   "name": "python",
   "nbconvert_exporter": "python",
   "pygments_lexer": "ipython3",
   "version": "3.6.8"
  }
 },
 "nbformat": 4,
 "nbformat_minor": 2
}
