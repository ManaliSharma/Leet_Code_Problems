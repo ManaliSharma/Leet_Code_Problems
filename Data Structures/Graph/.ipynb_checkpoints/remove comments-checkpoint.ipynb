{
 "cells": [
  {
   "cell_type": "code",
   "execution_count": null,
   "metadata": {},
   "outputs": [],
   "source": [
    "# The main idea is simple - Go through each character, if we meet a special character, check whether the next character is one that is of interest to us (comment tokens) and then toggle some states that will determine whether we append the character to the final source.\n",
    "\n",
    "# Some insights:\n",
    "\n",
    "# There are three important tokens we want to identify within the source code //, /* and */.\n",
    "# We use a variable called buffer that acts as a buffer to store the characters that will definitely go into the final source code. This buffer can contain characters from multiple lines because of block comments.\n",
    "# We use another variable block_comments_open to keep track of whether we are inside a block comment or not.\n",
    "# At the end of each source line, we simply have to check whether we are inside of a block comment or not (i.e. block_comments_open is True) to decide whether we want to flush the buffer and append it to the results.\n",
    "# In each loop, we have to check that:\n",
    "\n",
    "# // - If it is a line comment and not part of a block comment, skip the rest of the line by shifting the pointer to the end of the line.\n",
    "# /* - If it is an opening block comment token and not part of a block comment, set block_comments_open to True.\n",
    "# */ - If it is a closing block comment token and part of a block comment, set block_comments_open to False.\n",
    "# Else append to buffer if not part of a block comment.\n",
    "# Bonus\n",
    "\n",
    "# There are many parsing/compiler type questions in LeetCode, and here are some tips on handling them:\n",
    "\n",
    "# Use a pointer to read each character so that you can skip characters if the current token is made by more than one character, such as //, /* and */.\n",
    "# For Python, use a while loop. You can't skip characters if you used for i in range(...) unlike in C++ or Java where you can have control of how you want to increment i at the end of each loop."
   ]
  },
  {
   "cell_type": "code",
   "execution_count": 86,
   "metadata": {},
   "outputs": [],
   "source": [
    "def removeComments(sources):\n",
    "    res=[]\n",
    "    buffer=''\n",
    "    is_block=False\n",
    "    \n",
    "    for line in sources:\n",
    "        i=0\n",
    "        while i < len(line):\n",
    "            char=line[i]\n",
    "            #start of line comment //\n",
    "            if char=='/' and (i+1) < len(line) and line[i+1]=='/' and not is_block:\n",
    "                i=len(line)\n",
    "            #start of block comment\n",
    "            elif char=='/' and (i+1)<len(line) and line[i+1]=='*' and not is_block:\n",
    "                is_block=True\n",
    "                i+=1\n",
    "            #end of block comment\n",
    "            elif char=='*' and (i+1) <len(line) and line[i+1]=='/' and is_block:\n",
    "                is_block=False\n",
    "                i+=1\n",
    "            elif not is_block:\n",
    "                buffer+=char\n",
    "            i+=1\n",
    "        \n",
    "        if buffer and not is_block:\n",
    "            res.append(buffer)\n",
    "            buffer=''\n",
    "            \n",
    "    return res\n",
    "                                                     \n",
    "                "
   ]
  },
  {
   "cell_type": "code",
   "execution_count": 87,
   "metadata": {},
   "outputs": [],
   "source": [
    "source=[\"/*Test program */\", \"int main()\", \"{ \", \"  // variable declaration \", \"int a, b, c;\", \"/* This is a test\", \"   multiline  \", \"   comment for \", \"   testing */\", \"a = b + c;\", \"}\"]"
   ]
  },
  {
   "cell_type": "code",
   "execution_count": 88,
   "metadata": {},
   "outputs": [
    {
     "data": {
      "text/plain": [
       "['int main()', '{ ', '  ', 'int a, b, c;', 'a = b + c;', '}']"
      ]
     },
     "execution_count": 88,
     "metadata": {},
     "output_type": "execute_result"
    }
   ],
   "source": [
    "removeComments(source)"
   ]
  }
 ],
 "metadata": {
  "kernelspec": {
   "display_name": "Python 3",
   "language": "python",
   "name": "python3"
  },
  "language_info": {
   "codemirror_mode": {
    "name": "ipython",
    "version": 3
   },
   "file_extension": ".py",
   "mimetype": "text/x-python",
   "name": "python",
   "nbconvert_exporter": "python",
   "pygments_lexer": "ipython3",
   "version": "3.6.8"
  }
 },
 "nbformat": 4,
 "nbformat_minor": 2
}
