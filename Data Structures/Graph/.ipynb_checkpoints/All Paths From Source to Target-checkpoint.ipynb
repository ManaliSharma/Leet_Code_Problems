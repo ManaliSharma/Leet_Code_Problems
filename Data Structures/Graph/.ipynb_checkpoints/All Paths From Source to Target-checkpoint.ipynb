{
 "cells": [
  {
   "cell_type": "code",
   "execution_count": null,
   "metadata": {},
   "outputs": [],
   "source": [
    "# All Paths From Source to Target\n",
    "# Medium\n",
    "\n",
    "# 1001\n",
    "\n",
    "# 70\n",
    "\n",
    "# Add to List\n",
    "\n",
    "# Share\n",
    "# Given a directed acyclic graph of N nodes. Find all possible paths from node 0 to node N-1, and return them in any order.\n",
    "\n",
    "# The graph is given as follows:  the nodes are 0, 1, ..., graph.length - 1.  graph[i] is a list of all nodes j for which the edge (i, j) exists.\n",
    "\n",
    "# Example:\n",
    "# Input: [[1,2],[3],[3],[]]\n",
    "# Output: [[0,1,3],[0,2,3]]\n",
    "# Explanation: The graph looks like this:\n",
    "# 0--->1\n",
    "# |    |\n",
    "# v    v\n",
    "# 2--->3\n",
    "# There are two paths: 0 -> 1 -> 3 and 0 -> 2 -> 3.\n",
    " \n",
    "\n",
    "# Constraints:\n",
    "\n",
    "# The number of nodes in the graph will be in the range [2, 15].\n",
    "# You can print different paths in any order, but you should keep the order of nodes inside one path."
   ]
  },
  {
   "cell_type": "code",
   "execution_count": 90,
   "metadata": {},
   "outputs": [],
   "source": [
    "class graph:\n",
    "    \n",
    "    def __init__(self,nodes,isdirected=False):\n",
    "        self.nodes=nodes\n",
    "        self.adj_list={}\n",
    "        self.isdirected=isdirected\n",
    "        \n",
    "        for node in self.nodes:\n",
    "            self.adj_list[node]=[]\n",
    "            \n",
    "    def printgraph(self):\n",
    "        for node in self.nodes:\n",
    "            print(node,self.adj_list[node])\n",
    "            \n",
    "    def addEdge(self,u,v):\n",
    "        self.adj_list[u].append(v)\n",
    "        \n",
    "        if self.isdirected!=True:\n",
    "            self.adj_list[v].append(u)\n",
    "            \n",
    "    def bfs(self,s):\n",
    "        visited=[]\n",
    "        queue=[s]\n",
    "        \n",
    "        while queue:\n",
    "            x=queue.pop(0)\n",
    "            \n",
    "            if x not in visited:\n",
    "                visited.append(x)\n",
    "                neighbours=self.adj_list[x]\n",
    "                \n",
    "                for n in neighbours:\n",
    "                    queue.append(n)\n",
    "                    \n",
    "        return visited\n",
    "            \n",
    "            \n",
    "    \n",
    "    def bfs_sp(self,s,t):\n",
    "        visited=[]\n",
    "        queue=[[s]]\n",
    "        if s==t:\n",
    "            return \"no need to traverse\"\n",
    "        while queue:\n",
    "            path=queue.pop(0)\n",
    "            x=path[-1]\n",
    "            if x not in visited:\n",
    "                visited.append(x)  \n",
    "                neighbours=self.adj_list[x]\n",
    "                \n",
    "                for n in neighbours:\n",
    "                    newpath=list(path)\n",
    "                    newpath.append(n)\n",
    "                    queue.append(newpath)\n",
    "                    \n",
    "                    if n==t:\n",
    "                        return newpath\n",
    "                  \n",
    "        return -1\n",
    "    \n",
    "    \n",
    "    def bfs_allpath(self):\n",
    "        #for storing all paths\n",
    "        result=[]\n",
    "        #0th index of graph [0,1],[0,2] in queue as source\n",
    "        queue=[(0,i) for i in self.adj_list[0]]\n",
    "        #dest i.e last node\n",
    "        dest=len(self.adj_list)-1\n",
    "        while queue:\n",
    "            temp=[]\n",
    "            for path in queue:\n",
    "                prev=path[-1]\n",
    "                if prev==dest:\n",
    "                    result.append(path)\n",
    "                else:\n",
    "                    neighbours=self.adj_list[prev]\n",
    "                    for n in neighbours:\n",
    "                        newpath=list(path)+[n]\n",
    "                        if n==dest:\n",
    "                            result.append(newpath)\n",
    "                        else:\n",
    "                            temp.append(newpath)\n",
    "                            \n",
    "            queue=temp\n",
    "        return result\n",
    "#         while queue:\n",
    "#             temp_result = []\n",
    "#             for path in queue:\n",
    "#                 prev = path[-1]\n",
    "#                 if prev == dest:\n",
    "#                     result.append(path)\n",
    "#                 else:\n",
    "#                     neighbours=self.adj_list[prev]\n",
    "#                     for node in neighbours:\n",
    "#                         newpath = list(path) + [node]\n",
    "\n",
    "#                         if node == dest:\n",
    "#                             result.append(newpath)\n",
    "#                         else:\n",
    "#                             temp_result.append(newpath)\n",
    "#             queue=temp_result\n",
    "#         return result\n",
    "\n",
    "\n",
    "\n",
    "\n"
   ]
  },
  {
   "cell_type": "code",
   "execution_count": null,
   "metadata": {},
   "outputs": [],
   "source": []
  },
  {
   "cell_type": "code",
   "execution_count": 91,
   "metadata": {},
   "outputs": [
    {
     "name": "stdout",
     "output_type": "stream",
     "text": [
      "0 [1, 2]\n",
      "1 [3]\n",
      "2 [1, 3]\n",
      "3 []\n"
     ]
    }
   ],
   "source": [
    "nodes=[0,1,2,3]\n",
    "G=graph(nodes,isdirected=True)\n",
    "G.addEdge(0,1)\n",
    "G.addEdge(0,2)\n",
    "G.addEdge(1,3)\n",
    "G.addEdge(2,1)\n",
    "G.addEdge(2,3)\n",
    "\n",
    "G.printgraph()"
   ]
  },
  {
   "cell_type": "code",
   "execution_count": 92,
   "metadata": {},
   "outputs": [
    {
     "data": {
      "text/plain": [
       "[2, 1, 3]"
      ]
     },
     "execution_count": 92,
     "metadata": {},
     "output_type": "execute_result"
    }
   ],
   "source": [
    "G.bfs(2)"
   ]
  },
  {
   "cell_type": "code",
   "execution_count": 93,
   "metadata": {},
   "outputs": [
    {
     "data": {
      "text/plain": [
       "[0, 1, 3]"
      ]
     },
     "execution_count": 93,
     "metadata": {},
     "output_type": "execute_result"
    }
   ],
   "source": [
    "G.bfs_sp(0,3)"
   ]
  },
  {
   "cell_type": "code",
   "execution_count": 94,
   "metadata": {},
   "outputs": [
    {
     "data": {
      "text/plain": [
       "[[0, 1, 3], [0, 2, 3], [0, 2, 1, 3]]"
      ]
     },
     "execution_count": 94,
     "metadata": {},
     "output_type": "execute_result"
    }
   ],
   "source": [
    "G.bfs_allpath()"
   ]
  },
  {
   "cell_type": "code",
   "execution_count": null,
   "metadata": {},
   "outputs": [],
   "source": []
  },
  {
   "cell_type": "code",
   "execution_count": null,
   "metadata": {},
   "outputs": [],
   "source": []
  }
 ],
 "metadata": {
  "kernelspec": {
   "display_name": "Python 3",
   "language": "python",
   "name": "python3"
  },
  "language_info": {
   "codemirror_mode": {
    "name": "ipython",
    "version": 3
   },
   "file_extension": ".py",
   "mimetype": "text/x-python",
   "name": "python",
   "nbconvert_exporter": "python",
   "pygments_lexer": "ipython3",
   "version": "3.6.8"
  }
 },
 "nbformat": 4,
 "nbformat_minor": 2
}
