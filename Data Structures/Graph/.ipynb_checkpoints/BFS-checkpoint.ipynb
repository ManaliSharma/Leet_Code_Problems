{
 "cells": [
  {
   "cell_type": "code",
   "execution_count": 13,
   "metadata": {},
   "outputs": [],
   "source": [
    "# 1. Add the vertex to start the breadth-first search to the empty queue. Mark that vertex visited.\n",
    "# 2. Extract a vertex from the queue and add its neighbors to the queue if that isn't marked visited.\n",
    "# 3. Repeat step 2 until the queue is empty."
   ]
  },
  {
   "cell_type": "code",
   "execution_count": 14,
   "metadata": {},
   "outputs": [],
   "source": [
    "# There are a couple of main differences between the implementations of BDF for traversing a graph and for \n",
    "#finding the shortest path. First, in case of the shortest path application, we need for the queue to keep \n",
    "# track of possible paths (implemented as list of nodes) instead of nodes. \n",
    "# Second, when the algorithm checks for a neighbour node, it needs to check whether the neighbour node \n",
    "# corresponds to the goal node. If that’s the case, we have a solution and there’s no need to keep exploring \n",
    "# the graph."
   ]
  },
  {
   "cell_type": "code",
   "execution_count": 15,
   "metadata": {},
   "outputs": [],
   "source": [
    "class graph:\n",
    "    \n",
    "    def __init__(self,nodes,is_directed=False):\n",
    "        self.nodes=nodes\n",
    "        self.adj_list={}\n",
    "        self.is_directed=is_directed\n",
    "        for node in self.nodes:\n",
    "            self.adj_list[node]=[]\n",
    "            \n",
    "    def print_graph(self):\n",
    "        \n",
    "        for node in self.nodes:\n",
    "            print(node,self.adj_list[node])\n",
    "            \n",
    "    def addEdge(self,u,v):\n",
    "        self.adj_list[u].append(v)\n",
    "        \n",
    "        if self.is_directed!=True:\n",
    "            self.adj_list[v].append(u)\n",
    "            \n",
    "    def degree(self):\n",
    "        return len(self.adj_list)\n",
    "    \n",
    "    ## visits all the nodes of a graph (connected component) using BFS\n",
    "    def bfs(self,s):\n",
    "        # keep track of all visited nodes\n",
    "        visited=[]\n",
    "        # keep track of nodes to be checked\n",
    "        queue=[]\n",
    "        queue.append(s)\n",
    "        \n",
    "        # keep looping until there are nodes still to be checked\n",
    "        while queue:\n",
    "            # pop shallowest node (first node) from queue\n",
    "            x=queue.pop(0)\n",
    "            \n",
    "            if x not in visited:\n",
    "                \n",
    "                neighbours=self.adj_list[x]\n",
    "                # add node to list of checked nodes\n",
    "                visited.append(x)\n",
    "                # add neighbours of node to queue\n",
    "                for neighbour in neighbours:\n",
    "                    queue.append(neighbour)\n",
    "                    \n",
    "            \n",
    "                \n",
    "        return visited\n",
    "     \n",
    "        \n",
    "    # finds shortest path between 2 nodes of a graph using BFS\n",
    "    def bfs_sp(self,start,dest):\n",
    "        # keep track of explored nodes\n",
    "        visited=[]\n",
    "        # keep track of all the paths to be checked\n",
    "        queue=[[start]]\n",
    "        # return path if start is goal\n",
    "        if start==dest:\n",
    "            return \"no need to traverse\"\n",
    "        # keeps looping until all possible paths have been checked\n",
    "        while queue:\n",
    "            # pop the first path from the queue\n",
    "            path=queue.pop(0)\n",
    "            # get the last node from the path\n",
    "            node=path[-1]\n",
    "            \n",
    "            if node not in visited:\n",
    "                \n",
    "                neighbours=self.adj_list[node]\n",
    "                # go through all neighbour nodes, construct a new path and\n",
    "            # push it into the queue\n",
    "                for neighbour in neighbours:\n",
    "                    \n",
    "                    newpath=list(path)\n",
    "                    newpath.append(neighbour)\n",
    "                    queue.append(newpath)\n",
    "                    # return path if neighbour is goal\n",
    "                    if dest==newpath:\n",
    "                        return (newpath,len(newpath))\n",
    "# mark node as explored\n",
    "                visited.append(node)   \n",
    "        return \"sorry no path found\"\n",
    "    \n",
    "    \n",
    "    "
   ]
  },
  {
   "cell_type": "code",
   "execution_count": 16,
   "metadata": {},
   "outputs": [
    {
     "name": "stdout",
     "output_type": "stream",
     "text": [
      "0 [1, 2]\n",
      "1 [3]\n",
      "2 [1, 3]\n",
      "3 []\n"
     ]
    },
    {
     "data": {
      "text/plain": [
       "'sorry no path found'"
      ]
     },
     "execution_count": 16,
     "metadata": {},
     "output_type": "execute_result"
    }
   ],
   "source": [
    "nodes=[0,1,2,3]\n",
    "G=graph(nodes,is_directed=True)\n",
    "G.addEdge(0,1)\n",
    "G.addEdge(0,2)\n",
    "G.addEdge(1,3)\n",
    "G.addEdge(2,1)\n",
    "G.addEdge(2,3)\n",
    "\n",
    "G.print_graph()\n",
    "G.bfs(2)\n",
    "G.bfs_sp(0,3)"
   ]
  },
  {
   "cell_type": "code",
   "execution_count": 19,
   "metadata": {},
   "outputs": [],
   "source": [
    "nodes=[1,2,3,4,5]\n",
    "g = graph(nodes,is_directed=True)\n",
    "g.addEdge(1, 2) \n",
    "g.addEdge(1, 3) \n",
    "g.addEdge(4, 1) \n",
    "g.addEdge(4, 3) \n",
    "g.addEdge(2, 5) \n",
    "g.addEdge(5, 4) "
   ]
  },
  {
   "cell_type": "code",
   "execution_count": 227,
   "metadata": {},
   "outputs": [
    {
     "data": {
      "text/plain": [
       "[2, 5, 4, 1, 3]"
      ]
     },
     "execution_count": 227,
     "metadata": {},
     "output_type": "execute_result"
    }
   ],
   "source": [
    "g.bfs(2)"
   ]
  },
  {
   "cell_type": "code",
   "execution_count": 228,
   "metadata": {
    "scrolled": true
   },
   "outputs": [
    {
     "data": {
      "text/plain": [
       "([2, 5, 4, 3], 4)"
      ]
     },
     "execution_count": 228,
     "metadata": {},
     "output_type": "execute_result"
    }
   ],
   "source": [
    "g.bfs_sp(2,3)"
   ]
  },
  {
   "cell_type": "code",
   "execution_count": 76,
   "metadata": {},
   "outputs": [],
   "source": [
    "class graph:\n",
    "    \n",
    "    def __init__(self,nodes,is_directed=False):\n",
    "        self.nodes=nodes\n",
    "        self.adj_list={}\n",
    "        self.is_directed=is_directed\n",
    "        for node in self.nodes:\n",
    "            self.adj_list[node]=[]\n",
    "            \n",
    "    def addEdge(self,u,v):\n",
    "        self.adj_list[u].append(v)\n",
    "        if self.is_directed==False:\n",
    "            self.adj_list[v].append(u)\n",
    "            \n",
    "    def printgraph(self):\n",
    "        \n",
    "        for node in self.nodes:\n",
    "            print(node,self.adj_list[node])\n",
    "            \n",
    "    def bfs(self,s):\n",
    "        \n",
    "        visited=[]\n",
    "        queue=[s]\n",
    "        \n",
    "        while len(queue):\n",
    "            \n",
    "            x=queue.pop(0)\n",
    "            \n",
    "            if x not in visited:\n",
    "                visited.append(x)\n",
    "                \n",
    "                for n in self.adj_list[x]:\n",
    "                    queue.append(n)\n",
    "                    \n",
    "        return visited\n",
    "        \n",
    "        \n",
    "    def bfs_sp(self,s,d):\n",
    "        \n",
    "        visited=[]\n",
    "        queue=[[s]]\n",
    "        if s==d:\n",
    "            return \"no need to traverse\"\n",
    "        while len(queue):\n",
    "            \n",
    "            path=queue.pop(0)\n",
    "            \n",
    "            node=path[-1]\n",
    "            \n",
    "            if node not in visited:\n",
    "                visited.append(node)\n",
    "                \n",
    "                neigh=self.adj_list[node]\n",
    "                \n",
    "                for n in neigh:\n",
    "                    newpath=list(path)\n",
    "                    newpath.append(n)\n",
    "                    queue.append(newpath)\n",
    "                    \n",
    "                    if n==d:\n",
    "                        return newpath\n",
    "                    \n",
    "        return visited\n",
    "    \n",
    "    \n",
    "\n",
    "    def bfs_allpath(self):\n",
    "        visited=[]\n",
    "        queue=[(0,i) for i in self.adj_list[0]]\n",
    "        d=len(self.adj_list)-1\n",
    "        while queue:\n",
    "            temp=[]\n",
    "            for path in queue:\n",
    "                prev=path[-1]\n",
    "                if prev==d:\n",
    "                    visited.append(path)\n",
    "\n",
    "                else:\n",
    "                    for n in self.adj_list[prev]:\n",
    "                        newpath=list(path)+[n]\n",
    "\n",
    "                        if n==d:\n",
    "                            visited.append(newpath)\n",
    "                        else:\n",
    "                            temp.append(newpath)\n",
    "\n",
    "            queue=temp\n",
    "\n",
    "        return visited\n",
    "\n",
    "\n"
   ]
  },
  {
   "cell_type": "code",
   "execution_count": 77,
   "metadata": {},
   "outputs": [
    {
     "name": "stdout",
     "output_type": "stream",
     "text": [
      "1 [2, 3]\n",
      "2 [5]\n",
      "3 []\n",
      "4 [1, 3]\n",
      "5 [4]\n"
     ]
    }
   ],
   "source": [
    "nodes=[1,2,3,4,5]\n",
    "g = graph(nodes,is_directed=True)\n",
    "g.addEdge(1, 2) \n",
    "g.addEdge(1, 3) \n",
    "g.addEdge(4, 1) \n",
    "g.addEdge(4, 3) \n",
    "g.addEdge(2, 5) \n",
    "g.addEdge(5, 4) \n",
    "g.printgraph()"
   ]
  },
  {
   "cell_type": "code",
   "execution_count": 78,
   "metadata": {
    "scrolled": true
   },
   "outputs": [
    {
     "data": {
      "text/plain": [
       "[2, 5, 4, 1, 3]"
      ]
     },
     "execution_count": 78,
     "metadata": {},
     "output_type": "execute_result"
    }
   ],
   "source": [
    "g.bfs(2)"
   ]
  },
  {
   "cell_type": "code",
   "execution_count": 79,
   "metadata": {
    "scrolled": true
   },
   "outputs": [
    {
     "data": {
      "text/plain": [
       "[2, 5, 4, 3]"
      ]
     },
     "execution_count": 79,
     "metadata": {},
     "output_type": "execute_result"
    }
   ],
   "source": [
    "g.bfs_sp(2,3)"
   ]
  },
  {
   "cell_type": "code",
   "execution_count": 82,
   "metadata": {},
   "outputs": [
    {
     "data": {
      "text/plain": [
       "[[0, 1, 3], [0, 2, 3], [0, 2, 1, 3]]"
      ]
     },
     "execution_count": 82,
     "metadata": {},
     "output_type": "execute_result"
    }
   ],
   "source": [
    "g.bfs_allpath()"
   ]
  },
  {
   "cell_type": "code",
   "execution_count": 81,
   "metadata": {},
   "outputs": [
    {
     "name": "stdout",
     "output_type": "stream",
     "text": [
      "0 [1, 2]\n",
      "1 [3]\n",
      "2 [1, 3]\n",
      "3 []\n"
     ]
    }
   ],
   "source": [
    "nodes=[0,1,2,3]\n",
    "g=graph(nodes,is_directed=True)\n",
    "g.addEdge(0,1)\n",
    "g.addEdge(0,2)\n",
    "g.addEdge(1,3)\n",
    "g.addEdge(2,1)\n",
    "g.addEdge(2,3)\n",
    "\n",
    "g.printgraph()"
   ]
  },
  {
   "cell_type": "code",
   "execution_count": null,
   "metadata": {},
   "outputs": [],
   "source": []
  },
  {
   "cell_type": "code",
   "execution_count": 6,
   "metadata": {},
   "outputs": [
    {
     "name": "stdout",
     "output_type": "stream",
     "text": [
      "A ['B']\n",
      "B ['A']\n",
      "C []\n",
      "D []\n",
      "E []\n"
     ]
    }
   ],
   "source": [
    "nodes=['A','B','C','D','E']\n",
    "Graph=graph(nodes,is_directed=False)\n",
    "Graph.add_edge(\"A\",\"B\")\n",
    "Graph.printgraph()"
   ]
  },
  {
   "cell_type": "code",
   "execution_count": 7,
   "metadata": {},
   "outputs": [
    {
     "name": "stdout",
     "output_type": "stream",
     "text": [
      "A ['B', 'B', 'C']\n",
      "B ['A', 'A', 'D']\n",
      "C ['A', 'D', 'E']\n",
      "D ['B', 'C', 'E']\n",
      "E ['C', 'D']\n"
     ]
    }
   ],
   "source": [
    "all_edge=[('A','B'),('A','C'),('B','D'),('C','D'),('C','E'),('D','E')]\n",
    "for u,v in all_edge:\n",
    "    Graph.add_edge(u,v)\n",
    "    \n",
    "Graph.printgraph()"
   ]
  },
  {
   "cell_type": "code",
   "execution_count": 4,
   "metadata": {},
   "outputs": [],
   "source": [
    "class node:\n",
    "    \n",
    "    def __init__(self,node):\n",
    "        self.data=node\n",
    "        self.next=None\n",
    "        \n",
    "class Graph:\n",
    "    \n",
    "    def __init__(self,vertices):\n",
    "        self.v=vertices\n",
    "        self.graph=[None]*self.v\n",
    "    \n",
    "    def add_edge(self,u,v):\n",
    "        new=node(u)\n",
    "        new.next=self.graph[v]\n",
    "        self.graph[u]=new\n",
    "        \n",
    "        new=node(v)\n",
    "        new.next=self.graph[u]\n",
    "        self.graph[v]=new\n",
    "        \n",
    "        \n",
    "    def printgraph(self):\n",
    "        for i in range(self.v):\n",
    "            temp=self.graph[i]\n",
    "            while temp:\n",
    "                print(i,temp.data)\n",
    "                temp=temp.next\n",
    "                \n",
    "                \n",
    "    def bfs(self,s):\n",
    "        \n",
    "        visited=[]\n",
    "        queue=[s]\n",
    "        \n",
    "        while len(queue):\n",
    "            \n",
    "            x=queue.pop(0)\n",
    "            \n",
    "            if x not in visited:\n",
    "                visited.append(x)\n",
    "                \n",
    "            else:\n",
    "                for n in self.adj_list[x]:\n",
    "                    queue.append(n)\n",
    "                    \n",
    "        return visited\n",
    "        \n",
    "        "
   ]
  },
  {
   "cell_type": "code",
   "execution_count": 5,
   "metadata": {},
   "outputs": [],
   "source": [
    "V = 5\n",
    "graph = Graph(V) \n",
    "graph.add_edge(0, 1) \n",
    "graph.add_edge(0, 4) \n",
    "graph.add_edge(1, 2) \n",
    "graph.add_edge(1, 3) \n",
    "graph.add_edge(1, 4) \n",
    "graph.add_edge(2, 3) \n",
    "graph.add_edge(3, 4) \n"
   ]
  },
  {
   "cell_type": "code",
   "execution_count": null,
   "metadata": {},
   "outputs": [],
   "source": []
  },
  {
   "cell_type": "code",
   "execution_count": 170,
   "metadata": {
    "scrolled": true
   },
   "outputs": [
    {
     "name": "stdout",
     "output_type": "stream",
     "text": [
      "2 5 4 1 3 "
     ]
    }
   ],
   "source": [
    "g.BFS(2)"
   ]
  },
  {
   "cell_type": "code",
   "execution_count": 171,
   "metadata": {},
   "outputs": [
    {
     "data": {
      "text/plain": [
       "5"
      ]
     },
     "execution_count": 171,
     "metadata": {},
     "output_type": "execute_result"
    }
   ],
   "source": [
    "g.degree()"
   ]
  },
  {
   "cell_type": "code",
   "execution_count": 172,
   "metadata": {},
   "outputs": [
    {
     "name": "stdout",
     "output_type": "stream",
     "text": [
      "[2, 5]\n",
      "[2]\n",
      "[2, 5, 4]\n",
      "[2, 5]\n",
      "[2, 5, 4, 1]\n",
      "[2, 5, 4, 3]\n",
      "Shortest path =  2 5 4 3\n"
     ]
    }
   ],
   "source": [
    "g.BFS_SP(2,3)"
   ]
  },
  {
   "cell_type": "code",
   "execution_count": null,
   "metadata": {},
   "outputs": [],
   "source": []
  }
 ],
 "metadata": {
  "kernelspec": {
   "display_name": "Python 3",
   "language": "python",
   "name": "python3"
  },
  "language_info": {
   "codemirror_mode": {
    "name": "ipython",
    "version": 3
   },
   "file_extension": ".py",
   "mimetype": "text/x-python",
   "name": "python",
   "nbconvert_exporter": "python",
   "pygments_lexer": "ipython3",
   "version": "3.6.8"
  }
 },
 "nbformat": 4,
 "nbformat_minor": 2
}
