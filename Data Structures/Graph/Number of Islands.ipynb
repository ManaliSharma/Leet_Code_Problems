{
 "cells": [
  {
   "cell_type": "code",
   "execution_count": null,
   "metadata": {},
   "outputs": [],
   "source": [
    "# 200. Number of Islands\n",
    "# Medium\n",
    "\n",
    "\n",
    "# Share\n",
    "# Given a 2d grid map of '1's (land) and '0's (water), count the number of islands. An island is surrounded by water and is formed by connecting adjacent lands horizontally or vertically. You may assume all four edges of the grid are all surrounded by water.\n",
    "\n",
    " \n",
    "\n",
    "# Example 1:\n",
    "\n",
    "# Input: grid = [\n",
    "#   [\"1\",\"1\",\"1\",\"1\",\"0\"],\n",
    "#   [\"1\",\"1\",\"0\",\"1\",\"0\"],\n",
    "#   [\"1\",\"1\",\"0\",\"0\",\"0\"],\n",
    "#   [\"0\",\"0\",\"0\",\"0\",\"0\"]\n",
    "# ]\n",
    "# Output: 1\n",
    "# Example 2:\n",
    "\n",
    "# Input: grid = [\n",
    "#   [\"1\",\"1\",\"0\",\"0\",\"0\"],\n",
    "#   [\"1\",\"1\",\"0\",\"0\",\"0\"],\n",
    "#   [\"0\",\"0\",\"1\",\"0\",\"0\"],\n",
    "#   [\"0\",\"0\",\"0\",\"1\",\"1\"]\n",
    "# ]\n",
    "# Output: 3"
   ]
  },
  {
   "cell_type": "code",
   "execution_count": 38,
   "metadata": {},
   "outputs": [],
   "source": [
    "#Linear scan the 2d grid map, if a node contains a '1', then \n",
    "#it is a root node that triggers a Breadth First Search. Put it into a queue and set its value as '0' to \n",
    "#mark as visited node. Iteratively search the neighbors of enqueued nodes until the queue becomes empty.\n",
    "\n"
   ]
  },
  {
   "cell_type": "code",
   "execution_count": 36,
   "metadata": {},
   "outputs": [],
   "source": [
    "\n",
    "def number_of_islands(grid):\n",
    "    num_rows = len(grid)\n",
    "    if num_rows <= 0:\n",
    "        return 0\n",
    "    num_cols = len(grid[0])\n",
    "    num_islands = 0\n",
    "    for row in range(0, num_rows):\n",
    "        for col in range(0, num_cols):\n",
    "            if grid[row][col] == '1':\n",
    "                num_islands += 1\n",
    "                grid[row][col] = '0'\n",
    "                queue = []\n",
    "                queue.append([row, col])\n",
    "                while len(queue) > 0:\n",
    "                    row_and_col = queue.pop(0)\n",
    "                    r = row_and_col[0]\n",
    "                    c = row_and_col[1]\n",
    "                    if r - 1 >= 0 and grid[r - 1][c] == '1': # down\n",
    "                        queue.append([r - 1, c])\n",
    "                        grid[r - 1][c] = '0'\n",
    "                    if r + 1 < num_rows and grid[r + 1][c] == '1': # up\n",
    "                        queue.append([r + 1, c])\n",
    "                        grid[r + 1][c] = '0'\n",
    "                    if c - 1 >= 0 and grid[r][c - 1] == '1': # left\n",
    "                        queue.append([r, c - 1])\n",
    "                        grid[r][c - 1] = '0'\n",
    "                    if c + 1 < num_cols and grid[r][c + 1] == '1': # right\n",
    "                        queue.append([r, c + 1])\n",
    "                        grid[r][c + 1] = '0'\n",
    "    return num_islands  "
   ]
  },
  {
   "cell_type": "code",
   "execution_count": 37,
   "metadata": {},
   "outputs": [
    {
     "data": {
      "text/plain": [
       "1"
      ]
     },
     "execution_count": 37,
     "metadata": {},
     "output_type": "execute_result"
    }
   ],
   "source": [
    "grid = [\n",
    "  [\"1\",\"1\",\"1\",\"1\",\"0\"],\n",
    "  [\"1\",\"1\",\"0\",\"1\",\"0\"],\n",
    "  [\"1\",\"1\",\"0\",\"0\",\"0\"],\n",
    "  [\"0\",\"0\",\"0\",\"0\",\"0\"]\n",
    "]\n",
    "number_of_islands(grid)"
   ]
  },
  {
   "cell_type": "code",
   "execution_count": null,
   "metadata": {},
   "outputs": [],
   "source": []
  }
 ],
 "metadata": {
  "kernelspec": {
   "display_name": "Python 3",
   "language": "python",
   "name": "python3"
  },
  "language_info": {
   "codemirror_mode": {
    "name": "ipython",
    "version": 3
   },
   "file_extension": ".py",
   "mimetype": "text/x-python",
   "name": "python",
   "nbconvert_exporter": "python",
   "pygments_lexer": "ipython3",
   "version": "3.6.8"
  }
 },
 "nbformat": 4,
 "nbformat_minor": 2
}
