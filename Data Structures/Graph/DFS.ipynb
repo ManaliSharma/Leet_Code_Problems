{
 "cells": [
  {
   "cell_type": "code",
   "execution_count": null,
   "metadata": {},
   "outputs": [],
   "source": [
    "# Approach: Depth-first search is an algorithm for traversing or searching tree or graph data structures. The algorithm starts at the root node (selecting some arbitrary node as the root node in the case of a graph) and explores as far as possible along each branch before backtracking. So the basic idea is to start from the root or any arbitrary node and mark the node and move to the adjacent unmarked node and continue this loop until there is no unmarked adjacent node. Then backtrack and check for other unmarked nodes and traverse them. Finally print the nodes in the path.\n",
    "# Algorithm:\n",
    "# Create a recursive function that takes the index of node and a visited array.\n",
    "# Mark the current node as visited and print the node.\n",
    "# Traverse all the adjacent and unmarked nodes and call the recursive function with index of adjacent node."
   ]
  },
  {
   "cell_type": "code",
   "execution_count": 2,
   "metadata": {},
   "outputs": [],
   "source": [
    "from collections import defaultdict \n",
    "class graph:\n",
    "    \n",
    "    def __init__(self):\n",
    "        self.adj_list=defaultdict(list)\n",
    "        \n",
    "    def addEdge(self,u,v):\n",
    "        self.adj_list[u].append(v)\n",
    "    \n",
    "    # A function used by DFS \n",
    "    def DFSUtil(self,v,visited):\n",
    "        \n",
    "        # Mark the current node as visited  \n",
    "        # and print it \n",
    "        visited.append(v)\n",
    "        print(v)\n",
    "        # Recur for all the vertices  \n",
    "        # adjacent to this vertex \n",
    "        for i in self.adj_list[v]:\n",
    "            if i not in visited:\n",
    "                self.DFSUtil(i,visited)\n",
    "     # The function to do DFS traversal. It uses \n",
    "    # recursive DFSUtil()         \n",
    "    def DFS(self,v):\n",
    "        # Mark all the vertices as not visited \n",
    "        visited=[]\n",
    "        # Call the recursive helper function  \n",
    "        # to print DFS traversal \n",
    "        self.DFSUtil(v,visited)\n",
    "        "
   ]
  },
  {
   "cell_type": "code",
   "execution_count": 3,
   "metadata": {},
   "outputs": [],
   "source": [
    "g = graph() \n",
    "g.addEdge(0, 1) \n",
    "g.addEdge(0, 2) \n",
    "g.addEdge(1, 2) \n",
    "g.addEdge(2, 0) \n",
    "g.addEdge(2, 3) \n",
    "g.addEdge(3, 3) "
   ]
  },
  {
   "cell_type": "code",
   "execution_count": 4,
   "metadata": {},
   "outputs": [
    {
     "name": "stdout",
     "output_type": "stream",
     "text": [
      "Following is DFS from (starting from vertex 2)\n",
      "2\n",
      "0\n",
      "1\n",
      "3\n"
     ]
    }
   ],
   "source": [
    "print(\"Following is DFS from (starting from vertex 2)\") \n",
    "g.DFS(2) "
   ]
  },
  {
   "cell_type": "code",
   "execution_count": null,
   "metadata": {},
   "outputs": [],
   "source": [
    "# Handling Disconnected Graph\n",
    "\n",
    "# Solution: This will happen by handling a corner case.\n",
    "# The above code traverses only the vertices reachable from a given source vertex. All the vertices may not be reachable from a given vertex as in the case of a Disconnected graph. To do complete DFS traversal of such graphs, run DFS from all unvisited nodes after a DFS.\n",
    "# The recursive function remains the same.\n",
    "# Algorithm:\n",
    "# Create a recursive function that takes the index of node and a visited array.\n",
    "# Mark the current node as visited and print the node.\n",
    "# Traverse all the adjacent and unmarked nodes and call the recursive function with index of adjacent node.\n",
    "# Run a loop from 0 to number of vertices and check if the node is unvisited in previous DFS then call the recursive function with current node.\n",
    "# Implementation:"
   ]
  },
  {
   "cell_type": "code",
   "execution_count": 14,
   "metadata": {},
   "outputs": [],
   "source": [
    "class graph:\n",
    "    \n",
    "    def __init__(self):\n",
    "        self.adj_list=defaultdict(list)\n",
    "        \n",
    "    def addEdge(self,v,u):\n",
    "        self.adj_list[v].append(u)\n",
    "      \n",
    "    # A function used by DFS \n",
    "    def DFSUtil(self,v,visited):\n",
    "        \n",
    "        # Mark the current node as visited and print it \n",
    "        visited.append(v)\n",
    "        print(v)\n",
    "         # Recur for all the vertices adjacent to \n",
    "        # this vertex \n",
    "        for i in self.adj_list[v]:\n",
    "            if i not in visited:\n",
    "                self.DFSUtil(i,visited)\n",
    "                \n",
    "      # The function to do DFS traversal. It uses \n",
    "    # recursive DFSUtil()           \n",
    "    def DFS(self):\n",
    "        v=len(self.adj_list)\n",
    "        visited=[]\n",
    "        # Call the recursive helper function to print \n",
    "        # DFS traversal starting from all vertices one \n",
    "        # by one \n",
    "        for i in range(v):\n",
    "            if i not in visited:\n",
    "                self.DFSUtil(i, visited) "
   ]
  },
  {
   "cell_type": "code",
   "execution_count": 15,
   "metadata": {},
   "outputs": [
    {
     "name": "stdout",
     "output_type": "stream",
     "text": [
      "Following is Depth First Traversal\n",
      "0\n",
      "1\n",
      "2\n",
      "3\n"
     ]
    }
   ],
   "source": [
    "g = graph() \n",
    "g.addEdge(0, 1) \n",
    "g.addEdge(0, 2) \n",
    "g.addEdge(1, 2) \n",
    "g.addEdge(2, 0) \n",
    "g.addEdge(2, 3) \n",
    "g.addEdge(3, 3) \n",
    "  \n",
    "print (\"Following is Depth First Traversal\")\n",
    "g.DFS() \n",
    "  "
   ]
  },
  {
   "cell_type": "code",
   "execution_count": null,
   "metadata": {},
   "outputs": [],
   "source": []
  }
 ],
 "metadata": {
  "kernelspec": {
   "display_name": "Python 3",
   "language": "python",
   "name": "python3"
  },
  "language_info": {
   "codemirror_mode": {
    "name": "ipython",
    "version": 3
   },
   "file_extension": ".py",
   "mimetype": "text/x-python",
   "name": "python",
   "nbconvert_exporter": "python",
   "pygments_lexer": "ipython3",
   "version": "3.6.8"
  }
 },
 "nbformat": 4,
 "nbformat_minor": 2
}
