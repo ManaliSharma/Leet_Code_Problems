{
 "cells": [
  {
   "cell_type": "code",
   "execution_count": null,
   "metadata": {},
   "outputs": [],
   "source": [
    "# 145. Binary Tree Postorder Traversal\n",
    "# Hard\n",
    "\n",
    "# 1891\n",
    "ll\n",
    "# 95\n",
    "\n",
    "# Add to List\n",
    "\n",
    "# Share\n",
    "# Given a binary tree, return the postorder traversal of its nodes' values.\n",
    "\n",
    "# Example:\n",
    "\n",
    "# Input: [1,null,2,3]\n",
    "#    1\n",
    "#     \\\n",
    "#      2\n",
    "#     /\n",
    "#    3\n",
    "\n",
    "# Output: [3,2,1]\n",
    "# Follow up: Recursive solution is trivial, could you do it iteratively?"
   ]
  },
  {
   "cell_type": "code",
   "execution_count": null,
   "metadata": {},
   "outputs": [],
   "source": [
    "# Algorithm Postorder(tree)\n",
    "#    1. Traverse the left subtree, i.e., call Postorder(left-subtree)\n",
    "#    2. Traverse the right subtree, i.e., call Postorder(right-subtree)\n",
    "#    3. Visit the root.\n",
    "# Uses of Postorder\n",
    "# Postorder traversal is used to delete the tree. Please see the question for deletion of tree for details. "
   ]
  },
  {
   "cell_type": "code",
   "execution_count": 2,
   "metadata": {},
   "outputs": [],
   "source": [
    "class Treenode:\n",
    "    \n",
    "    def __init__(self,val):\n",
    "        self.val=val\n",
    "        self.right=None\n",
    "        self.left=None\n",
    "\n",
    "    #recursive\n",
    "    def postorder(self,root):\n",
    "        \n",
    "        res=[]\n",
    "        if root is None:\n",
    "            return res\n",
    "        \n",
    "        res+=self.postorder(root.left)\n",
    "        res+=self.postorder(root.right)\n",
    "        res.append(root.val)\n",
    "        \n",
    "        return res\n",
    "    \n",
    "    #iterative\n",
    "    \n",
    "    def postorder(self,root):\n",
    "        res=[]\n",
    "        \n",
    "        if root is None:\n",
    "            return res\n",
    "        \n",
    "        stack=[root]\n",
    "        \n",
    "        while stack:\n",
    "            node=stack.pop()\n",
    "            res.append(node.val)\n",
    "            if node.left:\n",
    "                stack.append(node.left)\n",
    "                \n",
    "            if node.right:\n",
    "                stack.append(node.right)\n",
    "                \n",
    "        return res[::-1]"
   ]
  },
  {
   "cell_type": "code",
   "execution_count": null,
   "metadata": {},
   "outputs": [],
   "source": []
  }
 ],
 "metadata": {
  "kernelspec": {
   "display_name": "Python 3",
   "language": "python",
   "name": "python3"
  },
  "language_info": {
   "codemirror_mode": {
    "name": "ipython",
    "version": 3
   },
   "file_extension": ".py",
   "mimetype": "text/x-python",
   "name": "python",
   "nbconvert_exporter": "python",
   "pygments_lexer": "ipython3",
   "version": "3.6.8"
  }
 },
 "nbformat": 4,
 "nbformat_minor": 2
}
