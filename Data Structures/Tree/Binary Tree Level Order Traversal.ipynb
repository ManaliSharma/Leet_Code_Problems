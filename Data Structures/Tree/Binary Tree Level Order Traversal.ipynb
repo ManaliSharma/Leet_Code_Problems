{
 "cells": [
  {
   "cell_type": "code",
   "execution_count": 1,
   "metadata": {},
   "outputs": [],
   "source": [
    "# Given a binary tree, return the level order traversal of its nodes' values. (ie, from left to right, level by level).\n",
    "\n",
    "# For example:\n",
    "# Given binary tree [3,9,20,null,null,15,7],\n",
    "#     3\n",
    "#    / \\\n",
    "#   9  20\n",
    "#     /  \\\n",
    "#    15   7\n",
    "# return its level order traversal as:\n",
    "# [\n",
    "#   [3],\n",
    "#   [9,20],\n",
    "#   [15,7]\n",
    "# ]"
   ]
  },
  {
   "cell_type": "code",
   "execution_count": 17,
   "metadata": {},
   "outputs": [],
   "source": [
    "class Btreenode:\n",
    "    \n",
    "    def __init__(self,val):\n",
    "        self.data=val\n",
    "        self.left=None\n",
    "        self.right=None\n",
    "        \n",
    "    def insert(self,data):\n",
    "        if self.data is None:\n",
    "            return \n",
    "        else:\n",
    "            if data<self.data:\n",
    "                if self.left is None:\n",
    "                    self.left=Btreenode(data)\n",
    "                else:\n",
    "                    self.left.insert(data)\n",
    "\n",
    "            elif data > self.data:\n",
    "                if self.right is None:\n",
    "                    self.right=Btreenode(data)\n",
    "                else:\n",
    "                    self.right.insert(data)\n",
    "            else:\n",
    "                self.data=data\n",
    "        \n",
    "    def PrintTree(self):\n",
    "        if self.left:\n",
    "            self.left.PrintTree()\n",
    "        print( self.data),\n",
    "        if self.right:\n",
    "            self.right.PrintTree()\n",
    "        \n",
    "        \n"
   ]
  },
  {
   "cell_type": "code",
   "execution_count": 18,
   "metadata": {},
   "outputs": [
    {
     "name": "stdout",
     "output_type": "stream",
     "text": [
      "3\n",
      "7\n",
      "9\n",
      "15\n",
      "20\n"
     ]
    }
   ],
   "source": [
    "root = Btreenode(3)\n",
    "root.insert(9)\n",
    "root.insert(20)\n",
    "root.insert(15)\n",
    "root.insert(7)\n",
    "root.PrintTree()"
   ]
  },
  {
   "cell_type": "code",
   "execution_count": 21,
   "metadata": {},
   "outputs": [],
   "source": [
    "def levelordertraversal(root):\n",
    "    visited=[]\n",
    "    if root is None:\n",
    "        return visited\n",
    "    queue=[root]\n",
    "    \n",
    "    while len(queue):\n",
    "        \n",
    "        levels=[]\n",
    "        for nodes in range(len(queue)):\n",
    "            x=queue.pop(0)\n",
    "            levels.append(x)\n",
    "            \n",
    "            if x.left is not None:\n",
    "                queue.append(x.left)\n",
    "            if x.right is not None:\n",
    "                queue.append(x.right)\n",
    "                \n",
    "        visited.append(levels)\n",
    "        \n",
    "    return visited"
   ]
  },
  {
   "cell_type": "code",
   "execution_count": null,
   "metadata": {},
   "outputs": [],
   "source": [
    "visited=[]\n",
    "        if root is None: \n",
    "            return visited\n",
    "        queue=[root]\n",
    "        \n",
    "        while len(queue)>0:\n",
    "            level=[]\n",
    "            \n",
    "            for i in range(len(queue)):\n",
    "                x=queue.pop(0)\n",
    "                level.append(x.val)\n",
    "                if x.left is not None:\n",
    "                    queue.append(x.left)\n",
    "                if x.right is not None:\n",
    "                    queue.append(x.right)\n",
    "            visited.append(level)\n",
    "        return visited\n",
    "        "
   ]
  },
  {
   "cell_type": "code",
   "execution_count": 1,
   "metadata": {},
   "outputs": [
    {
     "data": {
      "text/plain": [
       "3"
      ]
     },
     "execution_count": 1,
     "metadata": {},
     "output_type": "execute_result"
    }
   ],
   "source": [
    "3%5\n"
   ]
  },
  {
   "cell_type": "code",
   "execution_count": null,
   "metadata": {},
   "outputs": [],
   "source": []
  }
 ],
 "metadata": {
  "kernelspec": {
   "display_name": "Python 3",
   "language": "python",
   "name": "python3"
  },
  "language_info": {
   "codemirror_mode": {
    "name": "ipython",
    "version": 3
   },
   "file_extension": ".py",
   "mimetype": "text/x-python",
   "name": "python",
   "nbconvert_exporter": "python",
   "pygments_lexer": "ipython3",
   "version": "3.6.8"
  }
 },
 "nbformat": 4,
 "nbformat_minor": 2
}
