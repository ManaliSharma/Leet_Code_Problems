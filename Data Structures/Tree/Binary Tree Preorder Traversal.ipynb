{
 "cells": [
  {
   "cell_type": "code",
   "execution_count": null,
   "metadata": {},
   "outputs": [],
   "source": [
    "# 144. Binary Tree Preorder Traversal\n",
    "# Medium\n",
    "\n",
    "# 1625\n",
    "\n",
    "# 61\n",
    "\n",
    "# Add to List\n",
    "\n",
    "# Share\n",
    "# Given a binary tree, return the preorder traversal of its nodes' values.\n",
    "\n",
    "# Example:\n",
    "\n",
    "# Input: [1,null,2,3]\n",
    "#    1\n",
    "#     \\\n",
    "#      2\n",
    "#     /\n",
    "#    3\n",
    "\n",
    "# Output: [1,2,3]\n",
    "# Follow up: Recursive solution is trivial, could you do it iteratively?"
   ]
  },
  {
   "cell_type": "code",
   "execution_count": null,
   "metadata": {},
   "outputs": [],
   "source": [
    "# Preorder Traversal (Practice):\n",
    "\n",
    "# Algorithm Preorder(tree)\n",
    "#    1. Visit the root.\n",
    "#    2. Traverse the left subtree, i.e., call Preorder(left-subtree)\n",
    "#    3. Traverse the right subtree, i.e., call Preorder(right-subtree) \n",
    "# Uses of Preorder\n",
    "# Preorder traversal is used to create a copy of the tree. Preorder traversal is also used to get prefix expression on of an expression tree. "
   ]
  },
  {
   "cell_type": "code",
   "execution_count": 1,
   "metadata": {},
   "outputs": [],
   "source": [
    "class Treenode:\n",
    "    \n",
    "    def __init__(self,val):\n",
    "        self.val=val\n",
    "        self.right=None\n",
    "        self.left=None\n",
    " \n",
    "\n",
    "#recursive\n",
    "\n",
    "    def preorder(self,root):\n",
    "        visited=[]\n",
    "        if root is None:\n",
    "            return visited\n",
    "\n",
    "        visited.append(root.val)\n",
    "        visited+=self.preorder(root.left)\n",
    "        visited+=self.preorder(root.right)\n",
    "\n",
    "#iterative\n",
    "\n",
    "    def preorder_LC(self,root):\n",
    "        visited=[]\n",
    "        if root is None:\n",
    "            return visited\n",
    "        \n",
    "        stack=[root]\n",
    "        while stack:\n",
    "            node=stack.pop()\n",
    "            visited.append(node)\n",
    "            \n",
    "            if node.right:\n",
    "                stack.append(node.right)\n",
    "            if node.left:\n",
    "                stack.append(node.left)\n",
    "                \n",
    "        return visited"
   ]
  },
  {
   "cell_type": "code",
   "execution_count": null,
   "metadata": {},
   "outputs": [],
   "source": []
  }
 ],
 "metadata": {
  "kernelspec": {
   "display_name": "Python 3",
   "language": "python",
   "name": "python3"
  },
  "language_info": {
   "codemirror_mode": {
    "name": "ipython",
    "version": 3
   },
   "file_extension": ".py",
   "mimetype": "text/x-python",
   "name": "python",
   "nbconvert_exporter": "python",
   "pygments_lexer": "ipython3",
   "version": "3.6.8"
  }
 },
 "nbformat": 4,
 "nbformat_minor": 2
}
