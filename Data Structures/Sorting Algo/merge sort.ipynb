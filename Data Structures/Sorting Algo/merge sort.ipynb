{
 "cells": [
  {
   "cell_type": "code",
   "execution_count": 69,
   "metadata": {},
   "outputs": [],
   "source": [
    "# Like QuickSort, Merge Sort is a Divide and Conquer algorithm. It divides input array in two halves, calls itself for the two halves and then merges the two sorted halves. The merge() function is used for merging two halves. The merge(arr, l, m, r) is key process that assumes that arr[l..m] and arr[m+1..r] are sorted and merges the two sorted sub-arrays into one. See following C implementation for details.\n",
    "\n",
    "# MergeSort(arr[], l,  r)\n",
    "# If r > l\n",
    "#      1. Find the middle point to divide the array into two halves:  \n",
    "#              middle m = (l+r)/2\n",
    "#      2. Call mergeSort for first half:   \n",
    "#              Call mergeSort(arr, l, m)\n",
    "#      3. Call mergeSort for second half:\n",
    "#              Call mergeSort(arr, m+1, r)\n",
    "#      4. Merge the two halves sorted in step 2 and 3:\n",
    "#              Call merge(arr, l, m, r)"
   ]
  },
  {
   "cell_type": "code",
   "execution_count": 72,
   "metadata": {},
   "outputs": [],
   "source": [
    "def merge_sort(values): \n",
    "  \n",
    "    if len(values)>1:\n",
    "        \n",
    "        m=len(values)//2  ## Finding the mid of the array \n",
    "        # Dividing the array elements  into two halves\n",
    "        left=values[:m]\n",
    "        right=values[m:]\n",
    "        left=merge_sort(left)# Sorting the first half \n",
    "        right=merge_sort(right)# Sorting the second half \n",
    "        values=[]\n",
    "        \n",
    "        #copying data in temp array\n",
    "        while len(left)>0 and len(right)>0:\n",
    "            if left[0]<right[0]:\n",
    "                values.append(left[0])\n",
    "                left.pop(0)\n",
    "            else:\n",
    "                values.append(right[0])\n",
    "                right.pop(0)\n",
    "        #when len of any left or right reaches to zero in previous loop so this is how we append the left over values     \n",
    "        for i in left:\n",
    "            values.append(i)\n",
    "        for j in right:\n",
    "            values.append(j)\n",
    "            \n",
    "    return values"
   ]
  },
  {
   "cell_type": "code",
   "execution_count": 71,
   "metadata": {},
   "outputs": [
    {
     "name": "stdout",
     "output_type": "stream",
     "text": [
      "Sorted array is : \n",
      "11 12 13\n"
     ]
    }
   ],
   "source": [
    "a = [12, 11, 13]\n",
    "\n",
    "a = merge_sort(a) \n",
    "  \n",
    "# Print output \n",
    "print(\"Sorted array is : \") \n",
    "print(*a) "
   ]
  },
  {
   "cell_type": "code",
   "execution_count": null,
   "metadata": {},
   "outputs": [],
   "source": []
  }
 ],
 "metadata": {
  "kernelspec": {
   "display_name": "Python 3",
   "language": "python",
   "name": "python3"
  },
  "language_info": {
   "codemirror_mode": {
    "name": "ipython",
    "version": 3
   },
   "file_extension": ".py",
   "mimetype": "text/x-python",
   "name": "python",
   "nbconvert_exporter": "python",
   "pygments_lexer": "ipython3",
   "version": "3.6.8"
  }
 },
 "nbformat": 4,
 "nbformat_minor": 2
}
