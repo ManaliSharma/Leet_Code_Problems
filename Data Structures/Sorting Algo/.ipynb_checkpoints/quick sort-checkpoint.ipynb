{
 "cells": [
  {
   "cell_type": "code",
   "execution_count": null,
   "metadata": {},
   "outputs": [],
   "source": [
    "# # Quick Sort\n",
    "# # Like Merge Sort, QuickSort is a Divide and Conquer algorithm. \n",
    "# # It picks an element as pivot and partitions the given array around the picked pivot. \n",
    "# # There are many different versions of quickSort that pick pivot in different ways.\n",
    "\n",
    "# # Always pick first element as pivot.\n",
    "# # Always pick last element as pivot (implemented below)\n",
    "# # Pick a random element as pivot.\n",
    "# # Pick median as pivot.\n",
    "# # The key process in quickSort is partition(). Target of partitions is, \n",
    "# given an array and an element x of array as pivot, put x at its correct position in sorted array and \n",
    "# put all smaller elements (smaller than x) before x, a and put all greater elements (greater than x) after x. \n",
    "# All this should be done in linear time.\n",
    "\n",
    "\n",
    "# Partition Algorithm\n",
    "# There can be many ways to do partition, following pseudo code adopts the method given in CLRS book.\n",
    "# The logic is simple, we start from the leftmost element and keep track of index of smaller (or equal to) elements as i. While traversing, \n",
    "# if we find a smaller element, we swap current element with arr[i]. Otherwise we ignore current element."
   ]
  },
  {
   "cell_type": "code",
   "execution_count": 29,
   "metadata": {},
   "outputs": [],
   "source": [
    "def partition (arr,low,high):\n",
    "    \n",
    "    #i set like this to fetch first element in given array , we ll see in further code we have incremented i which then becomes 0\n",
    "    i=low-1   #track smaller index also    #initialize i with -1\n",
    "    pivot=arr[high] #highest index element is usually made as pivot\n",
    "    \n",
    "    for j in range(low,high):\n",
    "        # If current element is smaller than the pivot \n",
    "        if arr[j]<pivot:\n",
    "            # increment index of smaller element \n",
    "            i+=1\n",
    "            #swap element\n",
    "            arr[i],arr[j]=arr[j],arr[i]\n",
    "         \n",
    "    arr[i+1],arr[high]=arr[high],arr[i+1]\n",
    "        \n",
    "    return (i+1)\n",
    "\n",
    "def quicksort(arr,low,high):\n",
    "    if low < high: \n",
    "        pi=partition(arr,low,high)\n",
    "\n",
    "        quicksort(arr,low,pi-1) #left element of pivot sort\n",
    "        quicksort(arr,pi+1,high) #right element of pivot sort\n",
    "\n",
    "    return arr"
   ]
  },
  {
   "cell_type": "code",
   "execution_count": 30,
   "metadata": {},
   "outputs": [],
   "source": [
    "arr=[10, 30, 40, 90, 80, 50, 70,]"
   ]
  },
  {
   "cell_type": "code",
   "execution_count": 31,
   "metadata": {},
   "outputs": [
    {
     "data": {
      "text/plain": [
       "4"
      ]
     },
     "execution_count": 31,
     "metadata": {},
     "output_type": "execute_result"
    }
   ],
   "source": [
    "partition(arr,0,len(arr)-1) #len(arr)-1 son that index out of bound error won't come"
   ]
  },
  {
   "cell_type": "code",
   "execution_count": 32,
   "metadata": {},
   "outputs": [
    {
     "data": {
      "text/plain": [
       "[10, 30, 40, 50, 70, 80, 90]"
      ]
     },
     "execution_count": 32,
     "metadata": {},
     "output_type": "execute_result"
    }
   ],
   "source": [
    "quicksort(arr,0,len(arr)-1)"
   ]
  },
  {
   "cell_type": "code",
   "execution_count": null,
   "metadata": {},
   "outputs": [],
   "source": []
  }
 ],
 "metadata": {
  "kernelspec": {
   "display_name": "Python 3",
   "language": "python",
   "name": "python3"
  },
  "language_info": {
   "codemirror_mode": {
    "name": "ipython",
    "version": 3
   },
   "file_extension": ".py",
   "mimetype": "text/x-python",
   "name": "python",
   "nbconvert_exporter": "python",
   "pygments_lexer": "ipython3",
   "version": "3.6.8"
  }
 },
 "nbformat": 4,
 "nbformat_minor": 2
}
