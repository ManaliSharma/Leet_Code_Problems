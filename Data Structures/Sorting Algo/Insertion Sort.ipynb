{
 "cells": [
  {
   "cell_type": "code",
   "execution_count": null,
   "metadata": {},
   "outputs": [],
   "source": [
    "# Step 1 − If it is the first element, it is already sorted. return 1;\n",
    "# Step 2 − Pick next element\n",
    "# Step 3 − Compare with all elements in the sorted sub-list\n",
    "# Step 4 − Shift all the elements in the sorted sub-list that is greater than the \n",
    "#          value to be sorted\n",
    "# Step 5 − Insert the value\n",
    "# Step 6 − Repeat until list is sorted"
   ]
  },
  {
   "cell_type": "markdown",
   "metadata": {},
   "source": [
    "This is an in-place comparison-based sorting algorithm. Here, a sub-list is maintained which is always sorted. For example, the lower part of an array is maintained to be sorted. An element which is to be 'insert'ed in this sorted sub-list, has to find its appropriate place and then it has to be inserted there. Hence the name, insertion sort.\n",
    "\n",
    "The array is searched sequentially and unsorted items are moved and inserted into the sorted sub-list (in the same array). This algorithm is not suitable for large data sets as its average and worst case complexity are of Ο(n2), where n is the number of items."
   ]
  },
  {
   "cell_type": "code",
   "execution_count": 5,
   "metadata": {},
   "outputs": [],
   "source": [
    "def insertionsort(arr):\n",
    "    \n",
    "    for i in range(1,len(arr)):\n",
    "        \n",
    "        key=arr[i]\n",
    "        \n",
    "        j=i-1\n",
    "        \n",
    "        while j>=0 and key<arr[j]:\n",
    "            \n",
    "            arr[j+1]=arr[j]\n",
    "            j-=1\n",
    "     \n",
    "        arr[j+1]=key\n",
    "        \n",
    "    return arr"
   ]
  },
  {
   "cell_type": "code",
   "execution_count": 6,
   "metadata": {},
   "outputs": [
    {
     "data": {
      "text/plain": [
       "[5, 6, 11, 12, 13]"
      ]
     },
     "execution_count": 6,
     "metadata": {},
     "output_type": "execute_result"
    }
   ],
   "source": [
    "arr = [12, 11, 13, 5, 6] \n",
    "insertionsort(arr) "
   ]
  },
  {
   "cell_type": "code",
   "execution_count": null,
   "metadata": {},
   "outputs": [],
   "source": []
  }
 ],
 "metadata": {
  "kernelspec": {
   "display_name": "Python 3",
   "language": "python",
   "name": "python3"
  },
  "language_info": {
   "codemirror_mode": {
    "name": "ipython",
    "version": 3
   },
   "file_extension": ".py",
   "mimetype": "text/x-python",
   "name": "python",
   "nbconvert_exporter": "python",
   "pygments_lexer": "ipython3",
   "version": "3.6.8"
  }
 },
 "nbformat": 4,
 "nbformat_minor": 2
}
