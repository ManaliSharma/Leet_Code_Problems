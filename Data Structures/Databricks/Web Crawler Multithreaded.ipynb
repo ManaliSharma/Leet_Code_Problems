{
 "cells": [
  {
   "cell_type": "code",
   "execution_count": null,
   "metadata": {},
   "outputs": [],
   "source": [
    "# Given a url startUrl and an interface HtmlParser, implement a Multi-threaded web crawler to crawl all links that are under the same hostname as startUrl. \n",
    "\n",
    "# Return all urls obtained by your web crawler in any order.\n",
    "\n",
    "# Your crawler should:\n",
    "\n",
    "# Start from the page: startUrl\n",
    "# Call HtmlParser.getUrls(url) to get all urls from a webpage of given url.\n",
    "# Do not crawl the same link twice.\n",
    "# Explore only the links that are under the same hostname as startUrl.\n",
    "\n",
    "\n",
    "# As shown in the example url above, the hostname is example.org. For simplicity sake, you may assume all urls use http protocol without any port specified. For example, the urls http://leetcode.com/problems and http://leetcode.com/contest are under the same hostname, while urls http://example.org/test and http://example.com/abc are not under the same hostname.\n",
    "\n",
    "# The HtmlParser interface is defined as such: \n",
    "\n",
    "# interface HtmlParser {\n",
    "#   // Return a list of all urls from a webpage of given url.\n",
    "#   // This is a blocking call, that means it will do HTTP request and return when this request is finished.\n",
    "#   public List<String> getUrls(String url);\n",
    "# }\n",
    "# Note that getUrls(String url) simulates performing a HTTP request. You can treat it as a blocking function call which waits for a HTTP request to finish. It is guaranteed that getUrls(String url) will return the urls within 15ms.  Single-threaded solutions will exceed the time limit so, can your multi-threaded web crawler do better?\n",
    "\n",
    "# Below are two examples explaining the functionality of the problem, for custom testing purposes you'll have three variables urls, edges and startUrl. Notice that you will only have access to startUrl in your code, while urls and edges are not directly accessible to you in code.\n",
    "\n",
    " \n",
    "\n",
    "# Follow up:\n",
    "\n",
    "# Assume we have 10,000 nodes and 1 billion URLs to crawl. We will deploy the same software onto each node. The software can know about all the nodes. We have to minimize communication between machines and make sure each node does equal amount of work. How would your web crawler design change?\n",
    "# What if one node fails or does not work?\n",
    "# How do you know when the crawler is done?\n",
    " \n",
    "\n",
    "# Example 1:\n",
    "\n",
    "\n",
    "\n",
    "# Input:\n",
    "# urls = [\n",
    "#   \"http://news.yahoo.com\",\n",
    "#   \"http://news.yahoo.com/news\",\n",
    "#   \"http://news.yahoo.com/news/topics/\",\n",
    "#   \"http://news.google.com\",\n",
    "#   \"http://news.yahoo.com/us\"\n",
    "# ]\n",
    "# edges = [[2,0],[2,1],[3,2],[3,1],[0,4]]\n",
    "# startUrl = \"http://news.yahoo.com/news/topics/\"\n",
    "# Output: [\n",
    "#   \"http://news.yahoo.com\",\n",
    "#   \"http://news.yahoo.com/news\",\n",
    "#   \"http://news.yahoo.com/news/topics/\",\n",
    "#   \"http://news.yahoo.com/us\"\n",
    "# ]\n",
    "# Example 2:\n",
    "\n",
    "\n",
    "\n",
    "# Input: \n",
    "# urls = [\n",
    "#   \"http://news.yahoo.com\",\n",
    "#   \"http://news.yahoo.com/news\",\n",
    "#   \"http://news.yahoo.com/news/topics/\",\n",
    "#   \"http://news.google.com\"\n",
    "# ]\n",
    "# edges = [[0,2],[2,1],[3,2],[3,1],[3,0]]\n",
    "# startUrl = \"http://news.google.com\"\n",
    "# Output: [\"http://news.google.com\"]\n",
    "# Explanation: The startUrl links to all other pages that do not share the same hostname.\n",
    " \n",
    "\n",
    "# Constraints:\n",
    "\n",
    "# 1 <= urls.length <= 1000\n",
    "# 1 <= urls[i].length <= 300\n",
    "# startUrl is one of the urls.\n",
    "# Hostname label must be from 1 to 63 characters long, including the dots, may contain only the ASCII letters from 'a' to 'z', digits from '0' to '9' and the hyphen-minus character ('-').\n",
    "# The hostname may not start or end with the hyphen-minus character ('-'). \n",
    "# See:  https://en.wikipedia.org/wiki/Hostname#Restrictions_on_valid_hostnames\n",
    "# You may assume there're no duplicates in url library."
   ]
  },
  {
   "cell_type": "code",
   "execution_count": 22,
   "metadata": {},
   "outputs": [],
   "source": [
    "import threading\n",
    "from queue import Queue\n",
    "\n",
    "\n",
    "def crawl(startUrl: str, htmlParser: 'HtmlParser'):\n",
    "    def hostname(url):\n",
    "        return url.split(\"//\")[1]\n",
    "\n",
    "\n",
    "    seen = {startUrl}\n",
    "    start_hostname = hostname(startUrl)\n",
    "    print(start_hostname)\n",
    "    seen_lock = threading.Lock()\n",
    "        \n",
    "#         def worker():\n",
    "#             while True:\n",
    "#                 url = queue.get()\n",
    "#                 if url is None:\n",
    "#                     return\n",
    "\n",
    "#                 for next_url in htmlParser.getUrls(url):\n",
    "#                     if next_url not in seen and hostname(next_url) == start_hostname:\n",
    "#                         seen_lock.acquire()\n",
    "#                         # Acquire lock to ensure urls are no enqueed multiple times\n",
    "#                         if next_url not in seen:\n",
    "#                             seen.add(next_url)\n",
    "#                             queue.put(next_url)\n",
    "#                         seen_lock.release()\n",
    "#                 queue.task_done()\n",
    "        \n",
    "#         num_workers = 8\n",
    "#         workers = []\n",
    "#         queue.put(startUrl)\n",
    "        \n",
    "#         for i in range(num_workers):\n",
    "#             t = threading.Thread(target=worker)\n",
    "#             t.start()\n",
    "#             workers.append(t)\n",
    "        \n",
    "#         # Wait until empty\n",
    "#         queue.join()\n",
    "        \n",
    "#         for i in range(num_workers):\n",
    "#             queue.put(None)\n",
    "#         for t in workers:\n",
    "#             t.join()\n",
    "        \n",
    "#         return list(seen)\n"
   ]
  },
  {
   "cell_type": "code",
   "execution_count": 23,
   "metadata": {},
   "outputs": [
    {
     "name": "stdout",
     "output_type": "stream",
     "text": [
      "news.google.com\n"
     ]
    }
   ],
   "source": [
    "crawl(\"http://news.google.com\", 'HtmlParser')"
   ]
  },
  {
   "cell_type": "code",
   "execution_count": 19,
   "metadata": {},
   "outputs": [
    {
     "data": {
      "text/plain": [
       "'news.yahoo.com/news/topics/'"
      ]
     },
     "execution_count": 19,
     "metadata": {},
     "output_type": "execute_result"
    }
   ],
   "source": [
    "hostname(\"http://news.google.com\")\n",
    "hostname(\"http://news.yahoo.com/news/topics/\")"
   ]
  },
  {
   "cell_type": "code",
   "execution_count": 15,
   "metadata": {},
   "outputs": [
    {
     "data": {
      "text/plain": [
       "'news.yahoo.com/news/topics/'"
      ]
     },
     "execution_count": 15,
     "metadata": {},
     "output_type": "execute_result"
    }
   ],
   "source": [
    "url=\"http://news.yahoo.com/news/topics/\"\n",
    "url.split('//')[1]"
   ]
  },
  {
   "cell_type": "code",
   "execution_count": 16,
   "metadata": {},
   "outputs": [],
   "source": [
    "def worker():\n",
    "    while True:\n",
    "        url = queue.get()\n",
    "        if url is None:\n",
    "            return\n",
    "\n",
    "        for next_url in htmlParser.getUrls(url):\n",
    "            if next_url not in seen and hostname(next_url) == start_hostname:\n",
    "                seen_lock.acquire()\n",
    "                # Acquire lock to ensure urls are no enqueed multiple times\n",
    "                if next_url not in seen:\n",
    "                    seen.add(next_url)\n",
    "                    queue.put(next_url)\n",
    "                seen_lock.release()\n",
    "        queue.task_done()\n",
    "\n",
    "num_workers = 8\n",
    "workers = []\n",
    "queue.put(startUrl)\n"
   ]
  },
  {
   "cell_type": "code",
   "execution_count": null,
   "metadata": {},
   "outputs": [],
   "source": []
  }
 ],
 "metadata": {
  "kernelspec": {
   "display_name": "Python 3",
   "language": "python",
   "name": "python3"
  },
  "language_info": {
   "codemirror_mode": {
    "name": "ipython",
    "version": 3
   },
   "file_extension": ".py",
   "mimetype": "text/x-python",
   "name": "python",
   "nbconvert_exporter": "python",
   "pygments_lexer": "ipython3",
   "version": "3.6.8"
  }
 },
 "nbformat": 4,
 "nbformat_minor": 2
}
