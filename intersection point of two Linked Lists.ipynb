{
 "cells": [
  {
   "cell_type": "code",
   "execution_count": null,
   "metadata": {},
   "outputs": [],
   "source": [
    "# Write a function to get the intersection point of two Linked Lists\n",
    "# There are two singly linked lists in a system. By some programming error, the end node of one of the linked list got linked to the second list, forming an inverted Y shaped list. Write a program to get the point where two linked list merge.\n",
    "# Y ShapedLinked List\n",
    "# Above diagram shows an example with two linked list having 15 as intersection point."
   ]
  },
  {
   "cell_type": "code",
   "execution_count": 1,
   "metadata": {},
   "outputs": [],
   "source": [
    "class node:\n",
    "    def __init__(self,data):\n",
    "        self.data=data\n",
    "        self.next=None\n",
    "        \n",
    "class linkedlist:\n",
    "    def __init__(self):\n",
    "        self.head=None\n",
    "        \n",
    "    def push(self,data):\n",
    "        newnode=node(data)\n",
    "        newnode.next=self.head\n",
    "        self.head=newnode\n",
    "        \n",
    "    def printlist(self):\n",
    "        temp=self.head\n",
    "        if temp is None:\n",
    "            print (\"empty list\")\n",
    "        while temp is not None:\n",
    "            print(temp.data)\n",
    "            temp=temp.next\n",
    "            "
   ]
  },
  {
   "cell_type": "code",
   "execution_count": null,
   "metadata": {},
   "outputs": [],
   "source": [
    "def intersection(l1,l2):\n",
    "    map={}\n",
    "    tempA=l1\n",
    "    tempB=l2\n",
    "    while tempA:\n",
    "        map[]"
   ]
  },
  {
   "cell_type": "code",
   "execution_count": null,
   "metadata": {},
   "outputs": [],
   "source": [
    "class Solution:\n",
    "    def getIntersectionNode(self, headA: ListNode, headB: ListNode) -> ListNode:\n",
    "        tempA=headA\n",
    "        tempB=headB\n",
    "        if headA == None or headB == None:\n",
    "            return None\n",
    "        while tempA!=tempB:\n",
    "            if tempA!=None:\n",
    "                tempA=tempA.next\n",
    "            else:\n",
    "                tempA=headB\n",
    "            if tempB!=None:\n",
    "                tempB=tempB.next\n",
    "            else:\n",
    "                tempB=headA\n",
    "            \n",
    "               \n",
    "        return tempA\n",
    "         "
   ]
  }
 ],
 "metadata": {
  "kernelspec": {
   "display_name": "Python 3",
   "language": "python",
   "name": "python3"
  },
  "language_info": {
   "codemirror_mode": {
    "name": "ipython",
    "version": 3
   },
   "file_extension": ".py",
   "mimetype": "text/x-python",
   "name": "python",
   "nbconvert_exporter": "python",
   "pygments_lexer": "ipython3",
   "version": "3.6.8"
  }
 },
 "nbformat": 4,
 "nbformat_minor": 2
}
