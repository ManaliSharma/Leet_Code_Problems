{
 "cells": [
  {
   "cell_type": "code",
   "execution_count": 66,
   "metadata": {},
   "outputs": [],
   "source": [
    "# Given a string, find the length of the longest substring without repeating characters.\n",
    "\n",
    "# Example 1:\n",
    "\n",
    "# Input: \"abcabcbb\"\n",
    "# Output: 3 \n",
    "# Explanation: The answer is \"abc\", with the length of 3. \n",
    "# Example 2:\n",
    "\n",
    "# Input: \"bbbbb\"\n",
    "# Output: 1\n",
    "# Explanation: The answer is \"b\", with the length of 1.\n",
    "# Example 3:\n",
    "\n",
    "# Input: \"pwwkew\"\n",
    "# Output: 3\n",
    "# Explanation: The answer is \"wke\", with the length of 3. \n",
    "#              Note that the answer must be a substring, \"pwke\" is a subsequence and not a substring."
   ]
  },
  {
   "cell_type": "code",
   "execution_count": 69,
   "metadata": {},
   "outputs": [],
   "source": [
    "from collections import Counter\n",
    "def longestSubstring(s):\n",
    "    start=0\n",
    "    max_len=0\n",
    "    map={} #maintaining index and char in dic\n",
    "    for i,c in enumerate(s):\n",
    "        if c in map and start<=map[c]:\n",
    "            start=map[c]+1  #incrementing start if there is an occurrence of char\n",
    "        else:\n",
    "            max_len=max(max_len,i-start+1)  #+1 bcuz enumerate starts with 0\n",
    "        map[c]=i\n",
    "    return max_len"
   ]
  },
  {
   "cell_type": "code",
   "execution_count": 71,
   "metadata": {},
   "outputs": [
    {
     "data": {
      "text/plain": [
       "2"
      ]
     },
     "execution_count": 71,
     "metadata": {},
     "output_type": "execute_result"
    }
   ],
   "source": [
    "longestSubstring(\"au\")"
   ]
  },
  {
   "cell_type": "code",
   "execution_count": null,
   "metadata": {},
   "outputs": [],
   "source": []
  }
 ],
 "metadata": {
  "kernelspec": {
   "display_name": "Python 3",
   "language": "python",
   "name": "python3"
  },
  "language_info": {
   "codemirror_mode": {
    "name": "ipython",
    "version": 3
   },
   "file_extension": ".py",
   "mimetype": "text/x-python",
   "name": "python",
   "nbconvert_exporter": "python",
   "pygments_lexer": "ipython3",
   "version": "3.6.8"
  }
 },
 "nbformat": 4,
 "nbformat_minor": 2
}
