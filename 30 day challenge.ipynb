{
 "cells": [
  {
   "cell_type": "code",
   "execution_count": 2,
   "metadata": {},
   "outputs": [
    {
     "name": "stdout",
     "output_type": "stream",
     "text": [
      "89\n"
     ]
    },
    {
     "data": {
      "text/plain": [
       "89"
      ]
     },
     "execution_count": 2,
     "metadata": {},
     "output_type": "execute_result"
    }
   ],
   "source": [
    "# You are a product manager and currently leading a team to develop a new product. Unfortunately, the latest version of your product fails the quality check. Since each version is developed based on the previous version, all the versions after a bad version are also bad.\n",
    "\n",
    "# Suppose you have n versions [1, 2, ..., n] and you want to find out the first bad one, which causes all the following ones to be bad.\n",
    "\n",
    "# You are given an API bool isBadVersion(version) which will return whether version is bad. Implement a function to find the first bad version. You should minimize the number of calls to the API.\n",
    "\n",
    "# Example:\n",
    "\n",
    "# Given n = 5, and version = 4 is the first bad version.\n",
    "\n",
    "# call isBadVersion(3) -> false\n",
    "# call isBadVersion(5) -> true\n",
    "# call isBadVersion(4) -> true\n",
    "\n",
    "# Then 4 is the first bad version. \n",
    "\n",
    "ob1 = Solution()\n",
    "first_bad = 89\n",
    "op = ob1.firstBadVersion(100)\n",
    "print(op)\n",
    "89\n",
    "# The isBadVersion API is already defined for you.\n",
    "# @param version, an integer\n",
    "# @return an integer\n",
    "\n",
    "\n"
   ]
  },
  {
   "cell_type": "code",
   "execution_count": 1,
   "metadata": {},
   "outputs": [],
   "source": [
    "first_bad=0\n",
    "def isBadVersion(version):\n",
    "    if version >= first_bad:\n",
    "        \n",
    "        return True\n",
    "    \n",
    "    return False\n",
    "\n",
    "#very bad code\n",
    "class Solution:\n",
    "    def firstBadVersion(self, n):\n",
    "        l=0\n",
    "        r=n\n",
    "        m=l+(r-l)//2\n",
    "        if isBadVersion(m)== True:\n",
    "            r=m\n",
    "            for i in range(l,r):\n",
    "                if isBadVersion(i):\n",
    "                    return i\n",
    "                    \n",
    "        else:\n",
    "            l=m+1\n",
    "            for i in range(l,r):\n",
    "                if isBadVersion(i):\n",
    "                    return i\n",
    "    \n",
    "def firstBadVersion(self, n):\n",
    "      \n",
    "        l = 0\n",
    "        r= n\n",
    "        for i in range(l,r+1):\n",
    "            print(i)\n",
    "            m = (l+r)//2\n",
    "            \n",
    "            if isBadVersion(m-1) == False and isBadVersion(m)== True:\n",
    "                return m\n",
    "            else:\n",
    "                if isBadVersion(m) == False:\n",
    "                    l = m +1\n",
    "                else:\n",
    "                    r = m -1\n",
    "        return -1"
   ]
  },
  {
   "cell_type": "code",
   "execution_count": 3,
   "metadata": {},
   "outputs": [],
   "source": [
    "#The zip() function returns a zip object, which is an iterator of tuples where the first item in each passed iterator is paired together, and then the second item in each passed iterator are paired together etc.\n",
    "#If the passed iterators have different lengths, the iterator with the least items decides the length of the new iterator.\n",
    "\n",
    "#stones and jewels\n",
    "\n",
    "\n",
    "# You're given strings J representing the types of stones that are jewels, and S representing the stones you have.  Each character in S is a type of stone you have.  You want to know how many of the stones you have are also jewels.\n",
    "\n",
    "# The letters in J are guaranteed distinct, and all characters in J and S are letters. Letters are case sensitive, so \"a\" is considered a different type of stone from \"A\".\n",
    "\n",
    "# Example 1:\n",
    "\n",
    "# Input: J = \"aA\", S = \"aAAbbbb\"\n",
    "# Output: 3\n",
    "# Example 2:\n",
    "\n",
    "# Input: J = \"z\", S = \"ZZ\"\n",
    "# Output: 0\n",
    "# Note:\n",
    "\n",
    "# S and J will consist of letters and have length at most 50.\n",
    "# The characters in J are distinct.\n",
    "\n",
    "\n",
    "class Solution:\n",
    "    def numJewelsInStones(self, J: str, S: str) -> int:\n",
    "        count=0\n",
    "        for x in S:\n",
    "            for y in J:\n",
    "                if x==y:\n",
    "                    count=count+1\n",
    "        \n",
    "        return count"
   ]
  },
  {
   "cell_type": "code",
   "execution_count": 12,
   "metadata": {},
   "outputs": [],
   "source": [
    "# Given an arbitrary ransom note string and another string containing letters from all the magazines, write a function that will return true if the ransom note can be constructed from the magazines ; otherwise, it will return false.\n",
    "\n",
    "# Each letter in the magazine string can only be used once in your ransom note.\n",
    "\n",
    " \n",
    "\n",
    "# Example 1:\n",
    "\n",
    "# Input: ransomNote = \"a\", magazine = \"b\"\n",
    "# Output: false\n",
    "# Example 2:\n",
    "\n",
    "# Input: ransomNote = \"aa\", magazine = \"ab\"\n",
    "# Output: false\n",
    "# Example 3:\n",
    "\n",
    "# Input: ransomNote = \"aa\", magazine = \"aab\"\n",
    "# Output: true\n",
    " \n",
    "\n",
    "# Constraints:\n",
    "\n",
    "# You may assume that both strings contain only lowercase letters.\n",
    "\n"
   ]
  },
  {
   "cell_type": "code",
   "execution_count": 121,
   "metadata": {},
   "outputs": [],
   "source": [
    "\n",
    "def canConstruct(ransomNote: str, magazine: str) -> bool:\n",
    "    x=len(ransomNote)\n",
    "    y=len(magazine)\n",
    "    if x==0 and y==0:\n",
    "        return True\n",
    "\n",
    "    elif  x==0 and y!=0:\n",
    "        return True\n",
    "    elif  x!=0 and y==0:\n",
    "        return False\n",
    "    else:\n",
    "        if x <= y :\n",
    "\n",
    "\n",
    "            for i in range(x):\n",
    "                z=ransomNote.count(ransomNote[i])\n",
    "           \n",
    "                if ransomNote[i] in magazine and z <= magazine.count(ransomNote[i]):\n",
    "                    continue\n",
    "                else:\n",
    "                    return False\n",
    "\n",
    "            return True"
   ]
  },
  {
   "cell_type": "code",
   "execution_count": 122,
   "metadata": {},
   "outputs": [],
   "source": [
    "ransomNote=\"aab\"\n",
    "magazine=\"baa\"\n",
    "\n",
    "\n"
   ]
  },
  {
   "cell_type": "code",
   "execution_count": 123,
   "metadata": {},
   "outputs": [
    {
     "name": "stdout",
     "output_type": "stream",
     "text": [
      "a\n",
      "a\n",
      "b\n"
     ]
    },
    {
     "data": {
      "text/plain": [
       "True"
      ]
     },
     "execution_count": 123,
     "metadata": {},
     "output_type": "execute_result"
    }
   ],
   "source": [
    "canConstruct(ransomNote, magazine)"
   ]
  },
  {
   "cell_type": "code",
   "execution_count": 232,
   "metadata": {},
   "outputs": [],
   "source": [
    "# #complement of number\n",
    "# Given a positive integer num, output its complement number. The complement strategy is to flip the bits of its binary representation.\n",
    "\n",
    " \n",
    "\n",
    "# Example 1:\n",
    "\n",
    "# Input: num = 5\n",
    "# Output: 2\n",
    "# Explanation: The binary representation of 5 is 101 (no leading zero bits), and its complement is 010. So you need to output 2.\n",
    "# Example 2:\n",
    "\n",
    "# Input: num = 1\n",
    "# Output: 0\n",
    "# Explanation: The binary representation of 1 is 1 (no leading zero bits), and its complement is 0. So you need to output 0.\n",
    " \n",
    "\n",
    "# Constraints:\n",
    "\n",
    "# The given integer num is guaranteed to fit within the range of a 32-bit signed integer.\n",
    "# num >= 1\n",
    "# You could assume no leading zero bit in the integer’s binary representation.\n",
    "\n",
    "def findComplement(num: int) -> int:\n",
    "    int_num = 0\n",
    "    s='{0:0b}'.format(num)\n",
    "    dict={'0':'1','1':'0'}\n",
    "    output=''.join(dict[x] for x in s)\n",
    "    for i in range(len(output)):\n",
    "        int_num= int_num * 2\n",
    "        int_num = int_num + int(output[i])\n",
    "    return int_num\n",
    "#     numb = bytearray(str(num), 'utf-8')\n",
    "#     print(numb)\n",
    "#     i = 0\n",
    "#     while(i<len(numb)):\n",
    "#         if numb[i] == ord(\"0\"):\n",
    "#             numb[i] = ord(\"1\")\n",
    "#         else:\n",
    "#             numb[i] = ord(\"0\")\n",
    "#         i=i+1\n",
    "#     return int(numb)"
   ]
  },
  {
   "cell_type": "code",
   "execution_count": 233,
   "metadata": {},
   "outputs": [],
   "source": [
    "#Binary Representation\n",
    "#'{0:08b}'.format(6)\n",
    "# '00000110'\n",
    "# Just to explain the parts of the formatting string:\n",
    "\n",
    "# {} places a variable into a string\n",
    "# 0 takes the variable at argument position 0\n",
    "# : adds formatting options for this variable (otherwise it would represent decimal 6)\n",
    "# 08 formats the number to eight digits zero-padded on the left\n",
    "# b converts the number to its binary representation\n",
    "     "
   ]
  },
  {
   "cell_type": "code",
   "execution_count": 234,
   "metadata": {},
   "outputs": [],
   "source": [
    "x=int('{0:0b}'.format(5))"
   ]
  },
  {
   "cell_type": "code",
   "execution_count": 235,
   "metadata": {},
   "outputs": [
    {
     "data": {
      "text/plain": [
       "2"
      ]
     },
     "execution_count": 235,
     "metadata": {},
     "output_type": "execute_result"
    }
   ],
   "source": [
    "findComplement(5)"
   ]
  },
  {
   "cell_type": "code",
   "execution_count": 322,
   "metadata": {},
   "outputs": [],
   "source": [
    "# Given a string, find the first non-repeating character in it and return its index. If it doesn't exist, return -1.\n",
    "\n",
    "# Examples:\n",
    "\n",
    "# s = \"leetcode\"\n",
    "# return 0.\n",
    "\n",
    "# s = \"loveleetcode\"\n",
    "# return 2.\n",
    " \n",
    "\n",
    "# Note: You may assume the string contains only lowercase English letters.\n",
    "#First Unique Character in a String\n",
    "def firstUniqChar(s: str) -> int:\n",
    "    #     dict={}\n",
    "    for i in range(len(s)):\n",
    "        x=s.count(s[i])\n",
    "        if x <= 1:\n",
    "            \n",
    "            return (i)\n",
    "            break\n",
    " \n",
    "    return -1\n",
    "            \n",
    "#         y=s[i]\n",
    "#         dict.update({y:x})\n",
    "    \n",
    "#     for key,values in dict.items():\n",
    "#         if values <= 1:\n",
    "#             for\n",
    "            \n",
    "        "
   ]
  },
  {
   "cell_type": "code",
   "execution_count": 325,
   "metadata": {},
   "outputs": [],
   "source": [
    "x=firstUniqChar('')"
   ]
  },
  {
   "cell_type": "code",
   "execution_count": 326,
   "metadata": {},
   "outputs": [
    {
     "data": {
      "text/plain": [
       "-1"
      ]
     },
     "execution_count": 326,
     "metadata": {},
     "output_type": "execute_result"
    }
   ],
   "source": [
    "x"
   ]
  },
  {
   "cell_type": "code",
   "execution_count": 359,
   "metadata": {},
   "outputs": [],
   "source": [
    "# Given an array of size n, find the majority element. The majority element is the element that appears more than ⌊ n/2 ⌋ times.\n",
    "\n",
    "# You may assume that the array is non-empty and the majority element always exist in the array.\n",
    "#Majority Element\n",
    "def majorityElement(nums) -> int:\n",
    "    x=len(nums)\n",
    "\n",
    "    for i in set(nums):\n",
    "        \n",
    "        y=nums.count(i)\n",
    "        if y > x/2:\n",
    "            return i\n",
    "       \n"
   ]
  },
  {
   "cell_type": "code",
   "execution_count": 360,
   "metadata": {},
   "outputs": [
    {
     "data": {
      "text/plain": [
       "3"
      ]
     },
     "execution_count": 360,
     "metadata": {},
     "output_type": "execute_result"
    }
   ],
   "source": [
    "majorityElement([3,2,3])"
   ]
  },
  {
   "cell_type": "code",
   "execution_count": null,
   "metadata": {},
   "outputs": [],
   "source": [
    "# Given a positive integer num, write a function which returns True if num is a perfect square else False.\n",
    "\n",
    "# Follow up: Do not use any built-in library function such as sqrt.\n",
    "\n",
    " \n",
    "\n",
    "# Example 1:\n",
    "\n",
    "# Input: num = 16\n",
    "# Output: true\n",
    "# Example 2:\n",
    "\n",
    "# Input: num = 14\n",
    "# Output: false\n",
    " \n",
    "\n",
    "# Constraints:\n",
    "\n",
    "# 1 <= num <= 2^31 - 1\n",
    "\n",
    "\n",
    "\n",
    "#perfect square\n",
    "\n",
    "def isPerfectSquare(num: int) -> bool:\n",
    "    x=math.sqrt(num) #gives value with decimal\n",
    "\n",
    "    if x-int(x)==0: #int value of it\n",
    "        return True\n",
    "    else:\n",
    "        False\n"
   ]
  },
  {
   "cell_type": "code",
   "execution_count": null,
   "metadata": {},
   "outputs": [],
   "source": [
    "# You are given a sorted array consisting of only integers where every element appears exactly twice, except for one element which appears exactly once. Find this single element that appears only once.\n",
    "\n",
    "# Follow up: Your solution should run in O(log n) time and O(1) space.\n",
    "\n",
    " \n",
    "\n",
    "# Example 1:\n",
    "\n",
    "# Input: nums = [1,1,2,3,3,4,4,8,8]\n",
    "# Output: 2\n",
    "# Example 2:\n",
    "\n",
    "# Input: nums = [3,3,7,7,10,11,11]\n",
    "# Output: 10\n",
    " \n",
    "\n",
    "# Constraints:\n",
    "\n",
    "# 1 <= nums.length <= 10^5\n",
    "# 0 <= nums[i] <= 10^5"
   ]
  },
  {
   "cell_type": "code",
   "execution_count": 368,
   "metadata": {},
   "outputs": [],
   "source": [
    "#single element in sorted array\n",
    "def singleNonDuplicate(nums) -> int:\n",
    "    for i in set(nums):\n",
    "        if nums.count(i)<2:\n",
    "            return i\n",
    "        \n",
    "#single element in sorted array\n",
    "def singleNonDup(nums) -> int:\n",
    "    for i in set(nums):\n",
    "        if nums.count(i)<2:\n",
    "            return i\n",
    "        \n"
   ]
  },
  {
   "cell_type": "code",
   "execution_count": 369,
   "metadata": {},
   "outputs": [
    {
     "data": {
      "text/plain": [
       "10"
      ]
     },
     "execution_count": 369,
     "metadata": {},
     "output_type": "execute_result"
    }
   ],
   "source": [
    "singleNonDuplicate([3,3,7,7,10,11,11])"
   ]
  },
  {
   "cell_type": "code",
   "execution_count": 684,
   "metadata": {},
   "outputs": [],
   "source": [
    "import math\n",
    "def distance(a,b):\n",
    "    x=math.sqrt((b[0]-a[0])**2+(b[1]-a[1])**2)\n",
    "    return x\n",
    "\n",
    "def checkStraightLine(coordinates) -> bool:\n",
    "    count=0\n",
    "    for i in range(len(coordinates)-1):\n",
    "        x=coordinates[i-1]\n",
    "        y=coordinates[i]\n",
    "        z=coordinates[i+1]\n",
    "        \n",
    "        if ((x[1]-y[1])*(z[0]-y[0])) == ((z[1]-y[1])*(x[0]-y[0])):\n",
    "            count=count+1\n",
    "    print(count)\n",
    "    if count==len(coordinates)-1:\n",
    "        return True\n",
    "    else:\n",
    "        return False\n",
    "#         xy=int(distance(x,y))\n",
    "#         yz=int(distance(y,z))\n",
    "#         zx=int(distance(z,x))\n",
    "        \n",
    "#         print(xy,yz,zx)\n",
    "   \n",
    "        \n",
    "        \n"
   ]
  },
  {
   "cell_type": "code",
   "execution_count": 687,
   "metadata": {},
   "outputs": [
    {
     "name": "stdout",
     "output_type": "stream",
     "text": [
      "2\n"
     ]
    },
    {
     "data": {
      "text/plain": [
       "True"
      ]
     },
     "execution_count": 687,
     "metadata": {},
     "output_type": "execute_result"
    }
   ],
   "source": [
    "checkStraightLine(coordinates)"
   ]
  },
  {
   "cell_type": "code",
   "execution_count": 686,
   "metadata": {},
   "outputs": [],
   "source": [
    "coordinates = [[0,0],[0,1],[0,2]]"
   ]
  },
  {
   "cell_type": "code",
   "execution_count": null,
   "metadata": {},
   "outputs": [],
   "source": [
    "# #town Judge\n",
    "# In a town, there are N people labelled from 1 to N.  There is a rumor that one of these people is secretly the town judge.\n",
    "\n",
    "# If the town judge exists, then:\n",
    "\n",
    "# The town judge trusts nobody.\n",
    "# Everybody (except for the town judge) trusts the town judge.\n",
    "# There is exactly one person that satisfies properties 1 and 2.\n",
    "# You are given trust, an array of pairs trust[i] = [a, b] representing that the person labelled a trusts the person labelled b.\n",
    "\n",
    "# If the town judge exists and can be identified, return the label of the town judge.  Otherwise, return -1.\n",
    "\n",
    " \n",
    "\n",
    "# Example 1:\n",
    "\n",
    "# Input: N = 2, trust = [[1,2]]\n",
    "# Output: 2\n",
    "# Example 2:\n",
    "\n",
    "# Input: N = 3, trust = [[1,3],[2,3]]\n",
    "# Output: 3\n",
    "# Example 3:\n",
    "\n",
    "# Input: N = 3, trust = [[1,3],[2,3],[3,1]]\n",
    "# Output: -1\n",
    "# Example 4:\n",
    "\n",
    "# Input: N = 3, trust = [[1,2],[2,3]]\n",
    "# Output: -1\n",
    "# Example 5:\n",
    "\n",
    "# Input: N = 4, trust = [[1,3],[1,4],[2,3],[2,4],[4,3]]\n",
    "# Output: 3\n",
    " \n",
    "\n",
    "# Constraints:\n",
    "\n",
    "# 1 <= N <= 1000\n",
    "# 0 <= trust.length <= 10^4\n",
    "# trust[i].length == 2\n",
    "# trust[i] are all different\n",
    "# trust[i][0] != trust[i][1]\n",
    "# 1 <= trust[i][0], trust[i][1] <= N"
   ]
  },
  {
   "cell_type": "code",
   "execution_count": 611,
   "metadata": {},
   "outputs": [],
   "source": [
    "#town judge\n",
    "def findJudge(N: int, trust) -> int:\n",
    "    if N==1:\n",
    "            return N\n",
    "    elif len(trust)==1 and N > 1:\n",
    "        return trust[0][1]\n",
    "    else:    \n",
    "        li=[]\n",
    "        for t in trust:\n",
    "            li.append(t[0])\n",
    "        \n",
    "        for i in range(len(trust)-1):\n",
    "            \n",
    "            if ((trust[i][1] not in li) and trust[i][1]!=N-1)  :\n",
    "                if ((trust[i][1]==trust[i-1][1]) and trust[i][1]!=trust[i][0]):\n",
    "                    return trust[i][1]\n",
    "            else:     \n",
    "                return -1"
   ]
  },
  {
   "cell_type": "code",
   "execution_count": 612,
   "metadata": {},
   "outputs": [
    {
     "data": {
      "text/plain": [
       "3"
      ]
     },
     "execution_count": 612,
     "metadata": {},
     "output_type": "execute_result"
    }
   ],
   "source": [
    "x=findJudge(3,([[1,3],[2,3]]))\n",
    "x"
   ]
  },
  {
   "cell_type": "code",
   "execution_count": 545,
   "metadata": {},
   "outputs": [],
   "source": [
    "#town judge\n",
    "def findJudge(N: int, trust) -> int:\n",
    "    if N==1:\n",
    "            return N\n",
    "    elif len(trust)==1 and N > 1:\n",
    "        return trust[0][1]\n",
    "    else:    \n",
    "        dict={}\n",
    "        l=[]\n",
    "        for t in trust:\n",
    "            l.append(t[0])\n",
    "\n",
    "            if t[1] not in dict:\n",
    "                \n",
    "                dict[t[1]]=1\n",
    "            else:\n",
    "                dict[t[1]]+=1\n",
    "        for key in dict:\n",
    "            if dict[key]==N-1 and key not in l:\n",
    "                return key\n",
    "            \n",
    "        return -1\n",
    "        "
   ]
  },
  {
   "cell_type": "code",
   "execution_count": null,
   "metadata": {},
   "outputs": [],
   "source": [
    "# #Implement a trie with insert, search, and startsWith methods.\n",
    "\n",
    "# Example:\n",
    "\n",
    "# Trie trie = new Trie();\n",
    "\n",
    "# trie.insert(\"apple\");\n",
    "# trie.search(\"apple\");   // returns true\n",
    "# trie.search(\"app\");     // returns false\n",
    "# trie.startsWith(\"app\"); // returns true\n",
    "# trie.insert(\"app\");   \n",
    "# trie.search(\"app\");     // returns true\n",
    "# Note:\n",
    "\n",
    "# You may assume that all inputs are consist of lowercase letters a-z.\n",
    "# All inputs are guaranteed to be non-empty strings."
   ]
  },
  {
   "cell_type": "code",
   "execution_count": 691,
   "metadata": {},
   "outputs": [],
   "source": [
    "#Binary Tree in Python:-\n",
    "\n",
    "#for creating a tree with just the root node\n",
    "\n",
    "class Node:\n",
    "    def  __init__(self, data):\n",
    "        self.left=None    #child node\n",
    "        self.right=None    #child node\n",
    "        self.data=data\n",
    "        \n",
    "    def PrintTree(self):\n",
    "        print(self.data)\n",
    "    \n",
    "    \n"
   ]
  },
  {
   "cell_type": "code",
   "execution_count": 692,
   "metadata": {},
   "outputs": [
    {
     "name": "stdout",
     "output_type": "stream",
     "text": [
      "10\n"
     ]
    }
   ],
   "source": [
    "Root=Node(10)\n",
    "Root.PrintTree()"
   ]
  },
  {
   "cell_type": "code",
   "execution_count": null,
   "metadata": {},
   "outputs": [],
   "source": [
    "#Inserting into Tree basically making a tree\n"
   ]
  }
 ],
 "metadata": {
  "kernelspec": {
   "display_name": "Python 3",
   "language": "python",
   "name": "python3"
  },
  "language_info": {
   "codemirror_mode": {
    "name": "ipython",
    "version": 3
   },
   "file_extension": ".py",
   "mimetype": "text/x-python",
   "name": "python",
   "nbconvert_exporter": "python",
   "pygments_lexer": "ipython3",
   "version": "3.6.8"
  }
 },
 "nbformat": 4,
 "nbformat_minor": 2
}
